{
 "cells": [
  {
   "cell_type": "markdown",
   "metadata": {},
   "source": [
    "# Cardiovascular Disease Classification\n",
    "\n",
    "This notebook is going to be looking at the csv file called cardio_dataset. It contains the following columns:  \n",
    "__age__ - original in days (int) will change to years (int)  \n",
    "__height__ - original in cm (int) will change to inches (int)    \n",
    "__weight__ - originally in kg (float) will change to pounds (float)  \n",
    "__gender__ - originally 1 represents women and 2 men (categorical). Will change 2 to 0 to represent men (binary)     \n",
    "__ap_hi__ (Systolic blood pressure) - int   \n",
    "__ap_lo__ (Diastolic blood pressure) - int  \n",
    "__cholestrerol__ - 1: normal, 2: above normal, 3: well above normal  \n",
    "__gluc__ - 1: normal, 2: above normal, 3: well above normal  \n",
    "__smoke__ - binary  \n",
    "__alco__ (alcohol intake) - binary  \n",
    "__active__ (physicl activity) - binary  \n",
    "__cardio__ (cardiovasular disease) - binary   "
   ]
  },
  {
   "cell_type": "code",
   "execution_count": 1,
   "metadata": {},
   "outputs": [],
   "source": [
    "# Import Required Libraries\n",
    "import pandas as pd \n",
    "import matplotlib.pyplot as plt\n",
    "%matplotlib inline"
   ]
  },
  {
   "cell_type": "code",
   "execution_count": 2,
   "metadata": {},
   "outputs": [
    {
     "data": {
      "text/html": [
       "<div>\n",
       "<style scoped>\n",
       "    .dataframe tbody tr th:only-of-type {\n",
       "        vertical-align: middle;\n",
       "    }\n",
       "\n",
       "    .dataframe tbody tr th {\n",
       "        vertical-align: top;\n",
       "    }\n",
       "\n",
       "    .dataframe thead th {\n",
       "        text-align: right;\n",
       "    }\n",
       "</style>\n",
       "<table border=\"1\" class=\"dataframe\">\n",
       "  <thead>\n",
       "    <tr style=\"text-align: right;\">\n",
       "      <th></th>\n",
       "      <th>id</th>\n",
       "      <th>age</th>\n",
       "      <th>gender</th>\n",
       "      <th>height</th>\n",
       "      <th>weight</th>\n",
       "      <th>ap_hi</th>\n",
       "      <th>ap_lo</th>\n",
       "      <th>cholesterol</th>\n",
       "      <th>gluc</th>\n",
       "      <th>smoke</th>\n",
       "      <th>alco</th>\n",
       "      <th>active</th>\n",
       "      <th>cardio</th>\n",
       "    </tr>\n",
       "  </thead>\n",
       "  <tbody>\n",
       "    <tr>\n",
       "      <th>0</th>\n",
       "      <td>0</td>\n",
       "      <td>18393</td>\n",
       "      <td>2</td>\n",
       "      <td>168</td>\n",
       "      <td>62</td>\n",
       "      <td>110</td>\n",
       "      <td>80</td>\n",
       "      <td>1</td>\n",
       "      <td>1</td>\n",
       "      <td>0</td>\n",
       "      <td>0</td>\n",
       "      <td>1</td>\n",
       "      <td>0</td>\n",
       "    </tr>\n",
       "    <tr>\n",
       "      <th>1</th>\n",
       "      <td>1</td>\n",
       "      <td>20228</td>\n",
       "      <td>1</td>\n",
       "      <td>156</td>\n",
       "      <td>85</td>\n",
       "      <td>140</td>\n",
       "      <td>90</td>\n",
       "      <td>3</td>\n",
       "      <td>1</td>\n",
       "      <td>0</td>\n",
       "      <td>0</td>\n",
       "      <td>1</td>\n",
       "      <td>1</td>\n",
       "    </tr>\n",
       "    <tr>\n",
       "      <th>2</th>\n",
       "      <td>2</td>\n",
       "      <td>18857</td>\n",
       "      <td>1</td>\n",
       "      <td>165</td>\n",
       "      <td>64</td>\n",
       "      <td>130</td>\n",
       "      <td>70</td>\n",
       "      <td>3</td>\n",
       "      <td>1</td>\n",
       "      <td>0</td>\n",
       "      <td>0</td>\n",
       "      <td>0</td>\n",
       "      <td>1</td>\n",
       "    </tr>\n",
       "    <tr>\n",
       "      <th>3</th>\n",
       "      <td>3</td>\n",
       "      <td>17623</td>\n",
       "      <td>2</td>\n",
       "      <td>169</td>\n",
       "      <td>82</td>\n",
       "      <td>150</td>\n",
       "      <td>100</td>\n",
       "      <td>1</td>\n",
       "      <td>1</td>\n",
       "      <td>0</td>\n",
       "      <td>0</td>\n",
       "      <td>1</td>\n",
       "      <td>1</td>\n",
       "    </tr>\n",
       "    <tr>\n",
       "      <th>4</th>\n",
       "      <td>4</td>\n",
       "      <td>17474</td>\n",
       "      <td>1</td>\n",
       "      <td>156</td>\n",
       "      <td>56</td>\n",
       "      <td>100</td>\n",
       "      <td>60</td>\n",
       "      <td>1</td>\n",
       "      <td>1</td>\n",
       "      <td>0</td>\n",
       "      <td>0</td>\n",
       "      <td>0</td>\n",
       "      <td>0</td>\n",
       "    </tr>\n",
       "  </tbody>\n",
       "</table>\n",
       "</div>"
      ],
      "text/plain": [
       "   id    age  gender  height  weight  ap_hi  ap_lo  cholesterol  gluc  smoke  \\\n",
       "0   0  18393       2     168      62    110     80            1     1      0   \n",
       "1   1  20228       1     156      85    140     90            3     1      0   \n",
       "2   2  18857       1     165      64    130     70            3     1      0   \n",
       "3   3  17623       2     169      82    150    100            1     1      0   \n",
       "4   4  17474       1     156      56    100     60            1     1      0   \n",
       "\n",
       "   alco  active  cardio  \n",
       "0     0       1       0  \n",
       "1     0       1       1  \n",
       "2     0       0       1  \n",
       "3     0       1       1  \n",
       "4     0       0       0  "
      ]
     },
     "execution_count": 2,
     "metadata": {},
     "output_type": "execute_result"
    }
   ],
   "source": [
    "# import in the csv and view the first 5 elements \n",
    "df = pd.read_csv(\"cardio_dataset.csv\")\n",
    "df.head(5)"
   ]
  },
  {
   "cell_type": "code",
   "execution_count": 3,
   "metadata": {},
   "outputs": [],
   "source": [
    "# remove Id column\n",
    "df.drop(['id'], axis = 1, inplace = True)"
   ]
  },
  {
   "cell_type": "code",
   "execution_count": 4,
   "metadata": {},
   "outputs": [
    {
     "data": {
      "text/plain": [
       "0    50\n",
       "1    55\n",
       "2    51\n",
       "3    48\n",
       "4    47\n",
       "5    60\n",
       "6    60\n",
       "7    61\n",
       "8    48\n",
       "9    54\n",
       "Name: age, dtype: int32"
      ]
     },
     "execution_count": 4,
     "metadata": {},
     "output_type": "execute_result"
    }
   ],
   "source": [
    "# change age into years rather than days (formula: days/365 = years) \n",
    "df['age'] = (df['age']/365).astype(int)\n",
    "df['age'].head(10)"
   ]
  },
  {
   "cell_type": "code",
   "execution_count": 5,
   "metadata": {},
   "outputs": [
    {
     "data": {
      "text/plain": [
       "0    136.69\n",
       "1    187.39\n",
       "2    141.10\n",
       "3    180.78\n",
       "4    123.46\n",
       "5    147.71\n",
       "6    205.03\n",
       "7    209.44\n",
       "8    156.53\n",
       "9    149.91\n",
       "Name: weight, dtype: float64"
      ]
     },
     "execution_count": 5,
     "metadata": {},
     "output_type": "execute_result"
    }
   ],
   "source": [
    "# convert weight to lbs (formula: kg * 2.20462262185 = Ibs)\n",
    "df['weight'] = round(df['weight']*2.20462262185, 2)\n",
    "df['weight'].head(10)"
   ]
  },
  {
   "cell_type": "code",
   "execution_count": 6,
   "metadata": {},
   "outputs": [
    {
     "data": {
      "text/plain": [
       "0    66.0\n",
       "1    61.0\n",
       "2    65.0\n",
       "3    67.0\n",
       "4    61.0\n",
       "5    59.0\n",
       "6    62.0\n",
       "7    70.0\n",
       "8    62.0\n",
       "9    65.0\n",
       "Name: height, dtype: float64"
      ]
     },
     "execution_count": 6,
     "metadata": {},
     "output_type": "execute_result"
    }
   ],
   "source": [
    "# convert height to inches (formula: cm/2.54)\n",
    "df['height'] = round(df['height']/2.54, 0)\n",
    "df['height'].head(10)"
   ]
  },
  {
   "cell_type": "code",
   "execution_count": 7,
   "metadata": {},
   "outputs": [],
   "source": [
    "# make males 0 and keep women as 1 \n",
    "df['gender'].replace({2:0}, inplace = True)"
   ]
  },
  {
   "cell_type": "code",
   "execution_count": 8,
   "metadata": {},
   "outputs": [
    {
     "data": {
      "text/html": [
       "<div>\n",
       "<style scoped>\n",
       "    .dataframe tbody tr th:only-of-type {\n",
       "        vertical-align: middle;\n",
       "    }\n",
       "\n",
       "    .dataframe tbody tr th {\n",
       "        vertical-align: top;\n",
       "    }\n",
       "\n",
       "    .dataframe thead th {\n",
       "        text-align: right;\n",
       "    }\n",
       "</style>\n",
       "<table border=\"1\" class=\"dataframe\">\n",
       "  <thead>\n",
       "    <tr style=\"text-align: right;\">\n",
       "      <th></th>\n",
       "      <th>age</th>\n",
       "      <th>gender</th>\n",
       "      <th>height</th>\n",
       "      <th>weight</th>\n",
       "      <th>ap_hi</th>\n",
       "      <th>ap_lo</th>\n",
       "      <th>cholesterol</th>\n",
       "      <th>gluc</th>\n",
       "      <th>smoke</th>\n",
       "      <th>alco</th>\n",
       "      <th>active</th>\n",
       "      <th>cardio</th>\n",
       "    </tr>\n",
       "  </thead>\n",
       "  <tbody>\n",
       "    <tr>\n",
       "      <th>count</th>\n",
       "      <td>70000.000000</td>\n",
       "      <td>70000.000000</td>\n",
       "      <td>70000.000000</td>\n",
       "      <td>70000.000000</td>\n",
       "      <td>70000.000000</td>\n",
       "      <td>70000.000000</td>\n",
       "      <td>70000.000000</td>\n",
       "      <td>70000.000000</td>\n",
       "      <td>70000.000000</td>\n",
       "      <td>70000.000000</td>\n",
       "      <td>70000.000000</td>\n",
       "      <td>70000.000000</td>\n",
       "    </tr>\n",
       "    <tr>\n",
       "      <th>mean</th>\n",
       "      <td>52.840671</td>\n",
       "      <td>0.650429</td>\n",
       "      <td>64.741786</td>\n",
       "      <td>163.595245</td>\n",
       "      <td>128.817286</td>\n",
       "      <td>96.630414</td>\n",
       "      <td>1.366871</td>\n",
       "      <td>1.226457</td>\n",
       "      <td>0.088129</td>\n",
       "      <td>0.053771</td>\n",
       "      <td>0.803729</td>\n",
       "      <td>0.499700</td>\n",
       "    </tr>\n",
       "    <tr>\n",
       "      <th>std</th>\n",
       "      <td>6.766774</td>\n",
       "      <td>0.476838</td>\n",
       "      <td>3.278625</td>\n",
       "      <td>31.737426</td>\n",
       "      <td>154.011419</td>\n",
       "      <td>188.472530</td>\n",
       "      <td>0.680250</td>\n",
       "      <td>0.572270</td>\n",
       "      <td>0.283484</td>\n",
       "      <td>0.225568</td>\n",
       "      <td>0.397179</td>\n",
       "      <td>0.500003</td>\n",
       "    </tr>\n",
       "    <tr>\n",
       "      <th>min</th>\n",
       "      <td>29.000000</td>\n",
       "      <td>0.000000</td>\n",
       "      <td>22.000000</td>\n",
       "      <td>22.050000</td>\n",
       "      <td>-150.000000</td>\n",
       "      <td>-70.000000</td>\n",
       "      <td>1.000000</td>\n",
       "      <td>1.000000</td>\n",
       "      <td>0.000000</td>\n",
       "      <td>0.000000</td>\n",
       "      <td>0.000000</td>\n",
       "      <td>0.000000</td>\n",
       "    </tr>\n",
       "    <tr>\n",
       "      <th>25%</th>\n",
       "      <td>48.000000</td>\n",
       "      <td>0.000000</td>\n",
       "      <td>63.000000</td>\n",
       "      <td>143.300000</td>\n",
       "      <td>120.000000</td>\n",
       "      <td>80.000000</td>\n",
       "      <td>1.000000</td>\n",
       "      <td>1.000000</td>\n",
       "      <td>0.000000</td>\n",
       "      <td>0.000000</td>\n",
       "      <td>1.000000</td>\n",
       "      <td>0.000000</td>\n",
       "    </tr>\n",
       "    <tr>\n",
       "      <th>50%</th>\n",
       "      <td>53.000000</td>\n",
       "      <td>1.000000</td>\n",
       "      <td>65.000000</td>\n",
       "      <td>158.730000</td>\n",
       "      <td>120.000000</td>\n",
       "      <td>80.000000</td>\n",
       "      <td>1.000000</td>\n",
       "      <td>1.000000</td>\n",
       "      <td>0.000000</td>\n",
       "      <td>0.000000</td>\n",
       "      <td>1.000000</td>\n",
       "      <td>0.000000</td>\n",
       "    </tr>\n",
       "    <tr>\n",
       "      <th>75%</th>\n",
       "      <td>58.000000</td>\n",
       "      <td>1.000000</td>\n",
       "      <td>67.000000</td>\n",
       "      <td>180.780000</td>\n",
       "      <td>140.000000</td>\n",
       "      <td>90.000000</td>\n",
       "      <td>2.000000</td>\n",
       "      <td>1.000000</td>\n",
       "      <td>0.000000</td>\n",
       "      <td>0.000000</td>\n",
       "      <td>1.000000</td>\n",
       "      <td>1.000000</td>\n",
       "    </tr>\n",
       "    <tr>\n",
       "      <th>max</th>\n",
       "      <td>64.000000</td>\n",
       "      <td>1.000000</td>\n",
       "      <td>98.000000</td>\n",
       "      <td>440.920000</td>\n",
       "      <td>16020.000000</td>\n",
       "      <td>11000.000000</td>\n",
       "      <td>3.000000</td>\n",
       "      <td>3.000000</td>\n",
       "      <td>1.000000</td>\n",
       "      <td>1.000000</td>\n",
       "      <td>1.000000</td>\n",
       "      <td>1.000000</td>\n",
       "    </tr>\n",
       "  </tbody>\n",
       "</table>\n",
       "</div>"
      ],
      "text/plain": [
       "                age        gender        height        weight         ap_hi  \\\n",
       "count  70000.000000  70000.000000  70000.000000  70000.000000  70000.000000   \n",
       "mean      52.840671      0.650429     64.741786    163.595245    128.817286   \n",
       "std        6.766774      0.476838      3.278625     31.737426    154.011419   \n",
       "min       29.000000      0.000000     22.000000     22.050000   -150.000000   \n",
       "25%       48.000000      0.000000     63.000000    143.300000    120.000000   \n",
       "50%       53.000000      1.000000     65.000000    158.730000    120.000000   \n",
       "75%       58.000000      1.000000     67.000000    180.780000    140.000000   \n",
       "max       64.000000      1.000000     98.000000    440.920000  16020.000000   \n",
       "\n",
       "              ap_lo   cholesterol          gluc         smoke          alco  \\\n",
       "count  70000.000000  70000.000000  70000.000000  70000.000000  70000.000000   \n",
       "mean      96.630414      1.366871      1.226457      0.088129      0.053771   \n",
       "std      188.472530      0.680250      0.572270      0.283484      0.225568   \n",
       "min      -70.000000      1.000000      1.000000      0.000000      0.000000   \n",
       "25%       80.000000      1.000000      1.000000      0.000000      0.000000   \n",
       "50%       80.000000      1.000000      1.000000      0.000000      0.000000   \n",
       "75%       90.000000      2.000000      1.000000      0.000000      0.000000   \n",
       "max    11000.000000      3.000000      3.000000      1.000000      1.000000   \n",
       "\n",
       "             active        cardio  \n",
       "count  70000.000000  70000.000000  \n",
       "mean       0.803729      0.499700  \n",
       "std        0.397179      0.500003  \n",
       "min        0.000000      0.000000  \n",
       "25%        1.000000      0.000000  \n",
       "50%        1.000000      0.000000  \n",
       "75%        1.000000      1.000000  \n",
       "max        1.000000      1.000000  "
      ]
     },
     "execution_count": 8,
     "metadata": {},
     "output_type": "execute_result"
    }
   ],
   "source": [
    "# describe the dataframe\n",
    "df.describe()"
   ]
  },
  {
   "cell_type": "code",
   "execution_count": 9,
   "metadata": {},
   "outputs": [
    {
     "data": {
      "text/plain": [
       "(70000, 12)"
      ]
     },
     "execution_count": 9,
     "metadata": {},
     "output_type": "execute_result"
    }
   ],
   "source": [
    "df.shape"
   ]
  },
  {
   "cell_type": "code",
   "execution_count": 10,
   "metadata": {},
   "outputs": [
    {
     "name": "stdout",
     "output_type": "stream",
     "text": [
      "What percentage of the data is duplicated:  7.63143\n"
     ]
    }
   ],
   "source": [
    "print('What percentage of the data is duplicated: ', round((len(df)-len(df.drop_duplicates()))/(len(df)) * 100, 5))"
   ]
  },
  {
   "cell_type": "code",
   "execution_count": 11,
   "metadata": {},
   "outputs": [],
   "source": [
    "# removing all duplicates since it would be removing less than 1% of my data \n",
    "df.drop_duplicates(inplace = True)"
   ]
  },
  {
   "cell_type": "code",
   "execution_count": 12,
   "metadata": {},
   "outputs": [
    {
     "data": {
      "text/plain": [
       "(64658, 12)"
      ]
     },
     "execution_count": 12,
     "metadata": {},
     "output_type": "execute_result"
    }
   ],
   "source": [
    "df.shape"
   ]
  },
  {
   "cell_type": "code",
   "execution_count": 13,
   "metadata": {},
   "outputs": [
    {
     "data": {
      "text/plain": [
       "age            0\n",
       "gender         0\n",
       "height         0\n",
       "weight         0\n",
       "ap_hi          0\n",
       "ap_lo          0\n",
       "cholesterol    0\n",
       "gluc           0\n",
       "smoke          0\n",
       "alco           0\n",
       "active         0\n",
       "cardio         0\n",
       "dtype: int64"
      ]
     },
     "execution_count": 13,
     "metadata": {},
     "output_type": "execute_result"
    }
   ],
   "source": [
    "# checking to see if my data contains any missing values \n",
    "df.isnull().sum()"
   ]
  },
  {
   "cell_type": "markdown",
   "metadata": {},
   "source": [
    "## OUTLIER ANALYSIS"
   ]
  },
  {
   "cell_type": "markdown",
   "metadata": {},
   "source": [
    "### Age\n",
    "for the age see the person with the smallest age and the person with the largest age. If the smallest age is 0 or less than 0 then remove it. Also is less than 10 and they have cardiovasular disease then remove because the likelihood of that is extremely low. "
   ]
  },
  {
   "cell_type": "code",
   "execution_count": 14,
   "metadata": {},
   "outputs": [
    {
     "name": "stdout",
     "output_type": "stream",
     "text": [
      "The person with the smallest age in the df is:\n"
     ]
    },
    {
     "data": {
      "text/plain": [
       "29"
      ]
     },
     "execution_count": 14,
     "metadata": {},
     "output_type": "execute_result"
    }
   ],
   "source": [
    "print('The person with the smallest age in the df is:')\n",
    "df['age'].min()"
   ]
  },
  {
   "cell_type": "code",
   "execution_count": 15,
   "metadata": {},
   "outputs": [
    {
     "name": "stdout",
     "output_type": "stream",
     "text": [
      "The person with the largest age in the df is:\n"
     ]
    },
    {
     "data": {
      "text/plain": [
       "64"
      ]
     },
     "execution_count": 15,
     "metadata": {},
     "output_type": "execute_result"
    }
   ],
   "source": [
    "print('The person with the largest age in the df is:')\n",
    "df['age'].max()"
   ]
  },
  {
   "cell_type": "code",
   "execution_count": 16,
   "metadata": {},
   "outputs": [
    {
     "data": {
      "image/png": "[encoded data removed]",
      "text/plain": [
       "<Figure size 432x288 with 1 Axes>"
      ]
     },
     "metadata": {
      "needs_background": "light"
     },
     "output_type": "display_data"
    }
   ],
   "source": [
    "plt.boxplot(df['age'])\n",
    "plt.title('Viewing the 5 number summary of Age')\n",
    "plt.show()"
   ]
  },
  {
   "cell_type": "markdown",
   "metadata": {},
   "source": [
    "since the boxplot showed that the values below 40/39 were outliers I wanted to check what value they had in the cardio column. They all have a 0 which means they don't have a cardiovascular disease which makes sense because of their age. So they wont be removed "
   ]
  },
  {
   "cell_type": "code",
   "execution_count": 17,
   "metadata": {},
   "outputs": [
    {
     "data": {
      "text/html": [
       "<div>\n",
       "<style scoped>\n",
       "    .dataframe tbody tr th:only-of-type {\n",
       "        vertical-align: middle;\n",
       "    }\n",
       "\n",
       "    .dataframe tbody tr th {\n",
       "        vertical-align: top;\n",
       "    }\n",
       "\n",
       "    .dataframe thead th {\n",
       "        text-align: right;\n",
       "    }\n",
       "</style>\n",
       "<table border=\"1\" class=\"dataframe\">\n",
       "  <thead>\n",
       "    <tr style=\"text-align: right;\">\n",
       "      <th></th>\n",
       "      <th>age</th>\n",
       "      <th>gender</th>\n",
       "      <th>height</th>\n",
       "      <th>weight</th>\n",
       "      <th>ap_hi</th>\n",
       "      <th>ap_lo</th>\n",
       "      <th>cholesterol</th>\n",
       "      <th>gluc</th>\n",
       "      <th>smoke</th>\n",
       "      <th>alco</th>\n",
       "      <th>active</th>\n",
       "      <th>cardio</th>\n",
       "    </tr>\n",
       "  </thead>\n",
       "  <tbody>\n",
       "    <tr>\n",
       "      <th>6219</th>\n",
       "      <td>29</td>\n",
       "      <td>1</td>\n",
       "      <td>69.0</td>\n",
       "      <td>130.07</td>\n",
       "      <td>120</td>\n",
       "      <td>80</td>\n",
       "      <td>1</td>\n",
       "      <td>1</td>\n",
       "      <td>0</td>\n",
       "      <td>0</td>\n",
       "      <td>1</td>\n",
       "      <td>0</td>\n",
       "    </tr>\n",
       "    <tr>\n",
       "      <th>22343</th>\n",
       "      <td>29</td>\n",
       "      <td>0</td>\n",
       "      <td>69.0</td>\n",
       "      <td>202.83</td>\n",
       "      <td>100</td>\n",
       "      <td>60</td>\n",
       "      <td>1</td>\n",
       "      <td>1</td>\n",
       "      <td>0</td>\n",
       "      <td>0</td>\n",
       "      <td>1</td>\n",
       "      <td>0</td>\n",
       "    </tr>\n",
       "    <tr>\n",
       "      <th>30666</th>\n",
       "      <td>29</td>\n",
       "      <td>1</td>\n",
       "      <td>63.0</td>\n",
       "      <td>130.07</td>\n",
       "      <td>120</td>\n",
       "      <td>80</td>\n",
       "      <td>1</td>\n",
       "      <td>1</td>\n",
       "      <td>0</td>\n",
       "      <td>0</td>\n",
       "      <td>1</td>\n",
       "      <td>0</td>\n",
       "    </tr>\n",
       "    <tr>\n",
       "      <th>55905</th>\n",
       "      <td>30</td>\n",
       "      <td>1</td>\n",
       "      <td>63.0</td>\n",
       "      <td>130.07</td>\n",
       "      <td>110</td>\n",
       "      <td>70</td>\n",
       "      <td>1</td>\n",
       "      <td>1</td>\n",
       "      <td>0</td>\n",
       "      <td>0</td>\n",
       "      <td>1</td>\n",
       "      <td>0</td>\n",
       "    </tr>\n",
       "    <tr>\n",
       "      <th>14</th>\n",
       "      <td>39</td>\n",
       "      <td>0</td>\n",
       "      <td>71.0</td>\n",
       "      <td>209.44</td>\n",
       "      <td>130</td>\n",
       "      <td>90</td>\n",
       "      <td>1</td>\n",
       "      <td>1</td>\n",
       "      <td>1</td>\n",
       "      <td>1</td>\n",
       "      <td>1</td>\n",
       "      <td>0</td>\n",
       "    </tr>\n",
       "    <tr>\n",
       "      <th>25</th>\n",
       "      <td>39</td>\n",
       "      <td>1</td>\n",
       "      <td>60.0</td>\n",
       "      <td>143.30</td>\n",
       "      <td>130</td>\n",
       "      <td>100</td>\n",
       "      <td>2</td>\n",
       "      <td>1</td>\n",
       "      <td>0</td>\n",
       "      <td>0</td>\n",
       "      <td>1</td>\n",
       "      <td>0</td>\n",
       "    </tr>\n",
       "    <tr>\n",
       "      <th>28</th>\n",
       "      <td>39</td>\n",
       "      <td>0</td>\n",
       "      <td>65.0</td>\n",
       "      <td>145.51</td>\n",
       "      <td>120</td>\n",
       "      <td>80</td>\n",
       "      <td>1</td>\n",
       "      <td>1</td>\n",
       "      <td>0</td>\n",
       "      <td>0</td>\n",
       "      <td>1</td>\n",
       "      <td>0</td>\n",
       "    </tr>\n",
       "    <tr>\n",
       "      <th>53</th>\n",
       "      <td>39</td>\n",
       "      <td>1</td>\n",
       "      <td>65.0</td>\n",
       "      <td>169.76</td>\n",
       "      <td>135</td>\n",
       "      <td>90</td>\n",
       "      <td>3</td>\n",
       "      <td>3</td>\n",
       "      <td>0</td>\n",
       "      <td>0</td>\n",
       "      <td>1</td>\n",
       "      <td>1</td>\n",
       "    </tr>\n",
       "    <tr>\n",
       "      <th>106</th>\n",
       "      <td>39</td>\n",
       "      <td>0</td>\n",
       "      <td>64.0</td>\n",
       "      <td>132.28</td>\n",
       "      <td>120</td>\n",
       "      <td>80</td>\n",
       "      <td>2</td>\n",
       "      <td>1</td>\n",
       "      <td>0</td>\n",
       "      <td>0</td>\n",
       "      <td>1</td>\n",
       "      <td>1</td>\n",
       "    </tr>\n",
       "    <tr>\n",
       "      <th>107</th>\n",
       "      <td>39</td>\n",
       "      <td>0</td>\n",
       "      <td>65.0</td>\n",
       "      <td>105.82</td>\n",
       "      <td>110</td>\n",
       "      <td>70</td>\n",
       "      <td>1</td>\n",
       "      <td>2</td>\n",
       "      <td>1</td>\n",
       "      <td>1</td>\n",
       "      <td>1</td>\n",
       "      <td>1</td>\n",
       "    </tr>\n",
       "  </tbody>\n",
       "</table>\n",
       "</div>"
      ],
      "text/plain": [
       "       age  gender  height  weight  ap_hi  ap_lo  cholesterol  gluc  smoke  \\\n",
       "6219    29       1    69.0  130.07    120     80            1     1      0   \n",
       "22343   29       0    69.0  202.83    100     60            1     1      0   \n",
       "30666   29       1    63.0  130.07    120     80            1     1      0   \n",
       "55905   30       1    63.0  130.07    110     70            1     1      0   \n",
       "14      39       0    71.0  209.44    130     90            1     1      1   \n",
       "25      39       1    60.0  143.30    130    100            2     1      0   \n",
       "28      39       0    65.0  145.51    120     80            1     1      0   \n",
       "53      39       1    65.0  169.76    135     90            3     3      0   \n",
       "106     39       0    64.0  132.28    120     80            2     1      0   \n",
       "107     39       0    65.0  105.82    110     70            1     2      1   \n",
       "\n",
       "       alco  active  cardio  \n",
       "6219      0       1       0  \n",
       "22343     0       1       0  \n",
       "30666     0       1       0  \n",
       "55905     0       1       0  \n",
       "14        1       1       0  \n",
       "25        0       1       0  \n",
       "28        0       1       0  \n",
       "53        0       1       1  \n",
       "106       0       1       1  \n",
       "107       1       1       1  "
      ]
     },
     "execution_count": 17,
     "metadata": {},
     "output_type": "execute_result"
    }
   ],
   "source": [
    "df.nsmallest(10, ['age'])"
   ]
  },
  {
   "cell_type": "markdown",
   "metadata": {},
   "source": [
    "### Gender\n",
    "This feature tells me if the person is male or female. 1 represents the female and 0 represents the males in the dataset. I am going to be checking to make sure that the values are only 1 and 0 in the dataset for this feature. Also making sure their isn't an only 10 or 20 values for males or females. If there happens to be a way too big of an majority for one gender than remove the other. "
   ]
  },
  {
   "cell_type": "code",
   "execution_count": 18,
   "metadata": {},
   "outputs": [
    {
     "data": {
      "text/plain": [
       "1    41383\n",
       "0    23275\n",
       "Name: gender, dtype: int64"
      ]
     },
     "execution_count": 18,
     "metadata": {},
     "output_type": "execute_result"
    }
   ],
   "source": [
    "# check to see if gender only has two values (0 and 1)\n",
    "df['gender'].value_counts(dropna = False)"
   ]
  },
  {
   "cell_type": "markdown",
   "metadata": {},
   "source": [
    "### Height (in feet)\n",
    "For height check the make sure the smallest height and largest height make sense.  \n",
    "\n",
    "The following information was obtained from the sites listed below:   \n",
    "1) https://www.healthline.com/health/average-height-for-men#u.s.-height  \n",
    "2) https://www.healthline.com/health/womens-health/average-height-for-women#:~:text=How%20tall%20are%20American%20women,average%20weight%20is%20170.6%20pounds.   \n",
    "\n",
    "\n",
    "__For women__:    \n",
    "The average height for a women in the US is 5ft'4in. So I am going to make the lowest height for a female 5ft. In inches 5ft is 60 inches. For the largest height make sure it is less than 6 ft because in the US less than 1% of females are above 6 ft. In inches 6ft is 72 inches.   \n",
    "\n",
    "Since too many females were less than 5 ft I couldn't use that as my lowest height, So instead I choose 4'8. In inches that is 56 inches.\n",
    "\n",
    "__For male__:  \n",
    "The average height for a male in the US is 5ft'9in. Get rid of all the heights for male that are below 5ft'4in, in inches that would be 64 inches. But also make sure that the amount of rows you are going to get rid of isn't too many. For the largest height make sure it is less than 7ft because about 14.5% of males are above 6ft so we want to include them but it is highly unlikely someone above 6ft took part in this study. Someone who is 7ft is 84 inches. So keep everyone less than 84 inches.  \n",
    "\n",
    "Since too many males were less than 5ft'4in (64 inches) I couldn't use that as my lowest height. So instead I choose 5ft'2in (62 inches)."
   ]
  },
  {
   "cell_type": "code",
   "execution_count": 19,
   "metadata": {},
   "outputs": [
    {
     "data": {
      "text/html": [
       "<div>\n",
       "<style scoped>\n",
       "    .dataframe tbody tr th:only-of-type {\n",
       "        vertical-align: middle;\n",
       "    }\n",
       "\n",
       "    .dataframe tbody tr th {\n",
       "        vertical-align: top;\n",
       "    }\n",
       "\n",
       "    .dataframe thead th {\n",
       "        text-align: right;\n",
       "    }\n",
       "</style>\n",
       "<table border=\"1\" class=\"dataframe\">\n",
       "  <thead>\n",
       "    <tr style=\"text-align: right;\">\n",
       "      <th></th>\n",
       "      <th>age</th>\n",
       "      <th>gender</th>\n",
       "      <th>height</th>\n",
       "      <th>weight</th>\n",
       "      <th>ap_hi</th>\n",
       "      <th>ap_lo</th>\n",
       "      <th>cholesterol</th>\n",
       "      <th>gluc</th>\n",
       "      <th>smoke</th>\n",
       "      <th>alco</th>\n",
       "      <th>active</th>\n",
       "      <th>cardio</th>\n",
       "    </tr>\n",
       "  </thead>\n",
       "  <tbody>\n",
       "    <tr>\n",
       "      <th>22723</th>\n",
       "      <td>64</td>\n",
       "      <td>1</td>\n",
       "      <td>22.0</td>\n",
       "      <td>178.57</td>\n",
       "      <td>130</td>\n",
       "      <td>90</td>\n",
       "      <td>1</td>\n",
       "      <td>1</td>\n",
       "      <td>0</td>\n",
       "      <td>0</td>\n",
       "      <td>1</td>\n",
       "      <td>1</td>\n",
       "    </tr>\n",
       "    <tr>\n",
       "      <th>66643</th>\n",
       "      <td>51</td>\n",
       "      <td>1</td>\n",
       "      <td>22.0</td>\n",
       "      <td>134.48</td>\n",
       "      <td>130</td>\n",
       "      <td>90</td>\n",
       "      <td>1</td>\n",
       "      <td>1</td>\n",
       "      <td>0</td>\n",
       "      <td>0</td>\n",
       "      <td>1</td>\n",
       "      <td>1</td>\n",
       "    </tr>\n",
       "    <tr>\n",
       "      <th>64115</th>\n",
       "      <td>50</td>\n",
       "      <td>1</td>\n",
       "      <td>23.0</td>\n",
       "      <td>127.87</td>\n",
       "      <td>125</td>\n",
       "      <td>67</td>\n",
       "      <td>1</td>\n",
       "      <td>1</td>\n",
       "      <td>0</td>\n",
       "      <td>0</td>\n",
       "      <td>0</td>\n",
       "      <td>0</td>\n",
       "    </tr>\n",
       "    <tr>\n",
       "      <th>29157</th>\n",
       "      <td>52</td>\n",
       "      <td>1</td>\n",
       "      <td>24.0</td>\n",
       "      <td>152.12</td>\n",
       "      <td>110</td>\n",
       "      <td>70</td>\n",
       "      <td>1</td>\n",
       "      <td>1</td>\n",
       "      <td>0</td>\n",
       "      <td>0</td>\n",
       "      <td>0</td>\n",
       "      <td>0</td>\n",
       "    </tr>\n",
       "    <tr>\n",
       "      <th>27603</th>\n",
       "      <td>57</td>\n",
       "      <td>1</td>\n",
       "      <td>25.0</td>\n",
       "      <td>134.48</td>\n",
       "      <td>130</td>\n",
       "      <td>70</td>\n",
       "      <td>1</td>\n",
       "      <td>1</td>\n",
       "      <td>0</td>\n",
       "      <td>0</td>\n",
       "      <td>1</td>\n",
       "      <td>0</td>\n",
       "    </tr>\n",
       "  </tbody>\n",
       "</table>\n",
       "</div>"
      ],
      "text/plain": [
       "       age  gender  height  weight  ap_hi  ap_lo  cholesterol  gluc  smoke  \\\n",
       "22723   64       1    22.0  178.57    130     90            1     1      0   \n",
       "66643   51       1    22.0  134.48    130     90            1     1      0   \n",
       "64115   50       1    23.0  127.87    125     67            1     1      0   \n",
       "29157   52       1    24.0  152.12    110     70            1     1      0   \n",
       "27603   57       1    25.0  134.48    130     70            1     1      0   \n",
       "\n",
       "       alco  active  cardio  \n",
       "22723     0       1       1  \n",
       "66643     0       1       1  \n",
       "64115     0       0       0  \n",
       "29157     0       0       0  \n",
       "27603     0       1       0  "
      ]
     },
     "execution_count": 19,
     "metadata": {},
     "output_type": "execute_result"
    }
   ],
   "source": [
    "# check to see the smallest height (feet)\n",
    "df.nsmallest(5, ['height'])"
   ]
  },
  {
   "cell_type": "code",
   "execution_count": 20,
   "metadata": {},
   "outputs": [
    {
     "data": {
      "text/html": [
       "<div>\n",
       "<style scoped>\n",
       "    .dataframe tbody tr th:only-of-type {\n",
       "        vertical-align: middle;\n",
       "    }\n",
       "\n",
       "    .dataframe tbody tr th {\n",
       "        vertical-align: top;\n",
       "    }\n",
       "\n",
       "    .dataframe thead th {\n",
       "        text-align: right;\n",
       "    }\n",
       "</style>\n",
       "<table border=\"1\" class=\"dataframe\">\n",
       "  <thead>\n",
       "    <tr style=\"text-align: right;\">\n",
       "      <th></th>\n",
       "      <th>age</th>\n",
       "      <th>gender</th>\n",
       "      <th>height</th>\n",
       "      <th>weight</th>\n",
       "      <th>ap_hi</th>\n",
       "      <th>ap_lo</th>\n",
       "      <th>cholesterol</th>\n",
       "      <th>gluc</th>\n",
       "      <th>smoke</th>\n",
       "      <th>alco</th>\n",
       "      <th>active</th>\n",
       "      <th>cardio</th>\n",
       "    </tr>\n",
       "  </thead>\n",
       "  <tbody>\n",
       "    <tr>\n",
       "      <th>6486</th>\n",
       "      <td>58</td>\n",
       "      <td>1</td>\n",
       "      <td>98.0</td>\n",
       "      <td>189.60</td>\n",
       "      <td>140</td>\n",
       "      <td>100</td>\n",
       "      <td>3</td>\n",
       "      <td>1</td>\n",
       "      <td>0</td>\n",
       "      <td>0</td>\n",
       "      <td>1</td>\n",
       "      <td>1</td>\n",
       "    </tr>\n",
       "    <tr>\n",
       "      <th>21628</th>\n",
       "      <td>52</td>\n",
       "      <td>0</td>\n",
       "      <td>81.0</td>\n",
       "      <td>171.96</td>\n",
       "      <td>100</td>\n",
       "      <td>70</td>\n",
       "      <td>1</td>\n",
       "      <td>1</td>\n",
       "      <td>0</td>\n",
       "      <td>1</td>\n",
       "      <td>1</td>\n",
       "      <td>0</td>\n",
       "    </tr>\n",
       "    <tr>\n",
       "      <th>41901</th>\n",
       "      <td>52</td>\n",
       "      <td>0</td>\n",
       "      <td>79.0</td>\n",
       "      <td>220.46</td>\n",
       "      <td>170</td>\n",
       "      <td>1100</td>\n",
       "      <td>2</td>\n",
       "      <td>2</td>\n",
       "      <td>0</td>\n",
       "      <td>0</td>\n",
       "      <td>1</td>\n",
       "      <td>1</td>\n",
       "    </tr>\n",
       "    <tr>\n",
       "      <th>1117</th>\n",
       "      <td>60</td>\n",
       "      <td>0</td>\n",
       "      <td>78.0</td>\n",
       "      <td>149.91</td>\n",
       "      <td>120</td>\n",
       "      <td>80</td>\n",
       "      <td>1</td>\n",
       "      <td>1</td>\n",
       "      <td>0</td>\n",
       "      <td>0</td>\n",
       "      <td>1</td>\n",
       "      <td>1</td>\n",
       "    </tr>\n",
       "    <tr>\n",
       "      <th>3237</th>\n",
       "      <td>44</td>\n",
       "      <td>0</td>\n",
       "      <td>78.0</td>\n",
       "      <td>134.48</td>\n",
       "      <td>110</td>\n",
       "      <td>70</td>\n",
       "      <td>1</td>\n",
       "      <td>1</td>\n",
       "      <td>0</td>\n",
       "      <td>0</td>\n",
       "      <td>1</td>\n",
       "      <td>1</td>\n",
       "    </tr>\n",
       "  </tbody>\n",
       "</table>\n",
       "</div>"
      ],
      "text/plain": [
       "       age  gender  height  weight  ap_hi  ap_lo  cholesterol  gluc  smoke  \\\n",
       "6486    58       1    98.0  189.60    140    100            3     1      0   \n",
       "21628   52       0    81.0  171.96    100     70            1     1      0   \n",
       "41901   52       0    79.0  220.46    170   1100            2     2      0   \n",
       "1117    60       0    78.0  149.91    120     80            1     1      0   \n",
       "3237    44       0    78.0  134.48    110     70            1     1      0   \n",
       "\n",
       "       alco  active  cardio  \n",
       "6486      0       1       1  \n",
       "21628     1       1       0  \n",
       "41901     0       1       1  \n",
       "1117      0       1       1  \n",
       "3237      0       1       1  "
      ]
     },
     "execution_count": 20,
     "metadata": {},
     "output_type": "execute_result"
    }
   ],
   "source": [
    "# check to see the largest height (feet) \n",
    "df.nlargest(5, ['height'])"
   ]
  },
  {
   "cell_type": "code",
   "execution_count": 21,
   "metadata": {},
   "outputs": [
    {
     "name": "stdout",
     "output_type": "stream",
     "text": [
      "What percentage of females have a height below 5 ft(60 inches):  4.64 %\n"
     ]
    }
   ],
   "source": [
    "# how many females heights are less than 5 ft (60 inches)\n",
    "f_below_five = len(df[(df['height'] < 60 ) & (df['gender'] == 1)]) # 86 rows \n",
    "print(\"What percentage of females have a height below 5 ft(60 inches): \",round((f_below_five / len(df)) * 100, 2), '%')"
   ]
  },
  {
   "cell_type": "code",
   "execution_count": 22,
   "metadata": {},
   "outputs": [
    {
     "name": "stdout",
     "output_type": "stream",
     "text": [
      "What percentage of females have a height below 4ft'8in (56 inches):  0.22 %\n"
     ]
    }
   ],
   "source": [
    "# Try to see how many females are below 4ft'8in(56 inches). Because too many are around 5ft \n",
    "f_below_four = len(df[(df['height'] < 56 ) & (df['gender'] == 1)]) # 86 rows \n",
    "print(\"What percentage of females have a height below 4ft'8in (56 inches): \",round((f_below_four / len(df)) * 100, 2), '%')"
   ]
  },
  {
   "cell_type": "code",
   "execution_count": 23,
   "metadata": {},
   "outputs": [
    {
     "name": "stdout",
     "output_type": "stream",
     "text": [
      "What percentage of males have a height below 5ft'4in (64 inches):  3.67 %\n"
     ]
    }
   ],
   "source": [
    "# how many males heights are less than 5ft'4in (64 inches)\n",
    "m_below_six = len(df[(df['height'] < 64) & (df['gender'] == 0)])\n",
    "print(\"What percentage of males have a height below 5ft'4in (64 inches): \", round((m_below_six/len(df))*100, 2), '%')"
   ]
  },
  {
   "cell_type": "code",
   "execution_count": 24,
   "metadata": {},
   "outputs": [
    {
     "name": "stdout",
     "output_type": "stream",
     "text": [
      "What percentage of males have a height below 5ft'2in (62 inches):  0.93 %\n"
     ]
    }
   ],
   "source": [
    "# Try to see how many males are below 5ft'2in(62 inches). Because too many are around 5ft'4in\n",
    "m_below_six = len(df[(df['height'] < 62) & (df['gender'] == 0)])\n",
    "print(\"What percentage of males have a height below 5ft'2in (62 inches): \", round((m_below_six/len(df))*100, 2), '%')"
   ]
  },
  {
   "cell_type": "markdown",
   "metadata": {},
   "source": [
    "Removing heights of those people below 4ft'8in for females and below 5ft'2in for males. The reason for that is because in total they make up around 1% of the data and I am okay will removing that many values. "
   ]
  },
  {
   "cell_type": "code",
   "execution_count": 25,
   "metadata": {},
   "outputs": [],
   "source": [
    "# remove the rows of females with height less than 4ft'8in (56 inches) \n",
    "df.drop(df[(df['height'] < 56) & (df['gender'] == 1)].index, inplace = True)"
   ]
  },
  {
   "cell_type": "code",
   "execution_count": 26,
   "metadata": {},
   "outputs": [],
   "source": [
    "# remove the rows of males with height less than 5.2 ft (62 inches)\n",
    "df.drop(df[(df['height'] < 62) & (df['gender'] == 0)].index, inplace = True)"
   ]
  },
  {
   "cell_type": "code",
   "execution_count": 27,
   "metadata": {},
   "outputs": [],
   "source": [
    "# since only 1 person has a height above 7 ft it is okay to remove that row (84 inches)\n",
    "df.drop(df[df['height']> 84].index, inplace = True)"
   ]
  },
  {
   "cell_type": "code",
   "execution_count": 28,
   "metadata": {},
   "outputs": [
    {
     "data": {
      "text/plain": [
       "56.0"
      ]
     },
     "execution_count": 28,
     "metadata": {},
     "output_type": "execute_result"
    }
   ],
   "source": [
    "# making sure the drop worked \n",
    "df['height'].min()"
   ]
  },
  {
   "cell_type": "code",
   "execution_count": 29,
   "metadata": {},
   "outputs": [
    {
     "data": {
      "text/plain": [
       "81.0"
      ]
     },
     "execution_count": 29,
     "metadata": {},
     "output_type": "execute_result"
    }
   ],
   "source": [
    "# making sure the largest value isn't above 7 ft \n",
    "df['height'].max()"
   ]
  },
  {
   "cell_type": "code",
   "execution_count": 30,
   "metadata": {},
   "outputs": [
    {
     "data": {
      "image/png": "[encoded data removed]",
      "text/plain": [
       "<Figure size 432x288 with 1 Axes>"
      ]
     },
     "metadata": {
      "needs_background": "light"
     },
     "output_type": "display_data"
    }
   ],
   "source": [
    "# keeping the 6 ft because they aren't really outliers\n",
    "plt.boxplot(df['height'])\n",
    "plt.title('Viewing the 5 number summary of Height')\n",
    "plt.show()"
   ]
  },
  {
   "cell_type": "markdown",
   "metadata": {},
   "source": [
    "### Weight (in pounds)\n",
    "\n",
    "For weight check the smallest and largest values. Make sure that the values make sense.  \n",
    "\n",
    "The following information was obtained from the site listed below:   \n",
    "1) https://www.multicare.org/rockwood-clinic-services-bariatrics-bmi/  \n",
    "\n",
    "__For female__:  \n",
    "For women since the smallest height is 4'8 ft in the df. The ideal weight for that height is 70 Ibs and higher. I will only keep the weight of the individuals whos weight is __60 Ibs__ and higher to include underweight individuals as well. Also before getting rid of the rows need to make sure that we are getting rid of too many values. \n",
    "\n",
    "__For male__:  \n",
    "For male since the smallest height is 5'2ft in the df. The ideal weight for a male of that height is 102 Ibs and higher. I will only keep the weight of the individuals whos weight is __90 Ibs__ and higher to include underweight individuals as well. Also before getting rid of the rows need to make sure that we are getting rid of too many values. "
   ]
  },
  {
   "cell_type": "code",
   "execution_count": 31,
   "metadata": {},
   "outputs": [
    {
     "name": "stdout",
     "output_type": "stream",
     "text": [
      "The minimum weight is:  22.05\n"
     ]
    }
   ],
   "source": [
    "print('The minimum weight is: ', df['weight'].min())"
   ]
  },
  {
   "cell_type": "code",
   "execution_count": 32,
   "metadata": {},
   "outputs": [
    {
     "name": "stdout",
     "output_type": "stream",
     "text": [
      "The maximum weight is:  440.92\n"
     ]
    }
   ],
   "source": [
    "print('The maximum weight is: ', df['weight'].max())"
   ]
  },
  {
   "cell_type": "code",
   "execution_count": 33,
   "metadata": {},
   "outputs": [
    {
     "data": {
      "text/html": [
       "<div>\n",
       "<style scoped>\n",
       "    .dataframe tbody tr th:only-of-type {\n",
       "        vertical-align: middle;\n",
       "    }\n",
       "\n",
       "    .dataframe tbody tr th {\n",
       "        vertical-align: top;\n",
       "    }\n",
       "\n",
       "    .dataframe thead th {\n",
       "        text-align: right;\n",
       "    }\n",
       "</style>\n",
       "<table border=\"1\" class=\"dataframe\">\n",
       "  <thead>\n",
       "    <tr style=\"text-align: right;\">\n",
       "      <th></th>\n",
       "      <th>age</th>\n",
       "      <th>gender</th>\n",
       "      <th>height</th>\n",
       "      <th>weight</th>\n",
       "      <th>ap_hi</th>\n",
       "      <th>ap_lo</th>\n",
       "      <th>cholesterol</th>\n",
       "      <th>gluc</th>\n",
       "      <th>smoke</th>\n",
       "      <th>alco</th>\n",
       "      <th>active</th>\n",
       "      <th>cardio</th>\n",
       "    </tr>\n",
       "  </thead>\n",
       "  <tbody>\n",
       "    <tr>\n",
       "      <th>57858</th>\n",
       "      <td>51</td>\n",
       "      <td>0</td>\n",
       "      <td>65.0</td>\n",
       "      <td>22.05</td>\n",
       "      <td>180</td>\n",
       "      <td>1100</td>\n",
       "      <td>2</td>\n",
       "      <td>2</td>\n",
       "      <td>0</td>\n",
       "      <td>0</td>\n",
       "      <td>1</td>\n",
       "      <td>1</td>\n",
       "    </tr>\n",
       "    <tr>\n",
       "      <th>33817</th>\n",
       "      <td>59</td>\n",
       "      <td>0</td>\n",
       "      <td>70.0</td>\n",
       "      <td>24.25</td>\n",
       "      <td>130</td>\n",
       "      <td>90</td>\n",
       "      <td>1</td>\n",
       "      <td>1</td>\n",
       "      <td>0</td>\n",
       "      <td>0</td>\n",
       "      <td>1</td>\n",
       "      <td>1</td>\n",
       "    </tr>\n",
       "    <tr>\n",
       "      <th>60188</th>\n",
       "      <td>59</td>\n",
       "      <td>1</td>\n",
       "      <td>64.0</td>\n",
       "      <td>46.30</td>\n",
       "      <td>120</td>\n",
       "      <td>80</td>\n",
       "      <td>2</td>\n",
       "      <td>1</td>\n",
       "      <td>0</td>\n",
       "      <td>0</td>\n",
       "      <td>1</td>\n",
       "      <td>1</td>\n",
       "    </tr>\n",
       "    <tr>\n",
       "      <th>29488</th>\n",
       "      <td>55</td>\n",
       "      <td>0</td>\n",
       "      <td>70.0</td>\n",
       "      <td>48.50</td>\n",
       "      <td>120</td>\n",
       "      <td>80</td>\n",
       "      <td>1</td>\n",
       "      <td>1</td>\n",
       "      <td>1</td>\n",
       "      <td>1</td>\n",
       "      <td>1</td>\n",
       "      <td>0</td>\n",
       "    </tr>\n",
       "    <tr>\n",
       "      <th>26806</th>\n",
       "      <td>63</td>\n",
       "      <td>1</td>\n",
       "      <td>62.0</td>\n",
       "      <td>50.71</td>\n",
       "      <td>110</td>\n",
       "      <td>80</td>\n",
       "      <td>1</td>\n",
       "      <td>1</td>\n",
       "      <td>0</td>\n",
       "      <td>0</td>\n",
       "      <td>1</td>\n",
       "      <td>0</td>\n",
       "    </tr>\n",
       "    <tr>\n",
       "      <th>60699</th>\n",
       "      <td>51</td>\n",
       "      <td>1</td>\n",
       "      <td>67.0</td>\n",
       "      <td>63.93</td>\n",
       "      <td>110</td>\n",
       "      <td>70</td>\n",
       "      <td>2</td>\n",
       "      <td>1</td>\n",
       "      <td>0</td>\n",
       "      <td>0</td>\n",
       "      <td>1</td>\n",
       "      <td>1</td>\n",
       "    </tr>\n",
       "    <tr>\n",
       "      <th>18559</th>\n",
       "      <td>49</td>\n",
       "      <td>1</td>\n",
       "      <td>63.0</td>\n",
       "      <td>66.14</td>\n",
       "      <td>120</td>\n",
       "      <td>80</td>\n",
       "      <td>1</td>\n",
       "      <td>1</td>\n",
       "      <td>0</td>\n",
       "      <td>0</td>\n",
       "      <td>1</td>\n",
       "      <td>1</td>\n",
       "    </tr>\n",
       "    <tr>\n",
       "      <th>41905</th>\n",
       "      <td>58</td>\n",
       "      <td>1</td>\n",
       "      <td>56.0</td>\n",
       "      <td>66.14</td>\n",
       "      <td>103</td>\n",
       "      <td>61</td>\n",
       "      <td>2</td>\n",
       "      <td>1</td>\n",
       "      <td>0</td>\n",
       "      <td>0</td>\n",
       "      <td>1</td>\n",
       "      <td>0</td>\n",
       "    </tr>\n",
       "    <tr>\n",
       "      <th>16906</th>\n",
       "      <td>47</td>\n",
       "      <td>0</td>\n",
       "      <td>67.0</td>\n",
       "      <td>68.34</td>\n",
       "      <td>150</td>\n",
       "      <td>90</td>\n",
       "      <td>2</td>\n",
       "      <td>2</td>\n",
       "      <td>0</td>\n",
       "      <td>0</td>\n",
       "      <td>1</td>\n",
       "      <td>1</td>\n",
       "    </tr>\n",
       "    <tr>\n",
       "      <th>22016</th>\n",
       "      <td>42</td>\n",
       "      <td>1</td>\n",
       "      <td>57.0</td>\n",
       "      <td>70.55</td>\n",
       "      <td>100</td>\n",
       "      <td>70</td>\n",
       "      <td>1</td>\n",
       "      <td>1</td>\n",
       "      <td>0</td>\n",
       "      <td>0</td>\n",
       "      <td>0</td>\n",
       "      <td>0</td>\n",
       "    </tr>\n",
       "  </tbody>\n",
       "</table>\n",
       "</div>"
      ],
      "text/plain": [
       "       age  gender  height  weight  ap_hi  ap_lo  cholesterol  gluc  smoke  \\\n",
       "57858   51       0    65.0   22.05    180   1100            2     2      0   \n",
       "33817   59       0    70.0   24.25    130     90            1     1      0   \n",
       "60188   59       1    64.0   46.30    120     80            2     1      0   \n",
       "29488   55       0    70.0   48.50    120     80            1     1      1   \n",
       "26806   63       1    62.0   50.71    110     80            1     1      0   \n",
       "60699   51       1    67.0   63.93    110     70            2     1      0   \n",
       "18559   49       1    63.0   66.14    120     80            1     1      0   \n",
       "41905   58       1    56.0   66.14    103     61            2     1      0   \n",
       "16906   47       0    67.0   68.34    150     90            2     2      0   \n",
       "22016   42       1    57.0   70.55    100     70            1     1      0   \n",
       "\n",
       "       alco  active  cardio  \n",
       "57858     0       1       1  \n",
       "33817     0       1       1  \n",
       "60188     0       1       1  \n",
       "29488     1       1       0  \n",
       "26806     0       1       0  \n",
       "60699     0       1       1  \n",
       "18559     0       1       1  \n",
       "41905     0       1       0  \n",
       "16906     0       1       1  \n",
       "22016     0       0       0  "
      ]
     },
     "execution_count": 33,
     "metadata": {},
     "output_type": "execute_result"
    }
   ],
   "source": [
    "df.nsmallest(10, 'weight')"
   ]
  },
  {
   "cell_type": "code",
   "execution_count": 34,
   "metadata": {},
   "outputs": [
    {
     "name": "stdout",
     "output_type": "stream",
     "text": [
      "The % of females with weights below 60 are:  0.0031292538\n"
     ]
    }
   ],
   "source": [
    "# check to see how many females are below the weight of 60 pounds \n",
    "f_lowest_weights = len(df[(df['weight'] < 60) & (df['gender'] == 1)])\n",
    "print('The % of females with weights below 60 are: ', round((f_lowest_weights/len(df))*100, 10))"
   ]
  },
  {
   "cell_type": "code",
   "execution_count": 35,
   "metadata": {},
   "outputs": [
    {
     "name": "stdout",
     "output_type": "stream",
     "text": [
      "The % of males with weights below 90 are:  0.0031292538\n"
     ]
    }
   ],
   "source": [
    "# check to see how many males are below the weight of 90 \n",
    "m_lowest_weights = len(df[(df['weight'] < 90) & (df['gender'] == 0)])\n",
    "print('The % of males with weights below 90 are: ', round((f_lowest_weights/len(df))*100, 10))"
   ]
  },
  {
   "cell_type": "code",
   "execution_count": 36,
   "metadata": {},
   "outputs": [],
   "source": [
    "df.drop(df[(df['weight'] < 60) & (df['gender'] == 1)].index, inplace = True)\n",
    "df.drop(df[(df['weight'] < 90) & (df['gender'] == 0)].index, inplace = True)"
   ]
  },
  {
   "cell_type": "code",
   "execution_count": 37,
   "metadata": {},
   "outputs": [
    {
     "data": {
      "text/plain": [
       "63.93"
      ]
     },
     "execution_count": 37,
     "metadata": {},
     "output_type": "execute_result"
    }
   ],
   "source": [
    "df['weight'].min()"
   ]
  },
  {
   "cell_type": "code",
   "execution_count": 38,
   "metadata": {},
   "outputs": [
    {
     "data": {
      "text/html": [
       "<div>\n",
       "<style scoped>\n",
       "    .dataframe tbody tr th:only-of-type {\n",
       "        vertical-align: middle;\n",
       "    }\n",
       "\n",
       "    .dataframe tbody tr th {\n",
       "        vertical-align: top;\n",
       "    }\n",
       "\n",
       "    .dataframe thead th {\n",
       "        text-align: right;\n",
       "    }\n",
       "</style>\n",
       "<table border=\"1\" class=\"dataframe\">\n",
       "  <thead>\n",
       "    <tr style=\"text-align: right;\">\n",
       "      <th></th>\n",
       "      <th>age</th>\n",
       "      <th>gender</th>\n",
       "      <th>height</th>\n",
       "      <th>weight</th>\n",
       "      <th>ap_hi</th>\n",
       "      <th>ap_lo</th>\n",
       "      <th>cholesterol</th>\n",
       "      <th>gluc</th>\n",
       "      <th>smoke</th>\n",
       "      <th>alco</th>\n",
       "      <th>active</th>\n",
       "      <th>cardio</th>\n",
       "    </tr>\n",
       "  </thead>\n",
       "  <tbody>\n",
       "    <tr>\n",
       "      <th>435</th>\n",
       "      <td>45</td>\n",
       "      <td>1</td>\n",
       "      <td>73.0</td>\n",
       "      <td>440.92</td>\n",
       "      <td>130</td>\n",
       "      <td>70</td>\n",
       "      <td>1</td>\n",
       "      <td>1</td>\n",
       "      <td>0</td>\n",
       "      <td>0</td>\n",
       "      <td>0</td>\n",
       "      <td>0</td>\n",
       "    </tr>\n",
       "    <tr>\n",
       "      <th>50413</th>\n",
       "      <td>41</td>\n",
       "      <td>0</td>\n",
       "      <td>71.0</td>\n",
       "      <td>440.92</td>\n",
       "      <td>150</td>\n",
       "      <td>90</td>\n",
       "      <td>1</td>\n",
       "      <td>1</td>\n",
       "      <td>0</td>\n",
       "      <td>0</td>\n",
       "      <td>1</td>\n",
       "      <td>1</td>\n",
       "    </tr>\n",
       "    <tr>\n",
       "      <th>61285</th>\n",
       "      <td>57</td>\n",
       "      <td>0</td>\n",
       "      <td>71.0</td>\n",
       "      <td>403.45</td>\n",
       "      <td>110</td>\n",
       "      <td>80</td>\n",
       "      <td>3</td>\n",
       "      <td>3</td>\n",
       "      <td>0</td>\n",
       "      <td>1</td>\n",
       "      <td>1</td>\n",
       "      <td>1</td>\n",
       "    </tr>\n",
       "    <tr>\n",
       "      <th>36780</th>\n",
       "      <td>53</td>\n",
       "      <td>1</td>\n",
       "      <td>63.0</td>\n",
       "      <td>399.04</td>\n",
       "      <td>180</td>\n",
       "      <td>1100</td>\n",
       "      <td>2</td>\n",
       "      <td>1</td>\n",
       "      <td>0</td>\n",
       "      <td>0</td>\n",
       "      <td>1</td>\n",
       "      <td>1</td>\n",
       "    </tr>\n",
       "    <tr>\n",
       "      <th>4743</th>\n",
       "      <td>47</td>\n",
       "      <td>0</td>\n",
       "      <td>69.0</td>\n",
       "      <td>396.83</td>\n",
       "      <td>140</td>\n",
       "      <td>90</td>\n",
       "      <td>1</td>\n",
       "      <td>1</td>\n",
       "      <td>0</td>\n",
       "      <td>0</td>\n",
       "      <td>1</td>\n",
       "      <td>1</td>\n",
       "    </tr>\n",
       "    <tr>\n",
       "      <th>45378</th>\n",
       "      <td>47</td>\n",
       "      <td>0</td>\n",
       "      <td>75.0</td>\n",
       "      <td>396.83</td>\n",
       "      <td>140</td>\n",
       "      <td>80</td>\n",
       "      <td>2</td>\n",
       "      <td>2</td>\n",
       "      <td>0</td>\n",
       "      <td>0</td>\n",
       "      <td>1</td>\n",
       "      <td>1</td>\n",
       "    </tr>\n",
       "    <tr>\n",
       "      <th>60592</th>\n",
       "      <td>51</td>\n",
       "      <td>0</td>\n",
       "      <td>71.0</td>\n",
       "      <td>396.83</td>\n",
       "      <td>140</td>\n",
       "      <td>100</td>\n",
       "      <td>3</td>\n",
       "      <td>1</td>\n",
       "      <td>0</td>\n",
       "      <td>0</td>\n",
       "      <td>1</td>\n",
       "      <td>1</td>\n",
       "    </tr>\n",
       "    <tr>\n",
       "      <th>61362</th>\n",
       "      <td>45</td>\n",
       "      <td>0</td>\n",
       "      <td>77.0</td>\n",
       "      <td>396.83</td>\n",
       "      <td>130</td>\n",
       "      <td>80</td>\n",
       "      <td>3</td>\n",
       "      <td>1</td>\n",
       "      <td>0</td>\n",
       "      <td>0</td>\n",
       "      <td>1</td>\n",
       "      <td>1</td>\n",
       "    </tr>\n",
       "    <tr>\n",
       "      <th>20092</th>\n",
       "      <td>56</td>\n",
       "      <td>0</td>\n",
       "      <td>65.0</td>\n",
       "      <td>392.42</td>\n",
       "      <td>120</td>\n",
       "      <td>80</td>\n",
       "      <td>1</td>\n",
       "      <td>1</td>\n",
       "      <td>1</td>\n",
       "      <td>1</td>\n",
       "      <td>1</td>\n",
       "      <td>0</td>\n",
       "    </tr>\n",
       "    <tr>\n",
       "      <th>61788</th>\n",
       "      <td>51</td>\n",
       "      <td>0</td>\n",
       "      <td>65.0</td>\n",
       "      <td>392.42</td>\n",
       "      <td>120</td>\n",
       "      <td>80</td>\n",
       "      <td>1</td>\n",
       "      <td>1</td>\n",
       "      <td>0</td>\n",
       "      <td>0</td>\n",
       "      <td>1</td>\n",
       "      <td>0</td>\n",
       "    </tr>\n",
       "  </tbody>\n",
       "</table>\n",
       "</div>"
      ],
      "text/plain": [
       "       age  gender  height  weight  ap_hi  ap_lo  cholesterol  gluc  smoke  \\\n",
       "435     45       1    73.0  440.92    130     70            1     1      0   \n",
       "50413   41       0    71.0  440.92    150     90            1     1      0   \n",
       "61285   57       0    71.0  403.45    110     80            3     3      0   \n",
       "36780   53       1    63.0  399.04    180   1100            2     1      0   \n",
       "4743    47       0    69.0  396.83    140     90            1     1      0   \n",
       "45378   47       0    75.0  396.83    140     80            2     2      0   \n",
       "60592   51       0    71.0  396.83    140    100            3     1      0   \n",
       "61362   45       0    77.0  396.83    130     80            3     1      0   \n",
       "20092   56       0    65.0  392.42    120     80            1     1      1   \n",
       "61788   51       0    65.0  392.42    120     80            1     1      0   \n",
       "\n",
       "       alco  active  cardio  \n",
       "435       0       0       0  \n",
       "50413     0       1       1  \n",
       "61285     1       1       1  \n",
       "36780     0       1       1  \n",
       "4743      0       1       1  \n",
       "45378     0       1       1  \n",
       "60592     0       1       1  \n",
       "61362     0       1       1  \n",
       "20092     1       1       0  \n",
       "61788     0       1       0  "
      ]
     },
     "execution_count": 38,
     "metadata": {},
     "output_type": "execute_result"
    }
   ],
   "source": [
    "df.nlargest(10, 'weight')"
   ]
  },
  {
   "cell_type": "code",
   "execution_count": 39,
   "metadata": {},
   "outputs": [
    {
     "data": {
      "text/plain": [
       "118"
      ]
     },
     "execution_count": 39,
     "metadata": {},
     "output_type": "execute_result"
    }
   ],
   "source": [
    "# how many people fall above 300 pounds and since there are over 100 people dont get rid of that data \n",
    "len(df[df['weight'] > 300])"
   ]
  },
  {
   "cell_type": "markdown",
   "metadata": {},
   "source": [
    "<br /> \n",
    "\n",
    "### Systolic blood pressure (ap_hi)\n",
    "This feature measures \"the force your heart exerts on the walls of your arteries each time it beats.\" (mayoclinic)   \n",
    "\n",
    "The following information was obtained from the following sites:   \n",
    "1) https://www.healthline.com/health/high-blood-pressure-hypertension/blood-pressure-reading-explained#normal   \n",
    "2) https://www.mayoclinic.org/diseases-conditions/high-blood-pressure/in-depth/blood-pressure/art-20050982  \n",
    "3) https://www.mayoclinic.org/diseases-conditions/low-blood-pressure/symptoms-causes/syc-20355465   \n",
    "\n",
    "This feature has a range of what is considered normal and above normal and what is considered below normal. __Normal range fall inbetween 90 and 120__. While __below normal is below 90__. While being __above normal is 120 till 180__ is bad and being __above 180 is horrible__ and you should see a doctor. \n",
    "\n",
    "\n",
    "Since systolic blood pressure can be below 90 keep people with low systolic blood pressure in the dataset. Make the __lowest it can be around 60__.   \n",
    "The same goes for the values above 180, keep them but make sure they __don't go beyond 300__ because there are that many values above 300 and the ones that are above 300 don't make sense.   "
   ]
  },
  {
   "cell_type": "code",
   "execution_count": 40,
   "metadata": {},
   "outputs": [
    {
     "data": {
      "text/plain": [
       "-150"
      ]
     },
     "execution_count": 40,
     "metadata": {},
     "output_type": "execute_result"
    }
   ],
   "source": [
    "df['ap_hi'].min()"
   ]
  },
  {
   "cell_type": "code",
   "execution_count": 41,
   "metadata": {},
   "outputs": [
    {
     "data": {
      "text/plain": [
       "16020"
      ]
     },
     "execution_count": 41,
     "metadata": {},
     "output_type": "execute_result"
    }
   ],
   "source": [
    "df['ap_hi'].max()"
   ]
  },
  {
   "cell_type": "code",
   "execution_count": 42,
   "metadata": {},
   "outputs": [
    {
     "data": {
      "text/plain": [
       "{'whiskers': [<matplotlib.lines.Line2D at 0x26d2f1eaa60>,\n",
       "  <matplotlib.lines.Line2D at 0x26d2f1eadc0>],\n",
       " 'caps': [<matplotlib.lines.Line2D at 0x26d2f1f6160>,\n",
       "  <matplotlib.lines.Line2D at 0x26d2f1f64c0>],\n",
       " 'boxes': [<matplotlib.lines.Line2D at 0x26d2f1ea700>],\n",
       " 'medians': [<matplotlib.lines.Line2D at 0x26d2f1f6820>],\n",
       " 'fliers': [<matplotlib.lines.Line2D at 0x26d2f1f6b20>],\n",
       " 'means': []}"
      ]
     },
     "execution_count": 42,
     "metadata": {},
     "output_type": "execute_result"
    },
    {
     "data": {
      "image/png": "[encoded data removed]",
      "text/plain": [
       "<Figure size 432x288 with 1 Axes>"
      ]
     },
     "metadata": {
      "needs_background": "light"
     },
     "output_type": "display_data"
    }
   ],
   "source": [
    "plt.boxplot(df['ap_hi'])"
   ]
  },
  {
   "cell_type": "code",
   "execution_count": 43,
   "metadata": {},
   "outputs": [
    {
     "data": {
      "text/html": [
       "<div>\n",
       "<style scoped>\n",
       "    .dataframe tbody tr th:only-of-type {\n",
       "        vertical-align: middle;\n",
       "    }\n",
       "\n",
       "    .dataframe tbody tr th {\n",
       "        vertical-align: top;\n",
       "    }\n",
       "\n",
       "    .dataframe thead th {\n",
       "        text-align: right;\n",
       "    }\n",
       "</style>\n",
       "<table border=\"1\" class=\"dataframe\">\n",
       "  <thead>\n",
       "    <tr style=\"text-align: right;\">\n",
       "      <th></th>\n",
       "      <th>age</th>\n",
       "      <th>gender</th>\n",
       "      <th>height</th>\n",
       "      <th>weight</th>\n",
       "      <th>ap_hi</th>\n",
       "      <th>ap_lo</th>\n",
       "      <th>cholesterol</th>\n",
       "      <th>gluc</th>\n",
       "      <th>smoke</th>\n",
       "      <th>alco</th>\n",
       "      <th>active</th>\n",
       "      <th>cardio</th>\n",
       "    </tr>\n",
       "  </thead>\n",
       "  <tbody>\n",
       "    <tr>\n",
       "      <th>35040</th>\n",
       "      <td>63</td>\n",
       "      <td>0</td>\n",
       "      <td>66.0</td>\n",
       "      <td>130.07</td>\n",
       "      <td>-150</td>\n",
       "      <td>80</td>\n",
       "      <td>1</td>\n",
       "      <td>1</td>\n",
       "      <td>0</td>\n",
       "      <td>0</td>\n",
       "      <td>1</td>\n",
       "      <td>1</td>\n",
       "    </tr>\n",
       "    <tr>\n",
       "      <th>23988</th>\n",
       "      <td>50</td>\n",
       "      <td>1</td>\n",
       "      <td>64.0</td>\n",
       "      <td>163.14</td>\n",
       "      <td>-140</td>\n",
       "      <td>90</td>\n",
       "      <td>1</td>\n",
       "      <td>1</td>\n",
       "      <td>0</td>\n",
       "      <td>0</td>\n",
       "      <td>1</td>\n",
       "      <td>1</td>\n",
       "    </tr>\n",
       "    <tr>\n",
       "      <th>25240</th>\n",
       "      <td>40</td>\n",
       "      <td>0</td>\n",
       "      <td>66.0</td>\n",
       "      <td>110.23</td>\n",
       "      <td>-120</td>\n",
       "      <td>80</td>\n",
       "      <td>2</td>\n",
       "      <td>1</td>\n",
       "      <td>0</td>\n",
       "      <td>0</td>\n",
       "      <td>0</td>\n",
       "      <td>1</td>\n",
       "    </tr>\n",
       "    <tr>\n",
       "      <th>46627</th>\n",
       "      <td>64</td>\n",
       "      <td>0</td>\n",
       "      <td>63.0</td>\n",
       "      <td>130.07</td>\n",
       "      <td>-120</td>\n",
       "      <td>80</td>\n",
       "      <td>1</td>\n",
       "      <td>1</td>\n",
       "      <td>0</td>\n",
       "      <td>0</td>\n",
       "      <td>0</td>\n",
       "      <td>0</td>\n",
       "    </tr>\n",
       "    <tr>\n",
       "      <th>16021</th>\n",
       "      <td>60</td>\n",
       "      <td>0</td>\n",
       "      <td>63.0</td>\n",
       "      <td>198.42</td>\n",
       "      <td>-115</td>\n",
       "      <td>70</td>\n",
       "      <td>1</td>\n",
       "      <td>1</td>\n",
       "      <td>0</td>\n",
       "      <td>0</td>\n",
       "      <td>1</td>\n",
       "      <td>0</td>\n",
       "    </tr>\n",
       "    <tr>\n",
       "      <th>4607</th>\n",
       "      <td>41</td>\n",
       "      <td>1</td>\n",
       "      <td>65.0</td>\n",
       "      <td>171.96</td>\n",
       "      <td>-100</td>\n",
       "      <td>80</td>\n",
       "      <td>2</td>\n",
       "      <td>1</td>\n",
       "      <td>0</td>\n",
       "      <td>0</td>\n",
       "      <td>1</td>\n",
       "      <td>0</td>\n",
       "    </tr>\n",
       "    <tr>\n",
       "      <th>20536</th>\n",
       "      <td>42</td>\n",
       "      <td>1</td>\n",
       "      <td>60.0</td>\n",
       "      <td>119.05</td>\n",
       "      <td>-100</td>\n",
       "      <td>70</td>\n",
       "      <td>1</td>\n",
       "      <td>1</td>\n",
       "      <td>0</td>\n",
       "      <td>0</td>\n",
       "      <td>1</td>\n",
       "      <td>0</td>\n",
       "    </tr>\n",
       "    <tr>\n",
       "      <th>8757</th>\n",
       "      <td>46</td>\n",
       "      <td>0</td>\n",
       "      <td>64.0</td>\n",
       "      <td>138.89</td>\n",
       "      <td>1</td>\n",
       "      <td>2088</td>\n",
       "      <td>1</td>\n",
       "      <td>1</td>\n",
       "      <td>1</td>\n",
       "      <td>0</td>\n",
       "      <td>1</td>\n",
       "      <td>0</td>\n",
       "    </tr>\n",
       "    <tr>\n",
       "      <th>42334</th>\n",
       "      <td>51</td>\n",
       "      <td>1</td>\n",
       "      <td>67.0</td>\n",
       "      <td>176.37</td>\n",
       "      <td>1</td>\n",
       "      <td>1088</td>\n",
       "      <td>1</td>\n",
       "      <td>1</td>\n",
       "      <td>0</td>\n",
       "      <td>0</td>\n",
       "      <td>1</td>\n",
       "      <td>1</td>\n",
       "    </tr>\n",
       "    <tr>\n",
       "      <th>5382</th>\n",
       "      <td>58</td>\n",
       "      <td>1</td>\n",
       "      <td>64.0</td>\n",
       "      <td>152.12</td>\n",
       "      <td>7</td>\n",
       "      <td>80</td>\n",
       "      <td>1</td>\n",
       "      <td>1</td>\n",
       "      <td>0</td>\n",
       "      <td>0</td>\n",
       "      <td>1</td>\n",
       "      <td>0</td>\n",
       "    </tr>\n",
       "  </tbody>\n",
       "</table>\n",
       "</div>"
      ],
      "text/plain": [
       "       age  gender  height  weight  ap_hi  ap_lo  cholesterol  gluc  smoke  \\\n",
       "35040   63       0    66.0  130.07   -150     80            1     1      0   \n",
       "23988   50       1    64.0  163.14   -140     90            1     1      0   \n",
       "25240   40       0    66.0  110.23   -120     80            2     1      0   \n",
       "46627   64       0    63.0  130.07   -120     80            1     1      0   \n",
       "16021   60       0    63.0  198.42   -115     70            1     1      0   \n",
       "4607    41       1    65.0  171.96   -100     80            2     1      0   \n",
       "20536   42       1    60.0  119.05   -100     70            1     1      0   \n",
       "8757    46       0    64.0  138.89      1   2088            1     1      1   \n",
       "42334   51       1    67.0  176.37      1   1088            1     1      0   \n",
       "5382    58       1    64.0  152.12      7     80            1     1      0   \n",
       "\n",
       "       alco  active  cardio  \n",
       "35040     0       1       1  \n",
       "23988     0       1       1  \n",
       "25240     0       0       1  \n",
       "46627     0       0       0  \n",
       "16021     0       1       0  \n",
       "4607      0       1       0  \n",
       "20536     0       1       0  \n",
       "8757      0       1       0  \n",
       "42334     0       1       1  \n",
       "5382      0       1       0  "
      ]
     },
     "execution_count": 43,
     "metadata": {},
     "output_type": "execute_result"
    }
   ],
   "source": [
    "df.nsmallest(10, 'ap_hi')"
   ]
  },
  {
   "cell_type": "code",
   "execution_count": 44,
   "metadata": {},
   "outputs": [],
   "source": [
    "df.drop(df[df['ap_hi'] < 60].index, inplace = True)"
   ]
  },
  {
   "cell_type": "code",
   "execution_count": 45,
   "metadata": {},
   "outputs": [
    {
     "data": {
      "text/plain": [
       "60"
      ]
     },
     "execution_count": 45,
     "metadata": {},
     "output_type": "execute_result"
    }
   ],
   "source": [
    "# checking to make sure that 60 is the min \n",
    "df['ap_hi'].min()"
   ]
  },
  {
   "cell_type": "code",
   "execution_count": 46,
   "metadata": {},
   "outputs": [
    {
     "data": {
      "text/html": [
       "<div>\n",
       "<style scoped>\n",
       "    .dataframe tbody tr th:only-of-type {\n",
       "        vertical-align: middle;\n",
       "    }\n",
       "\n",
       "    .dataframe tbody tr th {\n",
       "        vertical-align: top;\n",
       "    }\n",
       "\n",
       "    .dataframe thead th {\n",
       "        text-align: right;\n",
       "    }\n",
       "</style>\n",
       "<table border=\"1\" class=\"dataframe\">\n",
       "  <thead>\n",
       "    <tr style=\"text-align: right;\">\n",
       "      <th></th>\n",
       "      <th>age</th>\n",
       "      <th>gender</th>\n",
       "      <th>height</th>\n",
       "      <th>weight</th>\n",
       "      <th>ap_hi</th>\n",
       "      <th>ap_lo</th>\n",
       "      <th>cholesterol</th>\n",
       "      <th>gluc</th>\n",
       "      <th>smoke</th>\n",
       "      <th>alco</th>\n",
       "      <th>active</th>\n",
       "      <th>cardio</th>\n",
       "    </tr>\n",
       "  </thead>\n",
       "  <tbody>\n",
       "    <tr>\n",
       "      <th>40852</th>\n",
       "      <td>47</td>\n",
       "      <td>1</td>\n",
       "      <td>67.0</td>\n",
       "      <td>154.32</td>\n",
       "      <td>16020</td>\n",
       "      <td>80</td>\n",
       "      <td>1</td>\n",
       "      <td>1</td>\n",
       "      <td>0</td>\n",
       "      <td>0</td>\n",
       "      <td>0</td>\n",
       "      <td>1</td>\n",
       "    </tr>\n",
       "    <tr>\n",
       "      <th>25464</th>\n",
       "      <td>43</td>\n",
       "      <td>0</td>\n",
       "      <td>67.0</td>\n",
       "      <td>165.35</td>\n",
       "      <td>14020</td>\n",
       "      <td>80</td>\n",
       "      <td>2</td>\n",
       "      <td>1</td>\n",
       "      <td>0</td>\n",
       "      <td>0</td>\n",
       "      <td>1</td>\n",
       "      <td>1</td>\n",
       "    </tr>\n",
       "    <tr>\n",
       "      <th>25519</th>\n",
       "      <td>58</td>\n",
       "      <td>1</td>\n",
       "      <td>67.0</td>\n",
       "      <td>156.53</td>\n",
       "      <td>14020</td>\n",
       "      <td>80</td>\n",
       "      <td>3</td>\n",
       "      <td>3</td>\n",
       "      <td>0</td>\n",
       "      <td>0</td>\n",
       "      <td>1</td>\n",
       "      <td>1</td>\n",
       "    </tr>\n",
       "    <tr>\n",
       "      <th>46912</th>\n",
       "      <td>46</td>\n",
       "      <td>0</td>\n",
       "      <td>71.0</td>\n",
       "      <td>171.96</td>\n",
       "      <td>14020</td>\n",
       "      <td>90</td>\n",
       "      <td>1</td>\n",
       "      <td>1</td>\n",
       "      <td>0</td>\n",
       "      <td>0</td>\n",
       "      <td>1</td>\n",
       "      <td>1</td>\n",
       "    </tr>\n",
       "    <tr>\n",
       "      <th>47253</th>\n",
       "      <td>54</td>\n",
       "      <td>1</td>\n",
       "      <td>63.0</td>\n",
       "      <td>143.30</td>\n",
       "      <td>14020</td>\n",
       "      <td>90</td>\n",
       "      <td>1</td>\n",
       "      <td>1</td>\n",
       "      <td>0</td>\n",
       "      <td>0</td>\n",
       "      <td>1</td>\n",
       "      <td>0</td>\n",
       "    </tr>\n",
       "    <tr>\n",
       "      <th>55459</th>\n",
       "      <td>50</td>\n",
       "      <td>1</td>\n",
       "      <td>60.0</td>\n",
       "      <td>167.55</td>\n",
       "      <td>13010</td>\n",
       "      <td>80</td>\n",
       "      <td>2</td>\n",
       "      <td>2</td>\n",
       "      <td>0</td>\n",
       "      <td>0</td>\n",
       "      <td>1</td>\n",
       "      <td>1</td>\n",
       "    </tr>\n",
       "    <tr>\n",
       "      <th>55847</th>\n",
       "      <td>63</td>\n",
       "      <td>1</td>\n",
       "      <td>63.0</td>\n",
       "      <td>231.49</td>\n",
       "      <td>13010</td>\n",
       "      <td>80</td>\n",
       "      <td>1</td>\n",
       "      <td>1</td>\n",
       "      <td>0</td>\n",
       "      <td>0</td>\n",
       "      <td>0</td>\n",
       "      <td>0</td>\n",
       "    </tr>\n",
       "    <tr>\n",
       "      <th>7763</th>\n",
       "      <td>57</td>\n",
       "      <td>1</td>\n",
       "      <td>69.0</td>\n",
       "      <td>176.37</td>\n",
       "      <td>11500</td>\n",
       "      <td>90</td>\n",
       "      <td>1</td>\n",
       "      <td>1</td>\n",
       "      <td>0</td>\n",
       "      <td>0</td>\n",
       "      <td>1</td>\n",
       "      <td>1</td>\n",
       "    </tr>\n",
       "    <tr>\n",
       "      <th>51438</th>\n",
       "      <td>51</td>\n",
       "      <td>0</td>\n",
       "      <td>66.0</td>\n",
       "      <td>143.30</td>\n",
       "      <td>11020</td>\n",
       "      <td>80</td>\n",
       "      <td>1</td>\n",
       "      <td>1</td>\n",
       "      <td>0</td>\n",
       "      <td>0</td>\n",
       "      <td>1</td>\n",
       "      <td>1</td>\n",
       "    </tr>\n",
       "    <tr>\n",
       "      <th>69370</th>\n",
       "      <td>40</td>\n",
       "      <td>1</td>\n",
       "      <td>67.0</td>\n",
       "      <td>163.14</td>\n",
       "      <td>2000</td>\n",
       "      <td>100</td>\n",
       "      <td>2</td>\n",
       "      <td>1</td>\n",
       "      <td>0</td>\n",
       "      <td>0</td>\n",
       "      <td>1</td>\n",
       "      <td>1</td>\n",
       "    </tr>\n",
       "    <tr>\n",
       "      <th>28147</th>\n",
       "      <td>53</td>\n",
       "      <td>0</td>\n",
       "      <td>69.0</td>\n",
       "      <td>191.80</td>\n",
       "      <td>1620</td>\n",
       "      <td>80</td>\n",
       "      <td>2</td>\n",
       "      <td>1</td>\n",
       "      <td>0</td>\n",
       "      <td>0</td>\n",
       "      <td>1</td>\n",
       "      <td>1</td>\n",
       "    </tr>\n",
       "    <tr>\n",
       "      <th>13895</th>\n",
       "      <td>43</td>\n",
       "      <td>1</td>\n",
       "      <td>66.0</td>\n",
       "      <td>158.73</td>\n",
       "      <td>1500</td>\n",
       "      <td>80</td>\n",
       "      <td>1</td>\n",
       "      <td>1</td>\n",
       "      <td>0</td>\n",
       "      <td>0</td>\n",
       "      <td>1</td>\n",
       "      <td>1</td>\n",
       "    </tr>\n",
       "    <tr>\n",
       "      <th>8915</th>\n",
       "      <td>51</td>\n",
       "      <td>1</td>\n",
       "      <td>65.0</td>\n",
       "      <td>165.35</td>\n",
       "      <td>1420</td>\n",
       "      <td>80</td>\n",
       "      <td>2</td>\n",
       "      <td>1</td>\n",
       "      <td>0</td>\n",
       "      <td>0</td>\n",
       "      <td>1</td>\n",
       "      <td>1</td>\n",
       "    </tr>\n",
       "    <tr>\n",
       "      <th>43208</th>\n",
       "      <td>64</td>\n",
       "      <td>1</td>\n",
       "      <td>65.0</td>\n",
       "      <td>147.71</td>\n",
       "      <td>1420</td>\n",
       "      <td>80</td>\n",
       "      <td>2</td>\n",
       "      <td>1</td>\n",
       "      <td>0</td>\n",
       "      <td>0</td>\n",
       "      <td>1</td>\n",
       "      <td>1</td>\n",
       "    </tr>\n",
       "    <tr>\n",
       "      <th>50836</th>\n",
       "      <td>46</td>\n",
       "      <td>0</td>\n",
       "      <td>65.0</td>\n",
       "      <td>145.51</td>\n",
       "      <td>1409</td>\n",
       "      <td>90</td>\n",
       "      <td>1</td>\n",
       "      <td>1</td>\n",
       "      <td>0</td>\n",
       "      <td>0</td>\n",
       "      <td>1</td>\n",
       "      <td>1</td>\n",
       "    </tr>\n",
       "    <tr>\n",
       "      <th>25780</th>\n",
       "      <td>50</td>\n",
       "      <td>1</td>\n",
       "      <td>62.0</td>\n",
       "      <td>182.98</td>\n",
       "      <td>1400</td>\n",
       "      <td>80</td>\n",
       "      <td>1</td>\n",
       "      <td>1</td>\n",
       "      <td>0</td>\n",
       "      <td>0</td>\n",
       "      <td>1</td>\n",
       "      <td>1</td>\n",
       "    </tr>\n",
       "    <tr>\n",
       "      <th>43133</th>\n",
       "      <td>57</td>\n",
       "      <td>0</td>\n",
       "      <td>67.0</td>\n",
       "      <td>171.96</td>\n",
       "      <td>1400</td>\n",
       "      <td>90</td>\n",
       "      <td>2</td>\n",
       "      <td>1</td>\n",
       "      <td>0</td>\n",
       "      <td>0</td>\n",
       "      <td>1</td>\n",
       "      <td>0</td>\n",
       "    </tr>\n",
       "    <tr>\n",
       "      <th>48795</th>\n",
       "      <td>59</td>\n",
       "      <td>1</td>\n",
       "      <td>61.0</td>\n",
       "      <td>167.55</td>\n",
       "      <td>1400</td>\n",
       "      <td>90</td>\n",
       "      <td>1</td>\n",
       "      <td>1</td>\n",
       "      <td>0</td>\n",
       "      <td>0</td>\n",
       "      <td>1</td>\n",
       "      <td>1</td>\n",
       "    </tr>\n",
       "    <tr>\n",
       "      <th>43504</th>\n",
       "      <td>53</td>\n",
       "      <td>1</td>\n",
       "      <td>62.0</td>\n",
       "      <td>136.69</td>\n",
       "      <td>1300</td>\n",
       "      <td>80</td>\n",
       "      <td>3</td>\n",
       "      <td>1</td>\n",
       "      <td>0</td>\n",
       "      <td>1</td>\n",
       "      <td>1</td>\n",
       "      <td>1</td>\n",
       "    </tr>\n",
       "    <tr>\n",
       "      <th>57291</th>\n",
       "      <td>60</td>\n",
       "      <td>0</td>\n",
       "      <td>65.0</td>\n",
       "      <td>160.94</td>\n",
       "      <td>1300</td>\n",
       "      <td>90</td>\n",
       "      <td>1</td>\n",
       "      <td>1</td>\n",
       "      <td>0</td>\n",
       "      <td>1</td>\n",
       "      <td>1</td>\n",
       "      <td>0</td>\n",
       "    </tr>\n",
       "  </tbody>\n",
       "</table>\n",
       "</div>"
      ],
      "text/plain": [
       "       age  gender  height  weight  ap_hi  ap_lo  cholesterol  gluc  smoke  \\\n",
       "40852   47       1    67.0  154.32  16020     80            1     1      0   \n",
       "25464   43       0    67.0  165.35  14020     80            2     1      0   \n",
       "25519   58       1    67.0  156.53  14020     80            3     3      0   \n",
       "46912   46       0    71.0  171.96  14020     90            1     1      0   \n",
       "47253   54       1    63.0  143.30  14020     90            1     1      0   \n",
       "55459   50       1    60.0  167.55  13010     80            2     2      0   \n",
       "55847   63       1    63.0  231.49  13010     80            1     1      0   \n",
       "7763    57       1    69.0  176.37  11500     90            1     1      0   \n",
       "51438   51       0    66.0  143.30  11020     80            1     1      0   \n",
       "69370   40       1    67.0  163.14   2000    100            2     1      0   \n",
       "28147   53       0    69.0  191.80   1620     80            2     1      0   \n",
       "13895   43       1    66.0  158.73   1500     80            1     1      0   \n",
       "8915    51       1    65.0  165.35   1420     80            2     1      0   \n",
       "43208   64       1    65.0  147.71   1420     80            2     1      0   \n",
       "50836   46       0    65.0  145.51   1409     90            1     1      0   \n",
       "25780   50       1    62.0  182.98   1400     80            1     1      0   \n",
       "43133   57       0    67.0  171.96   1400     90            2     1      0   \n",
       "48795   59       1    61.0  167.55   1400     90            1     1      0   \n",
       "43504   53       1    62.0  136.69   1300     80            3     1      0   \n",
       "57291   60       0    65.0  160.94   1300     90            1     1      0   \n",
       "\n",
       "       alco  active  cardio  \n",
       "40852     0       0       1  \n",
       "25464     0       1       1  \n",
       "25519     0       1       1  \n",
       "46912     0       1       1  \n",
       "47253     0       1       0  \n",
       "55459     0       1       1  \n",
       "55847     0       0       0  \n",
       "7763      0       1       1  \n",
       "51438     0       1       1  \n",
       "69370     0       1       1  \n",
       "28147     0       1       1  \n",
       "13895     0       1       1  \n",
       "8915      0       1       1  \n",
       "43208     0       1       1  \n",
       "50836     0       1       1  \n",
       "25780     0       1       1  \n",
       "43133     0       1       0  \n",
       "48795     0       1       1  \n",
       "43504     1       1       1  \n",
       "57291     1       1       0  "
      ]
     },
     "execution_count": 46,
     "metadata": {},
     "output_type": "execute_result"
    }
   ],
   "source": [
    "# checking to see the highest 20 values of ap_hi\n",
    "df.nlargest(20, 'ap_hi')"
   ]
  },
  {
   "cell_type": "code",
   "execution_count": 47,
   "metadata": {},
   "outputs": [
    {
     "data": {
      "text/plain": [
       "30"
      ]
     },
     "execution_count": 47,
     "metadata": {},
     "output_type": "execute_result"
    }
   ],
   "source": [
    "# how many values fall inbetween 300 and 2000\n",
    "len(df[(df['ap_hi'] >= 300) & (df['ap_hi'] < 2000)])"
   ]
  },
  {
   "cell_type": "code",
   "execution_count": 48,
   "metadata": {},
   "outputs": [],
   "source": [
    "# removing all the values higher than 300 \n",
    "df.drop(df[df['ap_hi'] >= 300].index, inplace = True)"
   ]
  },
  {
   "cell_type": "code",
   "execution_count": 49,
   "metadata": {},
   "outputs": [
    {
     "data": {
      "text/plain": [
       "240"
      ]
     },
     "execution_count": 49,
     "metadata": {},
     "output_type": "execute_result"
    }
   ],
   "source": [
    "df['ap_hi'].max()"
   ]
  },
  {
   "cell_type": "markdown",
   "metadata": {},
   "source": [
    "<br /> \n",
    "\n",
    "### Diastolic blood pressure (ap_lo) \n",
    "This feature measure \"the force your heart exterts on the walls of your arteries in between beats.\" (mayoclinic) \n",
    "\n",
    "The following information is obtained from the sites listed below:   \n",
    "1) https://www.mayoclinic.org/diseases-conditions/low-blood-pressure/symptoms-causes/syc-20355465  \n",
    "2) https://www.mayoclinic.org/diseases-conditions/high-blood-pressure/in-depth/blood-pressure/art-20050982  \n",
    "3) https://www.heart.org/en/health-topics/high-blood-pressure/understanding-blood-pressure-readings  \n",
    "\n",
    "The ranges for diastolic blood pressure are:    \n",
    "1) __normal range: less than 80__   \n",
    "2) __above normal: higher than 80__   \n",
    "3) __really bad: higher than 120__   \n",
    "4) __below normal: lower than 60__   \n",
    " "
   ]
  },
  {
   "cell_type": "code",
   "execution_count": 50,
   "metadata": {},
   "outputs": [
    {
     "data": {
      "text/plain": [
       "0"
      ]
     },
     "execution_count": 50,
     "metadata": {},
     "output_type": "execute_result"
    }
   ],
   "source": [
    "df['ap_lo'].min()"
   ]
  },
  {
   "cell_type": "code",
   "execution_count": 51,
   "metadata": {},
   "outputs": [
    {
     "data": {
      "text/plain": [
       "11000"
      ]
     },
     "execution_count": 51,
     "metadata": {},
     "output_type": "execute_result"
    }
   ],
   "source": [
    "df['ap_lo'].max()"
   ]
  },
  {
   "cell_type": "code",
   "execution_count": 52,
   "metadata": {},
   "outputs": [
    {
     "data": {
      "text/plain": [
       "45"
      ]
     },
     "execution_count": 52,
     "metadata": {},
     "output_type": "execute_result"
    }
   ],
   "source": [
    "# looking to see how many values are less than 40 for ap_lo\n",
    "len(df[df['ap_lo'] < 40])"
   ]
  },
  {
   "cell_type": "code",
   "execution_count": 53,
   "metadata": {},
   "outputs": [],
   "source": [
    "df.drop(df[df['ap_lo'] < 40].index, inplace = True)"
   ]
  },
  {
   "cell_type": "code",
   "execution_count": 54,
   "metadata": {},
   "outputs": [
    {
     "data": {
      "text/plain": [
       "40"
      ]
     },
     "execution_count": 54,
     "metadata": {},
     "output_type": "execute_result"
    }
   ],
   "source": [
    "df['ap_lo'].min()"
   ]
  },
  {
   "cell_type": "code",
   "execution_count": 55,
   "metadata": {},
   "outputs": [
    {
     "data": {
      "image/png": "[encoded data removed]",
      "text/plain": [
       "<Figure size 432x288 with 1 Axes>"
      ]
     },
     "metadata": {
      "needs_background": "light"
     },
     "output_type": "display_data"
    }
   ],
   "source": [
    "plt.boxplot(df['ap_lo'])\n",
    "plt.show()"
   ]
  },
  {
   "cell_type": "code",
   "execution_count": 56,
   "metadata": {},
   "outputs": [
    {
     "name": "stdout",
     "output_type": "stream",
     "text": [
      "What % of values would I be removing from the dataset:  1.47\n"
     ]
    }
   ],
   "source": [
    "x = len(df[df['ap_lo'] > 300])\n",
    "print('What % of values would I be removing from the dataset: ', round((x/len(df))*100, 2))"
   ]
  },
  {
   "cell_type": "code",
   "execution_count": 57,
   "metadata": {},
   "outputs": [],
   "source": [
    "# since the % is lower than 2 and also the values don't make sense that are higher than 300 so dropping them \n",
    "df.drop(df[df['ap_lo'] > 300].index, inplace = True)"
   ]
  },
  {
   "cell_type": "code",
   "execution_count": 58,
   "metadata": {},
   "outputs": [
    {
     "data": {
      "text/plain": [
       "190"
      ]
     },
     "execution_count": 58,
     "metadata": {},
     "output_type": "execute_result"
    }
   ],
   "source": [
    "df.ap_lo.max()"
   ]
  },
  {
   "cell_type": "markdown",
   "metadata": {},
   "source": [
    "<br /> \n",
    "\n",
    "### Cholesterol \n",
    "\n",
    "The data in this feature talks about the individuals cholesterol levels. What each level represents is: __1: normal, 2: above normal, 3: well above normal__   \n",
    "\n",
    "Make sure that these are the only values in this feature"
   ]
  },
  {
   "cell_type": "code",
   "execution_count": 59,
   "metadata": {},
   "outputs": [
    {
     "data": {
      "text/plain": [
       "array([1, 3, 2], dtype=int64)"
      ]
     },
     "execution_count": 59,
     "metadata": {},
     "output_type": "execute_result"
    }
   ],
   "source": [
    "df['cholesterol'].unique()"
   ]
  },
  {
   "cell_type": "markdown",
   "metadata": {},
   "source": [
    "<br /> \n",
    "\n",
    "### Gluc\n",
    "The data in this feature talks about the individuals glucose levels. What each level represents is: __1: normal, 2: above normal, 3: well above normal__    \n",
    "\n",
    "Make sure that these are the only values in this feature"
   ]
  },
  {
   "cell_type": "code",
   "execution_count": 60,
   "metadata": {},
   "outputs": [
    {
     "data": {
      "text/plain": [
       "array([1, 2, 3], dtype=int64)"
      ]
     },
     "execution_count": 60,
     "metadata": {},
     "output_type": "execute_result"
    }
   ],
   "source": [
    "df['gluc'].unique()"
   ]
  },
  {
   "cell_type": "markdown",
   "metadata": {},
   "source": [
    "<br /> \n",
    "\n",
    "### Smoke \n",
    "This feature tells us if the person smokes. This data is in binary (0 or 1). 0 for no and 1 for yes. "
   ]
  },
  {
   "cell_type": "code",
   "execution_count": 61,
   "metadata": {},
   "outputs": [
    {
     "data": {
      "text/plain": [
       "array([0, 1], dtype=int64)"
      ]
     },
     "execution_count": 61,
     "metadata": {},
     "output_type": "execute_result"
    }
   ],
   "source": [
    "df['smoke'].unique()"
   ]
  },
  {
   "cell_type": "markdown",
   "metadata": {},
   "source": [
    "<br /> \n",
    "\n",
    "### Alcohol \n",
    "This feature tells us if the person drinks alcohol. This data is in binary (0 or 1). 0 for no and 1 for yes. "
   ]
  },
  {
   "cell_type": "code",
   "execution_count": 62,
   "metadata": {},
   "outputs": [
    {
     "data": {
      "text/plain": [
       "array([0, 1], dtype=int64)"
      ]
     },
     "execution_count": 62,
     "metadata": {},
     "output_type": "execute_result"
    }
   ],
   "source": [
    "df['alco'].unique()"
   ]
  },
  {
   "cell_type": "markdown",
   "metadata": {},
   "source": [
    "<br /> \n",
    "\n",
    "### Active\n",
    "This feature tells us if the person is active. This data is in binary (0 or 1). 0 for no and 1 for yes"
   ]
  },
  {
   "cell_type": "code",
   "execution_count": 63,
   "metadata": {},
   "outputs": [
    {
     "data": {
      "text/plain": [
       "array([1, 0], dtype=int64)"
      ]
     },
     "execution_count": 63,
     "metadata": {},
     "output_type": "execute_result"
    }
   ],
   "source": [
    "df['active'].unique()"
   ]
  },
  {
   "cell_type": "markdown",
   "metadata": {},
   "source": [
    "<br /> \n",
    "\n",
    "### Cardiovasular Disease \n",
    "This is the class label and it tells us if the person has cardiovasular disease. This data is in binary (0 or 1). 0 for no and 1 for yes"
   ]
  },
  {
   "cell_type": "code",
   "execution_count": 64,
   "metadata": {},
   "outputs": [
    {
     "data": {
      "text/plain": [
       "array([0, 1], dtype=int64)"
      ]
     },
     "execution_count": 64,
     "metadata": {},
     "output_type": "execute_result"
    }
   ],
   "source": [
    "df['cardio'].unique()"
   ]
  },
  {
   "cell_type": "code",
   "execution_count": 65,
   "metadata": {},
   "outputs": [
    {
     "data": {
      "text/plain": [
       "1    32357\n",
       "0    30348\n",
       "Name: cardio, dtype: int64"
      ]
     },
     "execution_count": 65,
     "metadata": {},
     "output_type": "execute_result"
    }
   ],
   "source": [
    "# checking to make sure the classes aren't imbalanced\n",
    "df['cardio'].value_counts()"
   ]
  },
  {
   "cell_type": "markdown",
   "metadata": {},
   "source": [
    "<br /> \n",
    "\n",
    "## EXPLANATORY ANALYSIS"
   ]
  },
  {
   "cell_type": "code",
   "execution_count": 66,
   "metadata": {},
   "outputs": [],
   "source": [
    "import seaborn as sns"
   ]
  },
  {
   "cell_type": "code",
   "execution_count": 67,
   "metadata": {},
   "outputs": [],
   "source": [
    "# label function to be used for bar plots to show the value \n",
    "def add_value_labels(ax, spacing=2):\n",
    "    for rect in ax.patches:\n",
    "        # get the x and y location of the value\n",
    "        y_value = rect.get_height()\n",
    "        x_value = rect.get_x() + rect.get_width() / 2\n",
    "\n",
    "        # spacing between the bar and the value\n",
    "        space = spacing\n",
    "        # vertically align the label at bottom\n",
    "        va = 'bottom'\n",
    "        \n",
    "    \n",
    "\n",
    "        # format of the label \n",
    "        label = \"{:.0f}\".format(y_value)\n",
    "\n",
    "        # Create annotation\n",
    "        ax.annotate(\n",
    "            label,                      # the label \n",
    "            (x_value, y_value),         # where the place the label\n",
    "            xytext=(0, space),          # how far from the bar the label should be \n",
    "            textcoords=\"offset points\", \n",
    "            ha='center',                # make sure the label is centered\n",
    "            va=va)                                        "
   ]
  },
  {
   "cell_type": "code",
   "execution_count": 68,
   "metadata": {},
   "outputs": [],
   "source": [
    "# setting the style for the plots\n",
    "sns.set(style=\"ticks\")\n",
    "# creating the palette to use \n",
    "palette = ['#30475e' ,'#f05454']"
   ]
  },
  {
   "cell_type": "code",
   "execution_count": 69,
   "metadata": {},
   "outputs": [],
   "source": [
    "# create a function that plots\n",
    "def create_plot(figsize, df, x, titleOfPlot, legendLoc=0, hue = 'cardio', row=0, col=0, titles = '',plot_type = 'singular'):\n",
    "    if plot_type == 'singular':\n",
    "        plt.figure(figsize = figsize) # create the size of the plot (figsize is a tuple)\n",
    "\n",
    "        # create the plot\n",
    "        if hue == 'none':\n",
    "            plot = sns.countplot(x = x, hue = hue, data = df, palette = palette)\n",
    "        else:\n",
    "            plot = sns.countplot(x = x, hue = hue, data = df, palette = palette)\n",
    "        plot.set_title(titleOfPlot, y = 1.01, fontsize = 14)\n",
    "        plot.set_xlabel(None) \n",
    "        plot.set_ylabel(None) \n",
    "        plot.set_yticks([])\n",
    "\n",
    "        # label the bars \n",
    "        add_value_labels(plot)\n",
    "\n",
    "        # change legend location and title \n",
    "        plot.legend(loc = legendLoc, title = 'Cardiovasular Diease')\n",
    "\n",
    "        plt.show()\n",
    "    else:\n",
    "        fig, ax = plt.subplots(row, col, figsize = figsize)\n",
    "    \n",
    "        fig.suptitle(supTitle, fontsize = 14)\n",
    "\n",
    "        if row == 1 or col == 1: # if 1 dimenstion use a single for loop\n",
    "            values = len(data)\n",
    "            for i in range(values):\n",
    "                if hue == 'none':\n",
    "                    sns.countplot(x = x, data = data[i], palette = palette, ax = ax[i])\n",
    "                else:\n",
    "                    sns.countplot(x = x, hue = hue, data = data[i], palette = palette, ax = ax[i])\n",
    "                ax[i].set_title(titles[i])\n",
    "                ax[i].set_xlabel(None)\n",
    "                ax[i].set_ylabel(None)\n",
    "                ax[i].set_yticks([])\n",
    "\n",
    "                if hue != 'none':\n",
    "                    if (values-1) == i: \n",
    "                        ax[i].legend(title = 'Cardiovasular Disease')\n",
    "                    else:\n",
    "                        ax[i].legend('')\n",
    "\n",
    "                add_value_labels(ax[i]) # add data label \n",
    "            \n",
    "    plt.show()   "
   ]
  },
  {
   "cell_type": "code",
   "execution_count": 70,
   "metadata": {},
   "outputs": [],
   "source": [
    "# use this df to create the plots \n",
    "df2 = df.copy()"
   ]
  },
  {
   "cell_type": "markdown",
   "metadata": {},
   "source": [
    " <br /> \n",
    " \n",
    " ### Age (binned) Vs Cardio\n",
    "\n",
    "This plot compares the age range's and see's which one had the most people with cardiovasular disease.  \n",
    "\n",
    "The binning for age will be 26-30, 31-35, 36-40, 41-45, 46-50, 51-55, 56-60, 61-65"
   ]
  },
  {
   "cell_type": "code",
   "execution_count": 71,
   "metadata": {},
   "outputs": [
    {
     "data": {
      "text/plain": [
       "29"
      ]
     },
     "execution_count": 71,
     "metadata": {},
     "output_type": "execute_result"
    }
   ],
   "source": [
    "# viewing the minimum age\n",
    "df['age'].min()"
   ]
  },
  {
   "cell_type": "code",
   "execution_count": 72,
   "metadata": {},
   "outputs": [
    {
     "data": {
      "text/plain": [
       "64"
      ]
     },
     "execution_count": 72,
     "metadata": {},
     "output_type": "execute_result"
    }
   ],
   "source": [
    "# viewing the max age \n",
    "df['age'].max()"
   ]
  },
  {
   "cell_type": "code",
   "execution_count": 73,
   "metadata": {},
   "outputs": [],
   "source": [
    "# create the bin\n",
    "cut_labels = ['26-30', '31-35', '36-40', '41-45', '46-50', '51-55', '56-60', '61-65']\n",
    "cut_bins = [25,30,35,40,45,50,55,60,65]\n",
    "\n",
    "df2['age'] = pd.cut(df2['age'], cut_bins, labels = cut_labels)\n",
    "\n",
    "\n",
    "# replace o with no and 1 with yes for the cardio column \n",
    "df2['cardio'].replace({0:'No', 1: 'Yes'}, inplace = True)"
   ]
  },
  {
   "cell_type": "code",
   "execution_count": 74,
   "metadata": {},
   "outputs": [
    {
     "data": {
      "text/plain": [
       "0     46-50\n",
       "1     51-55\n",
       "2     51-55\n",
       "3     46-50\n",
       "4     46-50\n",
       "5     56-60\n",
       "6     56-60\n",
       "7     61-65\n",
       "8     46-50\n",
       "9     51-55\n",
       "10    61-65\n",
       "11    51-55\n",
       "12    36-40\n",
       "13    51-55\n",
       "14    36-40\n",
       "Name: age, dtype: category\n",
       "Categories (8, object): [26-30 < 31-35 < 36-40 < 41-45 < 46-50 < 51-55 < 56-60 < 61-65]"
      ]
     },
     "execution_count": 74,
     "metadata": {},
     "output_type": "execute_result"
    }
   ],
   "source": [
    "# viewing to see if df2 looks like how I wanted it to look like \n",
    "df2['age'].head(15)"
   ]
  },
  {
   "cell_type": "code",
   "execution_count": 75,
   "metadata": {},
   "outputs": [
    {
     "data": {
      "text/plain": [
       "0     50\n",
       "1     55\n",
       "2     51\n",
       "3     48\n",
       "4     47\n",
       "5     60\n",
       "6     60\n",
       "7     61\n",
       "8     48\n",
       "9     54\n",
       "10    61\n",
       "11    51\n",
       "12    40\n",
       "13    54\n",
       "14    39\n",
       "Name: age, dtype: int32"
      ]
     },
     "execution_count": 75,
     "metadata": {},
     "output_type": "execute_result"
    }
   ],
   "source": [
    "# comparing the values of df2 and df to make sure the labels for the binning I created are accurate\n",
    "df['age'].head(15)"
   ]
  },
  {
   "cell_type": "code",
   "execution_count": 76,
   "metadata": {},
   "outputs": [
    {
     "data": {
      "image/png": "[encoded data removed]",
      "text/plain": [
       "<Figure size 1080x576 with 1 Axes>"
      ]
     },
     "metadata": {},
     "output_type": "display_data"
    }
   ],
   "source": [
    "# creating the plot\n",
    "figsize = (15,8)                                                                 # figsize\n",
    "data = df2                                                                       # data\n",
    "x = 'age'                                                                        # the x value\n",
    "titleOfPlot = 'How Many People Had Cardiovasular Disease Depending On Their Age' # name of plot\n",
    "\n",
    "\n",
    "# creating the plot\n",
    "create_plot(figsize, data, x, titleOfPlot)"
   ]
  },
  {
   "cell_type": "markdown",
   "metadata": {},
   "source": [
    "This plot shows that most of the data falls around the age range of 41 and up. Also The older you get the less likely you are to not have cardiovasular disease.   \n",
    "__The percentages have been rounded__   \n",
    "&nbsp;&nbsp;        26-30 (total: 4): _0% have cardiovascular disease_  \n",
    "&nbsp;&nbsp;        31-35 (total: 0): _0% have cardiovascular disease_  \n",
    "&nbsp;&nbsp;        36-40 (total: 3,323): _22.6% have cardiovascular disease_  \n",
    "&nbsp;&nbsp;        41-45 (total: 8,725): _34.5% have cardiovascular disease_  \n",
    "&nbsp;&nbsp;        46-50 (total: 11,971): _42% have cardiovascular disease_  \n",
    "&nbsp;&nbsp;        51-55 (total: 17,560): _49.3% have cardiovascular disease_  \n",
    "&nbsp;&nbsp;        56-60 (total: 16,960): _56.8% have cardiovascular disease_  \n",
    "&nbsp;&nbsp;        61-65 (total: 9,500): _69.67% have cardiovascular disease_  \n"
   ]
  },
  {
   "cell_type": "markdown",
   "metadata": {},
   "source": [
    "<br /> \n",
    "\n",
    "### Gender Vs. Cardio\n",
    "\n",
    "Trying to see what gender had the most cases of cardiovasular disease and which had the least. "
   ]
  },
  {
   "cell_type": "code",
   "execution_count": 77,
   "metadata": {},
   "outputs": [],
   "source": [
    "# setting gender to be male and female instead of 0 and 1 so the plot is eaiser to read \n",
    "df2['gender'].replace({0: 'Male', 1: 'Female'}, inplace = True)"
   ]
  },
  {
   "cell_type": "code",
   "execution_count": 78,
   "metadata": {},
   "outputs": [
    {
     "data": {
      "image/png": "[encoded data removed]",
      "text/plain": [
       "<Figure size 720x432 with 1 Axes>"
      ]
     },
     "metadata": {},
     "output_type": "display_data"
    }
   ],
   "source": [
    "# creating the plot\n",
    "figsize = (10,6)                                                                 # figsize\n",
    "data = df2                                                                       # data\n",
    "x = 'gender'                                                                     # the x value\n",
    "titleOfPlot = 'What Gender Suffers From Cardiovasular Disease the Most'          # name of plot\n",
    "\n",
    "# creating the plot\n",
    "create_plot(figsize, data, x, titleOfPlot)"
   ]
  },
  {
   "cell_type": "markdown",
   "metadata": {},
   "source": [
    "This plot tells me that the men and women in this dataset have almost equal numbers of those who do and don't have cardiovasular disease.   \n",
    "__The percentages have been rounded__   \n",
    "&nbsp;&nbsp;           Male (total: 23,397): _50.13% have cardiovascular disease_  \n",
    "&nbsp;&nbsp;           Female (total: 44,645): _49.2% have cardiovascular disease_"
   ]
  },
  {
   "cell_type": "markdown",
   "metadata": {},
   "source": [
    "<br /> \n",
    "\n",
    "### Height(binned) Vs Cardio\n",
    "\n",
    "This plot will compare the height of those people who had cardiovasular disease and those who didn't."
   ]
  },
  {
   "cell_type": "code",
   "execution_count": 79,
   "metadata": {},
   "outputs": [
    {
     "data": {
      "text/plain": [
       "array([66., 61., 65., 67., 59., 62., 70., 68., 71., 64., 60., 63., 69.,\n",
       "       74., 58., 73., 72., 56., 57., 77., 78., 76., 75., 81.])"
      ]
     },
     "execution_count": 79,
     "metadata": {},
     "output_type": "execute_result"
    }
   ],
   "source": [
    "#viewing how many values height has so I can figure out how many bins to create (9)\n",
    "df2['height'].unique()"
   ]
  },
  {
   "cell_type": "code",
   "execution_count": 80,
   "metadata": {},
   "outputs": [
    {
     "data": {
      "text/plain": [
       "81.0"
      ]
     },
     "execution_count": 80,
     "metadata": {},
     "output_type": "execute_result"
    }
   ],
   "source": [
    "df2['height'].max()"
   ]
  },
  {
   "cell_type": "code",
   "execution_count": 81,
   "metadata": {},
   "outputs": [
    {
     "data": {
      "text/plain": [
       "56.0"
      ]
     },
     "execution_count": 81,
     "metadata": {},
     "output_type": "execute_result"
    }
   ],
   "source": [
    "df2['height'].min()"
   ]
  },
  {
   "cell_type": "code",
   "execution_count": 82,
   "metadata": {},
   "outputs": [],
   "source": [
    "# creating the bins \n",
    "cut_label = [\"4ft'8 - 4ft'9\", \"4ft'10 - 5ft\", \"5ft'1 - 5ft'3\", \"5ft'4 -5ft'6\", \"5ft'7 - 5ft'9\", \n",
    "             \"5ft'10 - 6ft\", \"6ft'1 - 6ft'3\", \"6ft'4 - 6ft'6\", \"6ft'7+\"]\n",
    "cut_bins = [55, 57, 60, 63, 66, 69, 72, 75, 78, 81]\n",
    "\n",
    "df2['height'] = pd.cut(df2['height'], bins = cut_bins, labels= cut_label)"
   ]
  },
  {
   "cell_type": "code",
   "execution_count": 83,
   "metadata": {},
   "outputs": [
    {
     "data": {
      "text/plain": [
       "0     5ft'4 -5ft'6\n",
       "1    5ft'1 - 5ft'3\n",
       "2     5ft'4 -5ft'6\n",
       "3    5ft'7 - 5ft'9\n",
       "4    5ft'1 - 5ft'3\n",
       "5     4ft'10 - 5ft\n",
       "6    5ft'1 - 5ft'3\n",
       "7     5ft'10 - 6ft\n",
       "8    5ft'1 - 5ft'3\n",
       "9     5ft'4 -5ft'6\n",
       "Name: height, dtype: category\n",
       "Categories (9, object): [4ft'8 - 4ft'9 < 4ft'10 - 5ft < 5ft'1 - 5ft'3 < 5ft'4 -5ft'6 ... 5ft'10 - 6ft < 6ft'1 - 6ft'3 < 6ft'4 - 6ft'6 < 6ft'7+]"
      ]
     },
     "execution_count": 83,
     "metadata": {},
     "output_type": "execute_result"
    }
   ],
   "source": [
    "# seeing if the binning labels look the way I wanted \n",
    "df2['height'].head(10)"
   ]
  },
  {
   "cell_type": "code",
   "execution_count": 84,
   "metadata": {},
   "outputs": [
    {
     "data": {
      "text/plain": [
       "0    66.0\n",
       "1    61.0\n",
       "2    65.0\n",
       "3    67.0\n",
       "4    61.0\n",
       "5    59.0\n",
       "6    62.0\n",
       "7    70.0\n",
       "8    62.0\n",
       "9    65.0\n",
       "Name: height, dtype: float64"
      ]
     },
     "execution_count": 84,
     "metadata": {},
     "output_type": "execute_result"
    }
   ],
   "source": [
    "# comparing with df2 height to make sure the binning labels are correct \n",
    "df['height'].head(10)"
   ]
  },
  {
   "cell_type": "code",
   "execution_count": 85,
   "metadata": {},
   "outputs": [
    {
     "data": {
      "image/png": "[encoded data removed]",
      "text/plain": [
       "<Figure size 1080x720 with 1 Axes>"
      ]
     },
     "metadata": {},
     "output_type": "display_data"
    }
   ],
   "source": [
    "# creating the plot\n",
    "figsize = (15,10)                                                                # figsize\n",
    "data = df2                                                                       # data\n",
    "x = 'height'                                                                     # the x value\n",
    "titleOfPlot = 'Based On The Height What People Had Cardiovasular Disease'        # name of plot\n",
    "\n",
    "# creating the plot\n",
    "create_plot(figsize, data, x, titleOfPlot)"
   ]
  },
  {
   "cell_type": "markdown",
   "metadata": {},
   "source": [
    "The height of most people in this dataset fell in between 5.1 and 5.9.    \n",
    "__The percentages have been rounded__   \n",
    "&nbsp;&nbsp;         4ft'8 - 4ft'9 (total: 452): _57.3% have cardiovascular disease_   \n",
    "&nbsp;&nbsp;         4ft'10 - 5ft (total: 4,473): _52.38% have cardiovascular disease_   \n",
    "&nbsp;&nbsp;         5ft'1 - 5ft'3 (total: 19,135): _50% have cardiovascular disease_   \n",
    "&nbsp;&nbsp;         5ft'4 - 5ft'6 (total: 23,559): _48.60% have cardiovascular disease_   \n",
    "&nbsp;&nbsp;         5ft'7 - 5ft'9 (total: 16,100): _48.97% have cardiovascular disease_   \n",
    "&nbsp;&nbsp;         5ft'10 - 6ft (total: 3,735): _50.60% have cardiovascular disease_     \n",
    "&nbsp;&nbsp;         6ft'1 - 6ft'3 (total: 537): _48.79% have cardiovascular disease_     \n",
    "&nbsp;&nbsp;         6ft'4 - 6ft'6 (total: 50): _52% have cardiovascular disease_    \n",
    "&nbsp;&nbsp;         6ft'7+ (total: 1): _0% have cardiovascular disease_   \n"
   ]
  },
  {
   "cell_type": "markdown",
   "metadata": {},
   "source": [
    "<br /> \n",
    "\n",
    "### Weight(binned) Vs Cardio\n",
    "\n",
    "This plot will compare the weights of those people who had cardiovasular disease to those who didn't. Also the plot will be broken up to represent the different genders in the dataset to make it easier to view the data. "
   ]
  },
  {
   "cell_type": "code",
   "execution_count": 86,
   "metadata": {},
   "outputs": [
    {
     "data": {
      "text/html": [
       "<div>\n",
       "<style scoped>\n",
       "    .dataframe tbody tr th:only-of-type {\n",
       "        vertical-align: middle;\n",
       "    }\n",
       "\n",
       "    .dataframe tbody tr th {\n",
       "        vertical-align: top;\n",
       "    }\n",
       "\n",
       "    .dataframe thead th {\n",
       "        text-align: right;\n",
       "    }\n",
       "</style>\n",
       "<table border=\"1\" class=\"dataframe\">\n",
       "  <thead>\n",
       "    <tr style=\"text-align: right;\">\n",
       "      <th></th>\n",
       "      <th>age</th>\n",
       "      <th>gender</th>\n",
       "      <th>height</th>\n",
       "      <th>weight</th>\n",
       "      <th>ap_hi</th>\n",
       "      <th>ap_lo</th>\n",
       "      <th>cholesterol</th>\n",
       "      <th>gluc</th>\n",
       "      <th>smoke</th>\n",
       "      <th>alco</th>\n",
       "      <th>active</th>\n",
       "      <th>cardio</th>\n",
       "    </tr>\n",
       "  </thead>\n",
       "  <tbody>\n",
       "    <tr>\n",
       "      <th>0</th>\n",
       "      <td>50</td>\n",
       "      <td>0</td>\n",
       "      <td>66.0</td>\n",
       "      <td>136.69</td>\n",
       "      <td>110</td>\n",
       "      <td>80</td>\n",
       "      <td>1</td>\n",
       "      <td>1</td>\n",
       "      <td>0</td>\n",
       "      <td>0</td>\n",
       "      <td>1</td>\n",
       "      <td>0</td>\n",
       "    </tr>\n",
       "    <tr>\n",
       "      <th>1</th>\n",
       "      <td>55</td>\n",
       "      <td>1</td>\n",
       "      <td>61.0</td>\n",
       "      <td>187.39</td>\n",
       "      <td>140</td>\n",
       "      <td>90</td>\n",
       "      <td>3</td>\n",
       "      <td>1</td>\n",
       "      <td>0</td>\n",
       "      <td>0</td>\n",
       "      <td>1</td>\n",
       "      <td>1</td>\n",
       "    </tr>\n",
       "    <tr>\n",
       "      <th>2</th>\n",
       "      <td>51</td>\n",
       "      <td>1</td>\n",
       "      <td>65.0</td>\n",
       "      <td>141.10</td>\n",
       "      <td>130</td>\n",
       "      <td>70</td>\n",
       "      <td>3</td>\n",
       "      <td>1</td>\n",
       "      <td>0</td>\n",
       "      <td>0</td>\n",
       "      <td>0</td>\n",
       "      <td>1</td>\n",
       "    </tr>\n",
       "    <tr>\n",
       "      <th>3</th>\n",
       "      <td>48</td>\n",
       "      <td>0</td>\n",
       "      <td>67.0</td>\n",
       "      <td>180.78</td>\n",
       "      <td>150</td>\n",
       "      <td>100</td>\n",
       "      <td>1</td>\n",
       "      <td>1</td>\n",
       "      <td>0</td>\n",
       "      <td>0</td>\n",
       "      <td>1</td>\n",
       "      <td>1</td>\n",
       "    </tr>\n",
       "    <tr>\n",
       "      <th>4</th>\n",
       "      <td>47</td>\n",
       "      <td>1</td>\n",
       "      <td>61.0</td>\n",
       "      <td>123.46</td>\n",
       "      <td>100</td>\n",
       "      <td>60</td>\n",
       "      <td>1</td>\n",
       "      <td>1</td>\n",
       "      <td>0</td>\n",
       "      <td>0</td>\n",
       "      <td>0</td>\n",
       "      <td>0</td>\n",
       "    </tr>\n",
       "    <tr>\n",
       "      <th>5</th>\n",
       "      <td>60</td>\n",
       "      <td>1</td>\n",
       "      <td>59.0</td>\n",
       "      <td>147.71</td>\n",
       "      <td>120</td>\n",
       "      <td>80</td>\n",
       "      <td>2</td>\n",
       "      <td>2</td>\n",
       "      <td>0</td>\n",
       "      <td>0</td>\n",
       "      <td>0</td>\n",
       "      <td>0</td>\n",
       "    </tr>\n",
       "    <tr>\n",
       "      <th>6</th>\n",
       "      <td>60</td>\n",
       "      <td>1</td>\n",
       "      <td>62.0</td>\n",
       "      <td>205.03</td>\n",
       "      <td>130</td>\n",
       "      <td>80</td>\n",
       "      <td>3</td>\n",
       "      <td>1</td>\n",
       "      <td>0</td>\n",
       "      <td>0</td>\n",
       "      <td>1</td>\n",
       "      <td>0</td>\n",
       "    </tr>\n",
       "    <tr>\n",
       "      <th>7</th>\n",
       "      <td>61</td>\n",
       "      <td>0</td>\n",
       "      <td>70.0</td>\n",
       "      <td>209.44</td>\n",
       "      <td>130</td>\n",
       "      <td>90</td>\n",
       "      <td>3</td>\n",
       "      <td>3</td>\n",
       "      <td>0</td>\n",
       "      <td>0</td>\n",
       "      <td>1</td>\n",
       "      <td>1</td>\n",
       "    </tr>\n",
       "    <tr>\n",
       "      <th>8</th>\n",
       "      <td>48</td>\n",
       "      <td>1</td>\n",
       "      <td>62.0</td>\n",
       "      <td>156.53</td>\n",
       "      <td>110</td>\n",
       "      <td>70</td>\n",
       "      <td>1</td>\n",
       "      <td>1</td>\n",
       "      <td>0</td>\n",
       "      <td>0</td>\n",
       "      <td>1</td>\n",
       "      <td>0</td>\n",
       "    </tr>\n",
       "    <tr>\n",
       "      <th>9</th>\n",
       "      <td>54</td>\n",
       "      <td>1</td>\n",
       "      <td>65.0</td>\n",
       "      <td>149.91</td>\n",
       "      <td>110</td>\n",
       "      <td>60</td>\n",
       "      <td>1</td>\n",
       "      <td>1</td>\n",
       "      <td>0</td>\n",
       "      <td>0</td>\n",
       "      <td>0</td>\n",
       "      <td>0</td>\n",
       "    </tr>\n",
       "  </tbody>\n",
       "</table>\n",
       "</div>"
      ],
      "text/plain": [
       "   age  gender  height  weight  ap_hi  ap_lo  cholesterol  gluc  smoke  alco  \\\n",
       "0   50       0    66.0  136.69    110     80            1     1      0     0   \n",
       "1   55       1    61.0  187.39    140     90            3     1      0     0   \n",
       "2   51       1    65.0  141.10    130     70            3     1      0     0   \n",
       "3   48       0    67.0  180.78    150    100            1     1      0     0   \n",
       "4   47       1    61.0  123.46    100     60            1     1      0     0   \n",
       "5   60       1    59.0  147.71    120     80            2     2      0     0   \n",
       "6   60       1    62.0  205.03    130     80            3     1      0     0   \n",
       "7   61       0    70.0  209.44    130     90            3     3      0     0   \n",
       "8   48       1    62.0  156.53    110     70            1     1      0     0   \n",
       "9   54       1    65.0  149.91    110     60            1     1      0     0   \n",
       "\n",
       "   active  cardio  \n",
       "0       1       0  \n",
       "1       1       1  \n",
       "2       0       1  \n",
       "3       1       1  \n",
       "4       0       0  \n",
       "5       0       0  \n",
       "6       1       0  \n",
       "7       1       1  \n",
       "8       1       0  \n",
       "9       0       0  "
      ]
     },
     "execution_count": 86,
     "metadata": {},
     "output_type": "execute_result"
    }
   ],
   "source": [
    "df.head(10)"
   ]
  },
  {
   "cell_type": "code",
   "execution_count": 87,
   "metadata": {},
   "outputs": [
    {
     "data": {
      "text/plain": [
       "136"
      ]
     },
     "execution_count": 87,
     "metadata": {},
     "output_type": "execute_result"
    }
   ],
   "source": [
    "# creating a dataframe that contains the information of all the females\n",
    "female_df = df[df['gender'] == 1].copy()\n",
    "len(female_df['weight'].unique()) # viewing how many unique values exist for the weights in this dataset"
   ]
  },
  {
   "cell_type": "code",
   "execution_count": 88,
   "metadata": {},
   "outputs": [
    {
     "data": {
      "text/plain": [
       "63.93"
      ]
     },
     "execution_count": 88,
     "metadata": {},
     "output_type": "execute_result"
    }
   ],
   "source": [
    "# looking at the min weight\n",
    "female_df['weight'].min()"
   ]
  },
  {
   "cell_type": "code",
   "execution_count": 89,
   "metadata": {},
   "outputs": [
    {
     "data": {
      "text/plain": [
       "440.92"
      ]
     },
     "execution_count": 89,
     "metadata": {},
     "output_type": "execute_result"
    }
   ],
   "source": [
    "# looking at the max weight\n",
    "female_df['weight'].max()"
   ]
  },
  {
   "cell_type": "code",
   "execution_count": 90,
   "metadata": {},
   "outputs": [],
   "source": [
    "# female bins <=100, (100-200], (200-300], (300,400], >400\n",
    "f_bins = [60,100,200,300,400,500]\n",
    "f_labels = ['<=100', '(100-200]', '(200-300]', '(300,400]', '>400']\n",
    "\n",
    "female_df['weight'] = pd.cut(female_df['weight'], bins = f_bins, labels = f_labels)"
   ]
  },
  {
   "cell_type": "code",
   "execution_count": 91,
   "metadata": {},
   "outputs": [
    {
     "data": {
      "text/plain": [
       "1    (100-200]\n",
       "2    (100-200]\n",
       "4    (100-200]\n",
       "5    (100-200]\n",
       "6    (200-300]\n",
       "Name: weight, dtype: category\n",
       "Categories (5, object): [<=100 < (100-200] < (200-300] < (300,400] < >400]"
      ]
     },
     "execution_count": 91,
     "metadata": {},
     "output_type": "execute_result"
    }
   ],
   "source": [
    "# viewing to make sure my binning worked\n",
    "female_df['weight'].head()"
   ]
  },
  {
   "cell_type": "code",
   "execution_count": 92,
   "metadata": {},
   "outputs": [
    {
     "data": {
      "text/plain": [
       "0    136.69\n",
       "1    187.39\n",
       "2    141.10\n",
       "3    180.78\n",
       "4    123.46\n",
       "Name: weight, dtype: float64"
      ]
     },
     "execution_count": 92,
     "metadata": {},
     "output_type": "execute_result"
    }
   ],
   "source": [
    "# comparing this to the above statement to see if the labels are correct \n",
    "df['weight'].head()"
   ]
  },
  {
   "cell_type": "code",
   "execution_count": 93,
   "metadata": {},
   "outputs": [
    {
     "data": {
      "text/plain": [
       "123"
      ]
     },
     "execution_count": 93,
     "metadata": {},
     "output_type": "execute_result"
    }
   ],
   "source": [
    "# creating a dataframe that contains only the males information \n",
    "male_df = df[(df['gender'] == 0)].copy()\n",
    "len(male_df['weight'].unique())"
   ]
  },
  {
   "cell_type": "code",
   "execution_count": 94,
   "metadata": {},
   "outputs": [
    {
     "data": {
      "text/plain": [
       "90.39"
      ]
     },
     "execution_count": 94,
     "metadata": {},
     "output_type": "execute_result"
    }
   ],
   "source": [
    "# viewing the minimum weight\n",
    "male_df['weight'].min()"
   ]
  },
  {
   "cell_type": "code",
   "execution_count": 95,
   "metadata": {},
   "outputs": [
    {
     "data": {
      "text/plain": [
       "440.92"
      ]
     },
     "execution_count": 95,
     "metadata": {},
     "output_type": "execute_result"
    }
   ],
   "source": [
    "# viewing the max weight\n",
    "male_df['weight'].max()"
   ]
  },
  {
   "cell_type": "code",
   "execution_count": 96,
   "metadata": {},
   "outputs": [],
   "source": [
    "# male bins <=100, (100-200], (200-300], (300,400], >400\n",
    "m_bins = [90,100,200,300,400,500]\n",
    "m_labels = ['<=100', '(100-200]', '(200-300]', '(300,400]', '>400']\n",
    "\n",
    "male_df['weight'] = pd.cut(male_df['weight'], bins = f_bins, labels = f_labels)"
   ]
  },
  {
   "cell_type": "code",
   "execution_count": 97,
   "metadata": {},
   "outputs": [
    {
     "data": {
      "image/png": "[encoded data removed]",
      "text/plain": [
       "<Figure size 1080x504 with 2 Axes>"
      ]
     },
     "metadata": {},
     "output_type": "display_data"
    }
   ],
   "source": [
    "# creating the plot\n",
    "figsize = (15,7)                                                       # figure size\n",
    "row = 1                                                                # how many rows\n",
    "col = 2                                                                # how many columns\n",
    "data = [female_df, male_df]                                            # the data that we are plotting\n",
    "x = 'weight'                                                           # the x value \n",
    "supTitle = 'What Were The Weights Of The Individuals In This Dataset'  # suptitle\n",
    "titles = ['Female', 'Male']    \n",
    "\n",
    "create_plot(figsize, data, x, supTitle, 0,'cardio', row, col, titles,'subplots')"
   ]
  },
  {
   "cell_type": "markdown",
   "metadata": {},
   "source": [
    "The plot above shows the weights of those who have cardiovasslar disease and those who don't.   \n",
    "\n",
    "__The percentages have been rounded__  \n",
    "__Female:__  \n",
    "It seems that most of the females in the dataset fall in the range of 100-200 pounds. Also the females that do fall in the 100-200 pounds most of them don't have cardiovasular diease, but the bars aren't too far apart from one another.   \n",
    "&nbsp;&nbsp;        <= 100 (total: 367): _28% have cardiovascular disease_  \n",
    "&nbsp;&nbsp;        (100-200] (total: 39,838): _47.5% have cardiovascular disease_   \n",
    "&nbsp;&nbsp;        (200,300] (total: 4,380): _66.3% have cardiovascular disease_  \n",
    "&nbsp;&nbsp;        (300-400] (total: 59): _76.27% have cardiovascular disease_  \n",
    "&nbsp;&nbsp;        greater than 400 (total: 1): _0% have cardiovascular disease_  \n",
    "\n",
    "__Male:__ \n",
    "Just like the females most of the men in the dataset fall in the range of 100-200 pounds. Also another similarity between the two subplots is that for the 200-300 range the number that have cardiovasular diease is greater than those who don't.    \n",
    "&nbsp;&nbsp;        <= 100 (total: 15): _13.3% have cardiovascular disease_  \n",
    "&nbsp;&nbsp;        (100-200] (total: 19,765): _47.38% have cardiovascular disease_   \n",
    "&nbsp;&nbsp;        (200,300] (total: 3,566): _65.3% have cardiovascular disease_  \n",
    "&nbsp;&nbsp;        (300-400] (total: 49): _65.3% have cardiovascular disease_  \n",
    "&nbsp;&nbsp;        greater than 400 (total: 2): _100% have cardiovascular disease_  \n"
   ]
  },
  {
   "cell_type": "markdown",
   "metadata": {},
   "source": [
    "<br />\n",
    "\n",
    "####  How many individuals are over weight, under weight, normal weight \n",
    "I am creating a column that tells you the persons bmi and seeing based on their bmi levels how many males have cardiovasular disease and the same for females.    \n",
    "\n",
    "Formula for bmi:  \n",
    "mass (in kg) / height^2 (in meters)  \n",
    "\n",
    "Feet to meters:  \n",
    "ft/3.2808   \n",
    "\n",
    "Pounds to Kg: \n",
    "pound / 2.20462262185"
   ]
  },
  {
   "cell_type": "code",
   "execution_count": 98,
   "metadata": {},
   "outputs": [],
   "source": [
    "# reassignming female_df and male_df because can't do calculations on categorical values that we created through binning to \n",
    "# create the above plot \n",
    "female_df = df[df['gender'] == 1].copy()\n",
    "male_df = df[df['gender'] == 0].copy()"
   ]
  },
  {
   "cell_type": "code",
   "execution_count": 99,
   "metadata": {},
   "outputs": [],
   "source": [
    "# function to calculate bmi \n",
    "def cal_bmi(weight,height):\n",
    "    # calculate the height^2 in meters\n",
    "    height_meters = height/39.37\n",
    "    height_squared = height_meters * height_meters\n",
    "    # calculate the weight in kg\n",
    "    weight_kg = weight/ 2.20462262185\n",
    "    # calculate the bmi\n",
    "    bmi = weight_kg / height_squared\n",
    "    \n",
    "    # return the bmi list \n",
    "    return bmi"
   ]
  },
  {
   "cell_type": "code",
   "execution_count": 100,
   "metadata": {},
   "outputs": [],
   "source": [
    "def bin_bmi(bmi):\n",
    "    result = []\n",
    "    # for loop for the bmi list \n",
    "    for value in bmi:\n",
    "        # if below 18.5 then underweight \n",
    "        if (value < 18.5): \n",
    "            result.append('underweight')\n",
    "        # if 18.5 - 24.9 then normal \n",
    "        elif value >= 18.5 and value <= 24.9:\n",
    "            result.append('normal')\n",
    "        # if 25.0-29.9 then overweight \n",
    "        elif value >= 25.0 and value <= 29.9: \n",
    "            result.append('overweight')\n",
    "        # if over 30 then obese\n",
    "        else:\n",
    "            result.append('obese')\n",
    "    \n",
    "    return result"
   ]
  },
  {
   "cell_type": "code",
   "execution_count": 101,
   "metadata": {},
   "outputs": [],
   "source": [
    "# inserting the bmi feature \n",
    "female_df.insert(4, 'bmi', bin_bmi(cal_bmi(female_df['weight'], female_df['height'])))\n",
    "male_df.insert(4, 'bmi', bin_bmi(cal_bmi(male_df['weight'], male_df['height'])))"
   ]
  },
  {
   "cell_type": "code",
   "execution_count": 102,
   "metadata": {},
   "outputs": [
    {
     "data": {
      "text/html": [
       "<div>\n",
       "<style scoped>\n",
       "    .dataframe tbody tr th:only-of-type {\n",
       "        vertical-align: middle;\n",
       "    }\n",
       "\n",
       "    .dataframe tbody tr th {\n",
       "        vertical-align: top;\n",
       "    }\n",
       "\n",
       "    .dataframe thead th {\n",
       "        text-align: right;\n",
       "    }\n",
       "</style>\n",
       "<table border=\"1\" class=\"dataframe\">\n",
       "  <thead>\n",
       "    <tr style=\"text-align: right;\">\n",
       "      <th></th>\n",
       "      <th>age</th>\n",
       "      <th>gender</th>\n",
       "      <th>height</th>\n",
       "      <th>weight</th>\n",
       "      <th>bmi</th>\n",
       "      <th>ap_hi</th>\n",
       "      <th>ap_lo</th>\n",
       "      <th>cholesterol</th>\n",
       "      <th>gluc</th>\n",
       "      <th>smoke</th>\n",
       "      <th>alco</th>\n",
       "      <th>active</th>\n",
       "      <th>cardio</th>\n",
       "    </tr>\n",
       "  </thead>\n",
       "  <tbody>\n",
       "    <tr>\n",
       "      <th>1</th>\n",
       "      <td>55</td>\n",
       "      <td>1</td>\n",
       "      <td>61.0</td>\n",
       "      <td>187.39</td>\n",
       "      <td>obese</td>\n",
       "      <td>140</td>\n",
       "      <td>90</td>\n",
       "      <td>3</td>\n",
       "      <td>1</td>\n",
       "      <td>0</td>\n",
       "      <td>0</td>\n",
       "      <td>1</td>\n",
       "      <td>1</td>\n",
       "    </tr>\n",
       "    <tr>\n",
       "      <th>2</th>\n",
       "      <td>51</td>\n",
       "      <td>1</td>\n",
       "      <td>65.0</td>\n",
       "      <td>141.10</td>\n",
       "      <td>normal</td>\n",
       "      <td>130</td>\n",
       "      <td>70</td>\n",
       "      <td>3</td>\n",
       "      <td>1</td>\n",
       "      <td>0</td>\n",
       "      <td>0</td>\n",
       "      <td>0</td>\n",
       "      <td>1</td>\n",
       "    </tr>\n",
       "    <tr>\n",
       "      <th>4</th>\n",
       "      <td>47</td>\n",
       "      <td>1</td>\n",
       "      <td>61.0</td>\n",
       "      <td>123.46</td>\n",
       "      <td>normal</td>\n",
       "      <td>100</td>\n",
       "      <td>60</td>\n",
       "      <td>1</td>\n",
       "      <td>1</td>\n",
       "      <td>0</td>\n",
       "      <td>0</td>\n",
       "      <td>0</td>\n",
       "      <td>0</td>\n",
       "    </tr>\n",
       "    <tr>\n",
       "      <th>5</th>\n",
       "      <td>60</td>\n",
       "      <td>1</td>\n",
       "      <td>59.0</td>\n",
       "      <td>147.71</td>\n",
       "      <td>overweight</td>\n",
       "      <td>120</td>\n",
       "      <td>80</td>\n",
       "      <td>2</td>\n",
       "      <td>2</td>\n",
       "      <td>0</td>\n",
       "      <td>0</td>\n",
       "      <td>0</td>\n",
       "      <td>0</td>\n",
       "    </tr>\n",
       "    <tr>\n",
       "      <th>6</th>\n",
       "      <td>60</td>\n",
       "      <td>1</td>\n",
       "      <td>62.0</td>\n",
       "      <td>205.03</td>\n",
       "      <td>obese</td>\n",
       "      <td>130</td>\n",
       "      <td>80</td>\n",
       "      <td>3</td>\n",
       "      <td>1</td>\n",
       "      <td>0</td>\n",
       "      <td>0</td>\n",
       "      <td>1</td>\n",
       "      <td>0</td>\n",
       "    </tr>\n",
       "    <tr>\n",
       "      <th>8</th>\n",
       "      <td>48</td>\n",
       "      <td>1</td>\n",
       "      <td>62.0</td>\n",
       "      <td>156.53</td>\n",
       "      <td>overweight</td>\n",
       "      <td>110</td>\n",
       "      <td>70</td>\n",
       "      <td>1</td>\n",
       "      <td>1</td>\n",
       "      <td>0</td>\n",
       "      <td>0</td>\n",
       "      <td>1</td>\n",
       "      <td>0</td>\n",
       "    </tr>\n",
       "    <tr>\n",
       "      <th>9</th>\n",
       "      <td>54</td>\n",
       "      <td>1</td>\n",
       "      <td>65.0</td>\n",
       "      <td>149.91</td>\n",
       "      <td>obese</td>\n",
       "      <td>110</td>\n",
       "      <td>60</td>\n",
       "      <td>1</td>\n",
       "      <td>1</td>\n",
       "      <td>0</td>\n",
       "      <td>0</td>\n",
       "      <td>0</td>\n",
       "      <td>0</td>\n",
       "    </tr>\n",
       "    <tr>\n",
       "      <th>10</th>\n",
       "      <td>61</td>\n",
       "      <td>1</td>\n",
       "      <td>67.0</td>\n",
       "      <td>176.37</td>\n",
       "      <td>overweight</td>\n",
       "      <td>120</td>\n",
       "      <td>80</td>\n",
       "      <td>1</td>\n",
       "      <td>1</td>\n",
       "      <td>0</td>\n",
       "      <td>0</td>\n",
       "      <td>1</td>\n",
       "      <td>0</td>\n",
       "    </tr>\n",
       "    <tr>\n",
       "      <th>13</th>\n",
       "      <td>54</td>\n",
       "      <td>1</td>\n",
       "      <td>62.0</td>\n",
       "      <td>171.96</td>\n",
       "      <td>obese</td>\n",
       "      <td>110</td>\n",
       "      <td>70</td>\n",
       "      <td>1</td>\n",
       "      <td>1</td>\n",
       "      <td>0</td>\n",
       "      <td>0</td>\n",
       "      <td>1</td>\n",
       "      <td>0</td>\n",
       "    </tr>\n",
       "    <tr>\n",
       "      <th>16</th>\n",
       "      <td>58</td>\n",
       "      <td>1</td>\n",
       "      <td>67.0</td>\n",
       "      <td>165.35</td>\n",
       "      <td>overweight</td>\n",
       "      <td>130</td>\n",
       "      <td>70</td>\n",
       "      <td>1</td>\n",
       "      <td>1</td>\n",
       "      <td>0</td>\n",
       "      <td>0</td>\n",
       "      <td>0</td>\n",
       "      <td>0</td>\n",
       "    </tr>\n",
       "  </tbody>\n",
       "</table>\n",
       "</div>"
      ],
      "text/plain": [
       "    age  gender  height  weight         bmi  ap_hi  ap_lo  cholesterol  gluc  \\\n",
       "1    55       1    61.0  187.39       obese    140     90            3     1   \n",
       "2    51       1    65.0  141.10      normal    130     70            3     1   \n",
       "4    47       1    61.0  123.46      normal    100     60            1     1   \n",
       "5    60       1    59.0  147.71  overweight    120     80            2     2   \n",
       "6    60       1    62.0  205.03       obese    130     80            3     1   \n",
       "8    48       1    62.0  156.53  overweight    110     70            1     1   \n",
       "9    54       1    65.0  149.91       obese    110     60            1     1   \n",
       "10   61       1    67.0  176.37  overweight    120     80            1     1   \n",
       "13   54       1    62.0  171.96       obese    110     70            1     1   \n",
       "16   58       1    67.0  165.35  overweight    130     70            1     1   \n",
       "\n",
       "    smoke  alco  active  cardio  \n",
       "1       0     0       1       1  \n",
       "2       0     0       0       1  \n",
       "4       0     0       0       0  \n",
       "5       0     0       0       0  \n",
       "6       0     0       1       0  \n",
       "8       0     0       1       0  \n",
       "9       0     0       0       0  \n",
       "10      0     0       1       0  \n",
       "13      0     0       1       0  \n",
       "16      0     0       0       0  "
      ]
     },
     "execution_count": 102,
     "metadata": {},
     "output_type": "execute_result"
    }
   ],
   "source": [
    "# checking to make sure the insertion occurred corrected \n",
    "female_df.head(10)"
   ]
  },
  {
   "cell_type": "code",
   "execution_count": 103,
   "metadata": {},
   "outputs": [
    {
     "data": {
      "text/html": [
       "<div>\n",
       "<style scoped>\n",
       "    .dataframe tbody tr th:only-of-type {\n",
       "        vertical-align: middle;\n",
       "    }\n",
       "\n",
       "    .dataframe tbody tr th {\n",
       "        vertical-align: top;\n",
       "    }\n",
       "\n",
       "    .dataframe thead th {\n",
       "        text-align: right;\n",
       "    }\n",
       "</style>\n",
       "<table border=\"1\" class=\"dataframe\">\n",
       "  <thead>\n",
       "    <tr style=\"text-align: right;\">\n",
       "      <th></th>\n",
       "      <th>age</th>\n",
       "      <th>gender</th>\n",
       "      <th>height</th>\n",
       "      <th>weight</th>\n",
       "      <th>bmi</th>\n",
       "      <th>ap_hi</th>\n",
       "      <th>ap_lo</th>\n",
       "      <th>cholesterol</th>\n",
       "      <th>gluc</th>\n",
       "      <th>smoke</th>\n",
       "      <th>alco</th>\n",
       "      <th>active</th>\n",
       "      <th>cardio</th>\n",
       "    </tr>\n",
       "  </thead>\n",
       "  <tbody>\n",
       "    <tr>\n",
       "      <th>0</th>\n",
       "      <td>50</td>\n",
       "      <td>0</td>\n",
       "      <td>66.0</td>\n",
       "      <td>136.69</td>\n",
       "      <td>normal</td>\n",
       "      <td>110</td>\n",
       "      <td>80</td>\n",
       "      <td>1</td>\n",
       "      <td>1</td>\n",
       "      <td>0</td>\n",
       "      <td>0</td>\n",
       "      <td>1</td>\n",
       "      <td>0</td>\n",
       "    </tr>\n",
       "    <tr>\n",
       "      <th>3</th>\n",
       "      <td>48</td>\n",
       "      <td>0</td>\n",
       "      <td>67.0</td>\n",
       "      <td>180.78</td>\n",
       "      <td>overweight</td>\n",
       "      <td>150</td>\n",
       "      <td>100</td>\n",
       "      <td>1</td>\n",
       "      <td>1</td>\n",
       "      <td>0</td>\n",
       "      <td>0</td>\n",
       "      <td>1</td>\n",
       "      <td>1</td>\n",
       "    </tr>\n",
       "    <tr>\n",
       "      <th>7</th>\n",
       "      <td>61</td>\n",
       "      <td>0</td>\n",
       "      <td>70.0</td>\n",
       "      <td>209.44</td>\n",
       "      <td>obese</td>\n",
       "      <td>130</td>\n",
       "      <td>90</td>\n",
       "      <td>3</td>\n",
       "      <td>3</td>\n",
       "      <td>0</td>\n",
       "      <td>0</td>\n",
       "      <td>1</td>\n",
       "      <td>1</td>\n",
       "    </tr>\n",
       "    <tr>\n",
       "      <th>11</th>\n",
       "      <td>51</td>\n",
       "      <td>0</td>\n",
       "      <td>68.0</td>\n",
       "      <td>132.28</td>\n",
       "      <td>normal</td>\n",
       "      <td>120</td>\n",
       "      <td>80</td>\n",
       "      <td>1</td>\n",
       "      <td>1</td>\n",
       "      <td>0</td>\n",
       "      <td>0</td>\n",
       "      <td>1</td>\n",
       "      <td>0</td>\n",
       "    </tr>\n",
       "    <tr>\n",
       "      <th>12</th>\n",
       "      <td>40</td>\n",
       "      <td>0</td>\n",
       "      <td>65.0</td>\n",
       "      <td>132.28</td>\n",
       "      <td>normal</td>\n",
       "      <td>120</td>\n",
       "      <td>80</td>\n",
       "      <td>1</td>\n",
       "      <td>1</td>\n",
       "      <td>0</td>\n",
       "      <td>0</td>\n",
       "      <td>0</td>\n",
       "      <td>0</td>\n",
       "    </tr>\n",
       "    <tr>\n",
       "      <th>14</th>\n",
       "      <td>39</td>\n",
       "      <td>0</td>\n",
       "      <td>71.0</td>\n",
       "      <td>209.44</td>\n",
       "      <td>overweight</td>\n",
       "      <td>130</td>\n",
       "      <td>90</td>\n",
       "      <td>1</td>\n",
       "      <td>1</td>\n",
       "      <td>1</td>\n",
       "      <td>1</td>\n",
       "      <td>1</td>\n",
       "      <td>0</td>\n",
       "    </tr>\n",
       "    <tr>\n",
       "      <th>15</th>\n",
       "      <td>45</td>\n",
       "      <td>0</td>\n",
       "      <td>68.0</td>\n",
       "      <td>246.92</td>\n",
       "      <td>obese</td>\n",
       "      <td>120</td>\n",
       "      <td>80</td>\n",
       "      <td>1</td>\n",
       "      <td>1</td>\n",
       "      <td>0</td>\n",
       "      <td>0</td>\n",
       "      <td>0</td>\n",
       "      <td>1</td>\n",
       "    </tr>\n",
       "    <tr>\n",
       "      <th>19</th>\n",
       "      <td>59</td>\n",
       "      <td>0</td>\n",
       "      <td>64.0</td>\n",
       "      <td>123.46</td>\n",
       "      <td>normal</td>\n",
       "      <td>120</td>\n",
       "      <td>70</td>\n",
       "      <td>1</td>\n",
       "      <td>1</td>\n",
       "      <td>1</td>\n",
       "      <td>0</td>\n",
       "      <td>1</td>\n",
       "      <td>0</td>\n",
       "    </tr>\n",
       "    <tr>\n",
       "      <th>20</th>\n",
       "      <td>54</td>\n",
       "      <td>0</td>\n",
       "      <td>64.0</td>\n",
       "      <td>182.98</td>\n",
       "      <td>obese</td>\n",
       "      <td>120</td>\n",
       "      <td>80</td>\n",
       "      <td>1</td>\n",
       "      <td>1</td>\n",
       "      <td>0</td>\n",
       "      <td>0</td>\n",
       "      <td>1</td>\n",
       "      <td>0</td>\n",
       "    </tr>\n",
       "    <tr>\n",
       "      <th>28</th>\n",
       "      <td>39</td>\n",
       "      <td>0</td>\n",
       "      <td>65.0</td>\n",
       "      <td>145.51</td>\n",
       "      <td>normal</td>\n",
       "      <td>120</td>\n",
       "      <td>80</td>\n",
       "      <td>1</td>\n",
       "      <td>1</td>\n",
       "      <td>0</td>\n",
       "      <td>0</td>\n",
       "      <td>1</td>\n",
       "      <td>0</td>\n",
       "    </tr>\n",
       "  </tbody>\n",
       "</table>\n",
       "</div>"
      ],
      "text/plain": [
       "    age  gender  height  weight         bmi  ap_hi  ap_lo  cholesterol  gluc  \\\n",
       "0    50       0    66.0  136.69      normal    110     80            1     1   \n",
       "3    48       0    67.0  180.78  overweight    150    100            1     1   \n",
       "7    61       0    70.0  209.44       obese    130     90            3     3   \n",
       "11   51       0    68.0  132.28      normal    120     80            1     1   \n",
       "12   40       0    65.0  132.28      normal    120     80            1     1   \n",
       "14   39       0    71.0  209.44  overweight    130     90            1     1   \n",
       "15   45       0    68.0  246.92       obese    120     80            1     1   \n",
       "19   59       0    64.0  123.46      normal    120     70            1     1   \n",
       "20   54       0    64.0  182.98       obese    120     80            1     1   \n",
       "28   39       0    65.0  145.51      normal    120     80            1     1   \n",
       "\n",
       "    smoke  alco  active  cardio  \n",
       "0       0     0       1       0  \n",
       "3       0     0       1       1  \n",
       "7       0     0       1       1  \n",
       "11      0     0       1       0  \n",
       "12      0     0       0       0  \n",
       "14      1     1       1       0  \n",
       "15      0     0       0       1  \n",
       "19      1     0       1       0  \n",
       "20      0     0       1       0  \n",
       "28      0     0       1       0  "
      ]
     },
     "execution_count": 103,
     "metadata": {},
     "output_type": "execute_result"
    }
   ],
   "source": [
    "# checking to make sure the insertion occurred corrected \n",
    "male_df.head(10)"
   ]
  },
  {
   "cell_type": "code",
   "execution_count": 104,
   "metadata": {},
   "outputs": [
    {
     "data": {
      "image/png": "[encoded data removed]",
      "text/plain": [
       "<Figure size 1080x576 with 2 Axes>"
      ]
     },
     "metadata": {},
     "output_type": "display_data"
    }
   ],
   "source": [
    "# creating the plot\n",
    "figsize = (15,8)                                                       # figure size\n",
    "x = 'bmi'                                                              # the x value \n",
    "supTitle = 'What Is The BMI Of the Individuals In The DataFrame'       # suptitle\n",
    "row = 1                                                                # how many rows\n",
    "col = 2                                                                # how many columns\n",
    "data = [female_df, male_df]                                            # the data that we are plotting\n",
    "titles = ['Female', 'Male']                                            # title of each subplot\n",
    "\n",
    "create_plot(figsize, data, x, supTitle, 0,'cardio', row, col, titles,'subplots')"
   ]
  },
  {
   "cell_type": "markdown",
   "metadata": {},
   "source": [
    "The plot above compares the bmi category that those who had cardiovascular disease and those who didn't fall under.\n",
    "\n",
    "__The percentages have been rounded__   \n",
    "__Female:__   \n",
    "It seems that the majority of cardiovascular disease female individuals fall under obese and overweight. But the people with a normal bmi and have cardiovascular disease are much higher than I anticipated.   \n",
    "&nbsp;&nbsp;     Obese (total: 14,593): _60% have cardiovascular disease_  \n",
    "&nbsp;&nbsp;     Overweight (total: 14,685): _49.4% have cardiovascular disease_     \n",
    "&nbsp;&nbsp;     Normal (total: 14,955): _39% have cardiovascular disease_  \n",
    "&nbsp;&nbsp;     UnderWeight (total: 412): _25.7% have cardiovascular disease_     \n",
    "\n",
    "__Male:__   \n",
    "For males it seems that the majority of people with cardiovascular disease are those who are overweight. Interestingly enough the males with normal and obese bmi have the almost the same amount of people with cardiovascular diease. However if you look at the total number of males who are obese compared to those who are normal weight you will see there are more that are normal weight in this dataset.     \n",
    "&nbsp;&nbsp;     Obese (total: 5,060): _63.3% have cardiovascular disease_    \n",
    "&nbsp;&nbsp;     Overweight (total: 9,109): _52.98% have cardiovascular disease_       \n",
    "&nbsp;&nbsp;     Normal (total: 9,029): _40% have cardiovascular disease_      \n",
    "&nbsp;&nbsp;     UnderWeight (total: 199): _25.6% have cardiovascular disease_   \n",
    "\n",
    "\n",
    "__Something interesting is that the percentages of those who have cardiovascular disease for each of the different bmi's are very close for males and females.__"
   ]
  },
  {
   "cell_type": "markdown",
   "metadata": {},
   "source": [
    "<br/> \n",
    "\n",
    "### Adding the bmi column \n",
    "\n",
    "Adding in the bmi column into the dataframe because it will be helpful when doing prediction when the models are prediction "
   ]
  },
  {
   "cell_type": "code",
   "execution_count": 105,
   "metadata": {},
   "outputs": [],
   "source": [
    "df.insert(3, \"bmi\", round(cal_bmi(df['weight'], df['height']), 2))"
   ]
  },
  {
   "cell_type": "code",
   "execution_count": 106,
   "metadata": {},
   "outputs": [
    {
     "data": {
      "text/html": [
       "<div>\n",
       "<style scoped>\n",
       "    .dataframe tbody tr th:only-of-type {\n",
       "        vertical-align: middle;\n",
       "    }\n",
       "\n",
       "    .dataframe tbody tr th {\n",
       "        vertical-align: top;\n",
       "    }\n",
       "\n",
       "    .dataframe thead th {\n",
       "        text-align: right;\n",
       "    }\n",
       "</style>\n",
       "<table border=\"1\" class=\"dataframe\">\n",
       "  <thead>\n",
       "    <tr style=\"text-align: right;\">\n",
       "      <th></th>\n",
       "      <th>age</th>\n",
       "      <th>gender</th>\n",
       "      <th>height</th>\n",
       "      <th>bmi</th>\n",
       "      <th>weight</th>\n",
       "      <th>ap_hi</th>\n",
       "      <th>ap_lo</th>\n",
       "      <th>cholesterol</th>\n",
       "      <th>gluc</th>\n",
       "      <th>smoke</th>\n",
       "      <th>alco</th>\n",
       "      <th>active</th>\n",
       "      <th>cardio</th>\n",
       "    </tr>\n",
       "  </thead>\n",
       "  <tbody>\n",
       "    <tr>\n",
       "      <th>0</th>\n",
       "      <td>50</td>\n",
       "      <td>0</td>\n",
       "      <td>66.0</td>\n",
       "      <td>22.06</td>\n",
       "      <td>136.69</td>\n",
       "      <td>110</td>\n",
       "      <td>80</td>\n",
       "      <td>1</td>\n",
       "      <td>1</td>\n",
       "      <td>0</td>\n",
       "      <td>0</td>\n",
       "      <td>1</td>\n",
       "      <td>0</td>\n",
       "    </tr>\n",
       "    <tr>\n",
       "      <th>1</th>\n",
       "      <td>55</td>\n",
       "      <td>1</td>\n",
       "      <td>61.0</td>\n",
       "      <td>35.41</td>\n",
       "      <td>187.39</td>\n",
       "      <td>140</td>\n",
       "      <td>90</td>\n",
       "      <td>3</td>\n",
       "      <td>1</td>\n",
       "      <td>0</td>\n",
       "      <td>0</td>\n",
       "      <td>1</td>\n",
       "      <td>1</td>\n",
       "    </tr>\n",
       "    <tr>\n",
       "      <th>2</th>\n",
       "      <td>51</td>\n",
       "      <td>1</td>\n",
       "      <td>65.0</td>\n",
       "      <td>23.48</td>\n",
       "      <td>141.10</td>\n",
       "      <td>130</td>\n",
       "      <td>70</td>\n",
       "      <td>3</td>\n",
       "      <td>1</td>\n",
       "      <td>0</td>\n",
       "      <td>0</td>\n",
       "      <td>0</td>\n",
       "      <td>1</td>\n",
       "    </tr>\n",
       "    <tr>\n",
       "      <th>3</th>\n",
       "      <td>48</td>\n",
       "      <td>0</td>\n",
       "      <td>67.0</td>\n",
       "      <td>28.31</td>\n",
       "      <td>180.78</td>\n",
       "      <td>150</td>\n",
       "      <td>100</td>\n",
       "      <td>1</td>\n",
       "      <td>1</td>\n",
       "      <td>0</td>\n",
       "      <td>0</td>\n",
       "      <td>1</td>\n",
       "      <td>1</td>\n",
       "    </tr>\n",
       "    <tr>\n",
       "      <th>4</th>\n",
       "      <td>47</td>\n",
       "      <td>1</td>\n",
       "      <td>61.0</td>\n",
       "      <td>23.33</td>\n",
       "      <td>123.46</td>\n",
       "      <td>100</td>\n",
       "      <td>60</td>\n",
       "      <td>1</td>\n",
       "      <td>1</td>\n",
       "      <td>0</td>\n",
       "      <td>0</td>\n",
       "      <td>0</td>\n",
       "      <td>0</td>\n",
       "    </tr>\n",
       "  </tbody>\n",
       "</table>\n",
       "</div>"
      ],
      "text/plain": [
       "   age  gender  height    bmi  weight  ap_hi  ap_lo  cholesterol  gluc  smoke  \\\n",
       "0   50       0    66.0  22.06  136.69    110     80            1     1      0   \n",
       "1   55       1    61.0  35.41  187.39    140     90            3     1      0   \n",
       "2   51       1    65.0  23.48  141.10    130     70            3     1      0   \n",
       "3   48       0    67.0  28.31  180.78    150    100            1     1      0   \n",
       "4   47       1    61.0  23.33  123.46    100     60            1     1      0   \n",
       "\n",
       "   alco  active  cardio  \n",
       "0     0       1       0  \n",
       "1     0       1       1  \n",
       "2     0       0       1  \n",
       "3     0       1       1  \n",
       "4     0       0       0  "
      ]
     },
     "execution_count": 106,
     "metadata": {},
     "output_type": "execute_result"
    }
   ],
   "source": [
    "df.head()"
   ]
  },
  {
   "cell_type": "markdown",
   "metadata": {},
   "source": [
    "<br /> \n",
    "\n",
    "### Ap_hi Vs. Cardio\n",
    "This plot will compare the number of individuals with cardiovascular disease based on the range their syslotic levels fall under"
   ]
  },
  {
   "cell_type": "code",
   "execution_count": 107,
   "metadata": {},
   "outputs": [],
   "source": [
    "# create bins \n",
    "# below (50-89) \n",
    "# normal (90-119)\n",
    "# above (120-179)\n",
    "# horrible (180-300)\n",
    "\n",
    "cut_bins = [50,89,119,179,300]\n",
    "cut_labels = ['below', 'normal', 'above', 'horrible']\n",
    "\n",
    "df2['ap_hi'] = pd.cut(df2['ap_hi'], bins = cut_bins, labels = cut_labels)"
   ]
  },
  {
   "cell_type": "code",
   "execution_count": 108,
   "metadata": {},
   "outputs": [
    {
     "data": {
      "image/png": "[encoded data removed]",
      "text/plain": [
       "<Figure size 1080x720 with 1 Axes>"
      ]
     },
     "metadata": {},
     "output_type": "display_data"
    }
   ],
   "source": [
    "# creating the plot\n",
    "figsize = (15,10)                                                                # figsize\n",
    "data = df2                                                                       # data\n",
    "x = 'ap_hi'                                                                     # the x value\n",
    "titleOfPlot = 'Based On The Systolic Blood Pressure How Many People Have Cardiovasular Disease' # name of plot\n",
    "\n",
    "# creating the plot\n",
    "create_plot(figsize, data, x, titleOfPlot)"
   ]
  },
  {
   "cell_type": "markdown",
   "metadata": {},
   "source": [
    "The above plot shows the relationship between the different systolic blood pressures and cardiovasular disease in the dataset. What we can see is that most of the people in the dataset had systolic blood pressures that were above the normal range.    \n",
    "\n",
    "__The percentages have been rounded__   \n",
    "&nbsp;&nbsp;      below (total: 130): _26.92% have cardiovascular disease_  \n",
    "&nbsp;&nbsp;      normal (total: 12,525): _23.36% have cardiovascular disease_  \n",
    "&nbsp;&nbsp;      above (total: 54,350): _55% have cardiovascular disease_  \n",
    "&nbsp;&nbsp;      horrible (total: 876): _89.3% have cardiovascular disease_  "
   ]
  },
  {
   "cell_type": "markdown",
   "metadata": {},
   "source": [
    "<br /> \n",
    "\n",
    "### Ap_lo Vs. Cardio"
   ]
  },
  {
   "cell_type": "code",
   "execution_count": 109,
   "metadata": {},
   "outputs": [],
   "source": [
    "# create bins \n",
    "# below (40-59)\n",
    "# normal (60-79)\n",
    "# above (80-119)\n",
    "# horrible (120-200)\n",
    "\n",
    "cut_bins = [40,59,79,119,200]\n",
    "cut_labels = ['below', 'normal', 'above', 'horrible']\n",
    "\n",
    "df2['ap_lo'] =pd.cut(df2['ap_lo'], bins = cut_bins, labels = cut_labels)"
   ]
  },
  {
   "cell_type": "code",
   "execution_count": 110,
   "metadata": {},
   "outputs": [
    {
     "data": {
      "image/png": "[encoded data removed]",
      "text/plain": [
       "<Figure size 1080x720 with 1 Axes>"
      ]
     },
     "metadata": {},
     "output_type": "display_data"
    }
   ],
   "source": [
    "# creating the plot\n",
    "figsize = (15,10)                                                                # figsize\n",
    "data = df2                                                                       # data\n",
    "x = 'ap_lo'                                                                     # the x value\n",
    "titleOfPlot = 'Based On The Diastolic Blood Pressure How Many People Have Cardiovasular Disease' # name of plot\n",
    "\n",
    "# creating the plot\n",
    "create_plot(figsize, data, x, titleOfPlot)"
   ]
  },
  {
   "cell_type": "markdown",
   "metadata": {},
   "source": [
    "The above plot shows the relationship between the diastolic blood pressure levels and cardiovasular disease. As we can see most of the people in this dataset have an above normal diastolic blood pressure.   \n",
    "\n",
    "__The percentages have been rounded__   \n",
    "&nbsp;&nbsp;      below (total: 98): _36.7% have cardiovascular disease_  \n",
    "&nbsp;&nbsp;      normal (total: 13,692): _28.27% have cardiovascular disease_  \n",
    "&nbsp;&nbsp;      above (total: 53,774): _54.77% have cardiovascular disease_  \n",
    "&nbsp;&nbsp;      horrible (total: 302): _80% have cardiovascular disease_   \n",
    "\n",
    "__Something interesting is that for both diastolic and systolic blood pressure the above normal range is the biggest and for both the percentage of people in that group that have cardiovascular disease is around 55%__"
   ]
  },
  {
   "cell_type": "markdown",
   "metadata": {},
   "source": [
    "<br /> \n",
    "\n",
    "### Cholesterol Vs. Cardio"
   ]
  },
  {
   "cell_type": "code",
   "execution_count": 111,
   "metadata": {},
   "outputs": [],
   "source": [
    "# replace values in cholesterol \n",
    "# normal (level 1) \n",
    "# above normal (Level 2)\n",
    "# well above normal (level 3)\n",
    "df2['cholesterol'].replace({1: 'Normal', 2: 'Above Normal', 3 : 'Well Above Normal'}, inplace = True)"
   ]
  },
  {
   "cell_type": "code",
   "execution_count": 112,
   "metadata": {},
   "outputs": [
    {
     "data": {
      "image/png": "[encoded data removed]",
      "text/plain": [
       "<Figure size 720x576 with 1 Axes>"
      ]
     },
     "metadata": {},
     "output_type": "display_data"
    }
   ],
   "source": [
    "figsize = (10,8)                                                                # figsize\n",
    "data = df2                                                                       # data\n",
    "x = 'cholesterol'                                                                # the x value\n",
    "titleOfPlot = 'What Cholesterol Level Do Most Of The Individuals Fall In'        # name of plot\n",
    "\n",
    "\n",
    "# creating the plot\n",
    "create_plot(figsize, data, x, titleOfPlot)"
   ]
  },
  {
   "cell_type": "markdown",
   "metadata": {},
   "source": [
    "This plot shows the different cholesterol levels and if those individuals have cardiovasular disease or not. From this we can tell that most people in this dataset fall in level 1 for cholesterol levels which means they have a normal level.   \n",
    "\n",
    "__The percentages have been rounded__  \n",
    "&nbsp;&nbsp;           Normal (total: 50,883): _43.58% have cardiovascular disease_   \n",
    "&nbsp;&nbsp;           Above (total: 9,203): _59.6% have cardiovascular disease_   \n",
    "&nbsp;&nbsp;           Well Above (total: 7,795): _76.28% have cardiovascular disease_   "
   ]
  },
  {
   "cell_type": "markdown",
   "metadata": {},
   "source": [
    "<br /> \n",
    "\n",
    "### Gluc Vs. Cardio"
   ]
  },
  {
   "cell_type": "code",
   "execution_count": 113,
   "metadata": {},
   "outputs": [],
   "source": [
    "# replace values in gluc\n",
    "# normal (level 1) \n",
    "# above normal (Level 2)\n",
    "# well above normal (level 3)\n",
    "df2['gluc'].replace({1: 'Normal', 2: 'Above Normal', 3 : 'Well Above Normal'}, inplace = True)"
   ]
  },
  {
   "cell_type": "code",
   "execution_count": 114,
   "metadata": {},
   "outputs": [
    {
     "data": {
      "image/png": "[encoded data removed]",
      "text/plain": [
       "<Figure size 720x576 with 1 Axes>"
      ]
     },
     "metadata": {},
     "output_type": "display_data"
    }
   ],
   "source": [
    "figsize = (10,8)                                                                 # figsize\n",
    "data = df2                                                                       # data\n",
    "x = 'gluc'                                                                       # the x value\n",
    "titleOfPlot = 'What Glucose Level Do Most Of The People Fall In'                 # name of plot\n",
    "\n",
    "\n",
    "# creating the plot\n",
    "create_plot(figsize, data, x, titleOfPlot)"
   ]
  },
  {
   "cell_type": "markdown",
   "metadata": {},
   "source": [
    "Similar to cholesterol mostly people in this dataset have normal glucose levels. For those who have normal glucose levels about 48% of the people have cardiovascular disease.   \n",
    "\n",
    "__The percentages have been rounded__   \n",
    "&nbsp;&nbsp;           Normal (total: 57,691): _47.6% have cardiovascular disease_   \n",
    "&nbsp;&nbsp;           Above Normal (total: 5,014): _58.74% have cardiovascular disease_   \n",
    "&nbsp;&nbsp;           Well Above Normal (total: 5,176): _61.77% have cardiovascular disease_  "
   ]
  },
  {
   "cell_type": "markdown",
   "metadata": {},
   "source": [
    "<br /> \n",
    "\n",
    "### Smoking Vs. Cardio"
   ]
  },
  {
   "cell_type": "code",
   "execution_count": 115,
   "metadata": {},
   "outputs": [],
   "source": [
    "# replace values in smoke\n",
    "df2['smoke'].replace({0: 'No', 1: 'Yes'}, inplace = True)"
   ]
  },
  {
   "cell_type": "code",
   "execution_count": 116,
   "metadata": {},
   "outputs": [
    {
     "data": {
      "image/png": "[encoded data removed]",
      "text/plain": [
       "<Figure size 720x576 with 1 Axes>"
      ]
     },
     "metadata": {},
     "output_type": "display_data"
    }
   ],
   "source": [
    "figsize = (10,8)                                                                 # figsize\n",
    "data = df2                                                                       # data\n",
    "x = 'smoke'                                                                      # the x value\n",
    "titleOfPlot = 'How Many People In This Dataset Smoke'                            # name of plot\n",
    "\n",
    "\n",
    "# creating the plot\n",
    "create_plot(figsize, data, x, titleOfPlot)"
   ]
  },
  {
   "cell_type": "markdown",
   "metadata": {},
   "source": [
    "This plot shows the relationship between smoking and cardivasular disease. It seems that most of the people in this dataset do not smoke.    \n",
    "\n",
    "__The percentages have been rounded__  \n",
    "&nbsp;&nbsp;           No (total: 61,940): _49.76% have cardiovascular disease_  \n",
    "&nbsp;&nbsp;           Yes (total: 5,941): _46.89% have cardiovascular disease_  "
   ]
  },
  {
   "cell_type": "markdown",
   "metadata": {},
   "source": [
    "<br /> \n",
    "\n",
    "### Alcohol Vs. Cardio"
   ]
  },
  {
   "cell_type": "code",
   "execution_count": 117,
   "metadata": {},
   "outputs": [],
   "source": [
    "# replace values in smoke\n",
    "df2['alco'].replace({0: 'No', 1: 'Yes'}, inplace = True)"
   ]
  },
  {
   "cell_type": "code",
   "execution_count": 118,
   "metadata": {},
   "outputs": [
    {
     "data": {
      "image/png": "[encoded data removed]",
      "text/plain": [
       "<Figure size 720x576 with 1 Axes>"
      ]
     },
     "metadata": {},
     "output_type": "display_data"
    }
   ],
   "source": [
    "figsize = (10,8)                                                                 # figsize\n",
    "data = df2                                                                       # data\n",
    "x = 'alco'                                                                       # the x value\n",
    "titleOfPlot = 'Do Most Of The Individuals In This Dataset Drink Or Not'          # name of plot\n",
    "\n",
    "\n",
    "# creating the plot\n",
    "create_plot(figsize, data, x, titleOfPlot)"
   ]
  },
  {
   "cell_type": "markdown",
   "metadata": {},
   "source": [
    "This plot shows the relationship between alcohol and cardiovascular disease. Most of the people in this dataset do not drink.   \n",
    "\n",
    "__The percentages have been rounded__  \n",
    "&nbsp;&nbsp;           No (total: 64,254): _49.6% have cardiovascular disease_  \n",
    "&nbsp;&nbsp;           Yes (total: 3,627): _47.8% have cardiovascular disease_  "
   ]
  },
  {
   "cell_type": "markdown",
   "metadata": {},
   "source": [
    "<br /> \n",
    "\n",
    "### Active Vs. Cardio"
   ]
  },
  {
   "cell_type": "code",
   "execution_count": 119,
   "metadata": {},
   "outputs": [],
   "source": [
    "# replace values in smoke\n",
    "df2['active'].replace({0: 'No', 1: 'Yes'}, inplace = True)"
   ]
  },
  {
   "cell_type": "code",
   "execution_count": 120,
   "metadata": {},
   "outputs": [
    {
     "data": {
      "image/png": "[encoded data removed]",
      "text/plain": [
       "<Figure size 720x576 with 1 Axes>"
      ]
     },
     "metadata": {},
     "output_type": "display_data"
    }
   ],
   "source": [
    "figsize = (10,8)                                                                 # figsize\n",
    "data = df2                                                                       # data\n",
    "x = 'active'                                                                     # the x value\n",
    "titleOfPlot = 'Are Most Of The People In This Dataset Active Or Not'             # name of plot\n",
    "\n",
    "# creating the plot\n",
    "create_plot(figsize, data, x, titleOfPlot)"
   ]
  },
  {
   "cell_type": "markdown",
   "metadata": {},
   "source": [
    "This plot shows the relationship between active and cardiovasular disease. Most of the people in this dataset are active.  \n",
    "\n",
    "__The percentages have been rounded__  \n",
    "&nbsp;&nbsp;           No (total: 13,347): _53.3% have cardiovascular disease_  \n",
    "&nbsp;&nbsp;           Yes (total: 54,534): _48.58% have cardiovascular disease_  "
   ]
  },
  {
   "cell_type": "markdown",
   "metadata": {},
   "source": [
    "<br />\n",
    "\n",
    "#### Relationship Between Smoking/Drinking and Cardiovasular Disease\n",
    "There are two subplots one that shows people who drink and smoke and another subplot that shows people who do neither of those things and shows how many of them had cardiovasular disease and how many didn't. "
   ]
  },
  {
   "cell_type": "code",
   "execution_count": 121,
   "metadata": {},
   "outputs": [],
   "source": [
    "# create subplots of people who dont smoke/drink/workout and people who do all of those things and see the \n",
    "# relationship between the values and cardiovasular disease\n",
    "not_smoke_drink = df2[(df2['smoke'] == 'No') & (df2['alco'] == 'No')]\n",
    "smoke_drink = df2[(df2['smoke'] == 'Yes') & (df2['alco'] == 'Yes')]"
   ]
  },
  {
   "cell_type": "code",
   "execution_count": 122,
   "metadata": {},
   "outputs": [
    {
     "data": {
      "text/html": [
       "<div>\n",
       "<style scoped>\n",
       "    .dataframe tbody tr th:only-of-type {\n",
       "        vertical-align: middle;\n",
       "    }\n",
       "\n",
       "    .dataframe tbody tr th {\n",
       "        vertical-align: top;\n",
       "    }\n",
       "\n",
       "    .dataframe thead th {\n",
       "        text-align: right;\n",
       "    }\n",
       "</style>\n",
       "<table border=\"1\" class=\"dataframe\">\n",
       "  <thead>\n",
       "    <tr style=\"text-align: right;\">\n",
       "      <th></th>\n",
       "      <th>age</th>\n",
       "      <th>gender</th>\n",
       "      <th>height</th>\n",
       "      <th>weight</th>\n",
       "      <th>ap_hi</th>\n",
       "      <th>ap_lo</th>\n",
       "      <th>cholesterol</th>\n",
       "      <th>gluc</th>\n",
       "      <th>smoke</th>\n",
       "      <th>alco</th>\n",
       "      <th>active</th>\n",
       "      <th>cardio</th>\n",
       "    </tr>\n",
       "  </thead>\n",
       "  <tbody>\n",
       "    <tr>\n",
       "      <th>0</th>\n",
       "      <td>46-50</td>\n",
       "      <td>Male</td>\n",
       "      <td>5ft'4 -5ft'6</td>\n",
       "      <td>136.69</td>\n",
       "      <td>normal</td>\n",
       "      <td>above</td>\n",
       "      <td>Normal</td>\n",
       "      <td>Normal</td>\n",
       "      <td>No</td>\n",
       "      <td>No</td>\n",
       "      <td>Yes</td>\n",
       "      <td>No</td>\n",
       "    </tr>\n",
       "    <tr>\n",
       "      <th>1</th>\n",
       "      <td>51-55</td>\n",
       "      <td>Female</td>\n",
       "      <td>5ft'1 - 5ft'3</td>\n",
       "      <td>187.39</td>\n",
       "      <td>above</td>\n",
       "      <td>above</td>\n",
       "      <td>Well Above Normal</td>\n",
       "      <td>Normal</td>\n",
       "      <td>No</td>\n",
       "      <td>No</td>\n",
       "      <td>Yes</td>\n",
       "      <td>Yes</td>\n",
       "    </tr>\n",
       "    <tr>\n",
       "      <th>2</th>\n",
       "      <td>51-55</td>\n",
       "      <td>Female</td>\n",
       "      <td>5ft'4 -5ft'6</td>\n",
       "      <td>141.10</td>\n",
       "      <td>above</td>\n",
       "      <td>normal</td>\n",
       "      <td>Well Above Normal</td>\n",
       "      <td>Normal</td>\n",
       "      <td>No</td>\n",
       "      <td>No</td>\n",
       "      <td>No</td>\n",
       "      <td>Yes</td>\n",
       "    </tr>\n",
       "    <tr>\n",
       "      <th>3</th>\n",
       "      <td>46-50</td>\n",
       "      <td>Male</td>\n",
       "      <td>5ft'7 - 5ft'9</td>\n",
       "      <td>180.78</td>\n",
       "      <td>above</td>\n",
       "      <td>above</td>\n",
       "      <td>Normal</td>\n",
       "      <td>Normal</td>\n",
       "      <td>No</td>\n",
       "      <td>No</td>\n",
       "      <td>Yes</td>\n",
       "      <td>Yes</td>\n",
       "    </tr>\n",
       "    <tr>\n",
       "      <th>4</th>\n",
       "      <td>46-50</td>\n",
       "      <td>Female</td>\n",
       "      <td>5ft'1 - 5ft'3</td>\n",
       "      <td>123.46</td>\n",
       "      <td>normal</td>\n",
       "      <td>normal</td>\n",
       "      <td>Normal</td>\n",
       "      <td>Normal</td>\n",
       "      <td>No</td>\n",
       "      <td>No</td>\n",
       "      <td>No</td>\n",
       "      <td>No</td>\n",
       "    </tr>\n",
       "  </tbody>\n",
       "</table>\n",
       "</div>"
      ],
      "text/plain": [
       "     age  gender         height  weight   ap_hi   ap_lo        cholesterol  \\\n",
       "0  46-50    Male   5ft'4 -5ft'6  136.69  normal   above             Normal   \n",
       "1  51-55  Female  5ft'1 - 5ft'3  187.39   above   above  Well Above Normal   \n",
       "2  51-55  Female   5ft'4 -5ft'6  141.10   above  normal  Well Above Normal   \n",
       "3  46-50    Male  5ft'7 - 5ft'9  180.78   above   above             Normal   \n",
       "4  46-50  Female  5ft'1 - 5ft'3  123.46  normal  normal             Normal   \n",
       "\n",
       "     gluc smoke alco active cardio  \n",
       "0  Normal    No   No    Yes     No  \n",
       "1  Normal    No   No    Yes    Yes  \n",
       "2  Normal    No   No     No    Yes  \n",
       "3  Normal    No   No    Yes    Yes  \n",
       "4  Normal    No   No     No     No  "
      ]
     },
     "execution_count": 122,
     "metadata": {},
     "output_type": "execute_result"
    }
   ],
   "source": [
    "# checking to make sure smoke and alco both contain No\n",
    "not_smoke_drink.head(5)"
   ]
  },
  {
   "cell_type": "code",
   "execution_count": 123,
   "metadata": {},
   "outputs": [
    {
     "data": {
      "text/html": [
       "<div>\n",
       "<style scoped>\n",
       "    .dataframe tbody tr th:only-of-type {\n",
       "        vertical-align: middle;\n",
       "    }\n",
       "\n",
       "    .dataframe tbody tr th {\n",
       "        vertical-align: top;\n",
       "    }\n",
       "\n",
       "    .dataframe thead th {\n",
       "        text-align: right;\n",
       "    }\n",
       "</style>\n",
       "<table border=\"1\" class=\"dataframe\">\n",
       "  <thead>\n",
       "    <tr style=\"text-align: right;\">\n",
       "      <th></th>\n",
       "      <th>age</th>\n",
       "      <th>gender</th>\n",
       "      <th>height</th>\n",
       "      <th>weight</th>\n",
       "      <th>ap_hi</th>\n",
       "      <th>ap_lo</th>\n",
       "      <th>cholesterol</th>\n",
       "      <th>gluc</th>\n",
       "      <th>smoke</th>\n",
       "      <th>alco</th>\n",
       "      <th>active</th>\n",
       "      <th>cardio</th>\n",
       "    </tr>\n",
       "  </thead>\n",
       "  <tbody>\n",
       "    <tr>\n",
       "      <th>14</th>\n",
       "      <td>36-40</td>\n",
       "      <td>Male</td>\n",
       "      <td>5ft'10 - 6ft</td>\n",
       "      <td>209.44</td>\n",
       "      <td>above</td>\n",
       "      <td>above</td>\n",
       "      <td>Normal</td>\n",
       "      <td>Normal</td>\n",
       "      <td>Yes</td>\n",
       "      <td>Yes</td>\n",
       "      <td>Yes</td>\n",
       "      <td>No</td>\n",
       "    </tr>\n",
       "    <tr>\n",
       "      <th>107</th>\n",
       "      <td>36-40</td>\n",
       "      <td>Male</td>\n",
       "      <td>5ft'4 -5ft'6</td>\n",
       "      <td>105.82</td>\n",
       "      <td>normal</td>\n",
       "      <td>normal</td>\n",
       "      <td>Normal</td>\n",
       "      <td>Above Normal</td>\n",
       "      <td>Yes</td>\n",
       "      <td>Yes</td>\n",
       "      <td>Yes</td>\n",
       "      <td>Yes</td>\n",
       "    </tr>\n",
       "    <tr>\n",
       "      <th>134</th>\n",
       "      <td>56-60</td>\n",
       "      <td>Male</td>\n",
       "      <td>5ft'7 - 5ft'9</td>\n",
       "      <td>198.42</td>\n",
       "      <td>above</td>\n",
       "      <td>above</td>\n",
       "      <td>Normal</td>\n",
       "      <td>Normal</td>\n",
       "      <td>Yes</td>\n",
       "      <td>Yes</td>\n",
       "      <td>No</td>\n",
       "      <td>Yes</td>\n",
       "    </tr>\n",
       "    <tr>\n",
       "      <th>177</th>\n",
       "      <td>56-60</td>\n",
       "      <td>Male</td>\n",
       "      <td>5ft'7 - 5ft'9</td>\n",
       "      <td>152.12</td>\n",
       "      <td>above</td>\n",
       "      <td>above</td>\n",
       "      <td>Normal</td>\n",
       "      <td>Normal</td>\n",
       "      <td>Yes</td>\n",
       "      <td>Yes</td>\n",
       "      <td>Yes</td>\n",
       "      <td>No</td>\n",
       "    </tr>\n",
       "    <tr>\n",
       "      <th>230</th>\n",
       "      <td>61-65</td>\n",
       "      <td>Male</td>\n",
       "      <td>5ft'7 - 5ft'9</td>\n",
       "      <td>165.35</td>\n",
       "      <td>horrible</td>\n",
       "      <td>above</td>\n",
       "      <td>Well Above Normal</td>\n",
       "      <td>Normal</td>\n",
       "      <td>Yes</td>\n",
       "      <td>Yes</td>\n",
       "      <td>Yes</td>\n",
       "      <td>Yes</td>\n",
       "    </tr>\n",
       "  </tbody>\n",
       "</table>\n",
       "</div>"
      ],
      "text/plain": [
       "       age gender         height  weight     ap_hi   ap_lo        cholesterol  \\\n",
       "14   36-40   Male   5ft'10 - 6ft  209.44     above   above             Normal   \n",
       "107  36-40   Male   5ft'4 -5ft'6  105.82    normal  normal             Normal   \n",
       "134  56-60   Male  5ft'7 - 5ft'9  198.42     above   above             Normal   \n",
       "177  56-60   Male  5ft'7 - 5ft'9  152.12     above   above             Normal   \n",
       "230  61-65   Male  5ft'7 - 5ft'9  165.35  horrible   above  Well Above Normal   \n",
       "\n",
       "             gluc smoke alco active cardio  \n",
       "14         Normal   Yes  Yes    Yes     No  \n",
       "107  Above Normal   Yes  Yes    Yes    Yes  \n",
       "134        Normal   Yes  Yes     No    Yes  \n",
       "177        Normal   Yes  Yes    Yes     No  \n",
       "230        Normal   Yes  Yes    Yes    Yes  "
      ]
     },
     "execution_count": 123,
     "metadata": {},
     "output_type": "execute_result"
    }
   ],
   "source": [
    "# checking to make sure smoke and alco both contain Yes\n",
    "smoke_drink.head(5)"
   ]
  },
  {
   "cell_type": "code",
   "execution_count": 124,
   "metadata": {},
   "outputs": [
    {
     "data": {
      "image/png": "[encoded data removed]",
      "text/plain": [
       "<Figure size 1080x576 with 2 Axes>"
      ]
     },
     "metadata": {},
     "output_type": "display_data"
    }
   ],
   "source": [
    "# creating the plot\n",
    "figsize = (15,8)                                                       # figure size\n",
    "x = 'cardio'                                                           # the x value \n",
    "supTitle = 'How many people have Cardiovasular Disease Based On The Smoke and Alco Features'\n",
    "row = 1                                                                # how many rows\n",
    "col = 2                                                                # how many columns\n",
    "data = [smoke_drink, not_smoke_drink]                                  # the data that we are plotting\n",
    "titles = ['Smoke and Drink', 'Not (Smoke and Drink)']                  # title of subplots    \n",
    "hue = 'none'                                                           # no hue \n",
    "\n",
    "create_plot(figsize, data, x, supTitle,hue = 'none', row = row, col = col, titles = titles,plot_type = 'subplots')"
   ]
  },
  {
   "cell_type": "markdown",
   "metadata": {},
   "source": [
    "The above plot compares people who smoke and drink and have/don't have cardiovasular diease to those people who do none of those things.   \n",
    "\n",
    "__The percentages have been rounded__  \n",
    "&nbsp;&nbsp;           Smoke and Drink(total: 1,778): _43.76% have cardiovascular disease_    \n",
    "&nbsp;&nbsp;           Not(Smoke and Drink) (total: 60,091): _49.7% have cardiovascular disease_        "
   ]
  },
  {
   "cell_type": "markdown",
   "metadata": {},
   "source": [
    "<br /> \n",
    "\n",
    "\n",
    "## CLUSTERING\n",
    "\n",
    "Creating 3 clustering using KMeans. I want to see how it splits the data and how many people in the different clusters have cardiovascular disease and how many don't. Also to standardize the data I am going to use the Z score (StandardScaler). "
   ]
  },
  {
   "cell_type": "code",
   "execution_count": 125,
   "metadata": {},
   "outputs": [],
   "source": [
    "# store the cardio column  \n",
    "cardio = df['cardio']\n",
    "\n",
    "# removing the class label \n",
    "df.drop(columns = 'cardio', inplace = True)"
   ]
  },
  {
   "cell_type": "code",
   "execution_count": 126,
   "metadata": {},
   "outputs": [
    {
     "data": {
      "text/html": [
       "<div>\n",
       "<style scoped>\n",
       "    .dataframe tbody tr th:only-of-type {\n",
       "        vertical-align: middle;\n",
       "    }\n",
       "\n",
       "    .dataframe tbody tr th {\n",
       "        vertical-align: top;\n",
       "    }\n",
       "\n",
       "    .dataframe thead th {\n",
       "        text-align: right;\n",
       "    }\n",
       "</style>\n",
       "<table border=\"1\" class=\"dataframe\">\n",
       "  <thead>\n",
       "    <tr style=\"text-align: right;\">\n",
       "      <th></th>\n",
       "      <th>age</th>\n",
       "      <th>gender</th>\n",
       "      <th>height</th>\n",
       "      <th>bmi</th>\n",
       "      <th>weight</th>\n",
       "      <th>ap_hi</th>\n",
       "      <th>ap_lo</th>\n",
       "      <th>cholesterol</th>\n",
       "      <th>gluc</th>\n",
       "      <th>smoke</th>\n",
       "      <th>alco</th>\n",
       "      <th>active</th>\n",
       "    </tr>\n",
       "  </thead>\n",
       "  <tbody>\n",
       "    <tr>\n",
       "      <th>0</th>\n",
       "      <td>50</td>\n",
       "      <td>0</td>\n",
       "      <td>66.0</td>\n",
       "      <td>22.06</td>\n",
       "      <td>136.69</td>\n",
       "      <td>110</td>\n",
       "      <td>80</td>\n",
       "      <td>1</td>\n",
       "      <td>1</td>\n",
       "      <td>0</td>\n",
       "      <td>0</td>\n",
       "      <td>1</td>\n",
       "    </tr>\n",
       "    <tr>\n",
       "      <th>1</th>\n",
       "      <td>55</td>\n",
       "      <td>1</td>\n",
       "      <td>61.0</td>\n",
       "      <td>35.41</td>\n",
       "      <td>187.39</td>\n",
       "      <td>140</td>\n",
       "      <td>90</td>\n",
       "      <td>3</td>\n",
       "      <td>1</td>\n",
       "      <td>0</td>\n",
       "      <td>0</td>\n",
       "      <td>1</td>\n",
       "    </tr>\n",
       "    <tr>\n",
       "      <th>2</th>\n",
       "      <td>51</td>\n",
       "      <td>1</td>\n",
       "      <td>65.0</td>\n",
       "      <td>23.48</td>\n",
       "      <td>141.10</td>\n",
       "      <td>130</td>\n",
       "      <td>70</td>\n",
       "      <td>3</td>\n",
       "      <td>1</td>\n",
       "      <td>0</td>\n",
       "      <td>0</td>\n",
       "      <td>0</td>\n",
       "    </tr>\n",
       "    <tr>\n",
       "      <th>3</th>\n",
       "      <td>48</td>\n",
       "      <td>0</td>\n",
       "      <td>67.0</td>\n",
       "      <td>28.31</td>\n",
       "      <td>180.78</td>\n",
       "      <td>150</td>\n",
       "      <td>100</td>\n",
       "      <td>1</td>\n",
       "      <td>1</td>\n",
       "      <td>0</td>\n",
       "      <td>0</td>\n",
       "      <td>1</td>\n",
       "    </tr>\n",
       "    <tr>\n",
       "      <th>4</th>\n",
       "      <td>47</td>\n",
       "      <td>1</td>\n",
       "      <td>61.0</td>\n",
       "      <td>23.33</td>\n",
       "      <td>123.46</td>\n",
       "      <td>100</td>\n",
       "      <td>60</td>\n",
       "      <td>1</td>\n",
       "      <td>1</td>\n",
       "      <td>0</td>\n",
       "      <td>0</td>\n",
       "      <td>0</td>\n",
       "    </tr>\n",
       "  </tbody>\n",
       "</table>\n",
       "</div>"
      ],
      "text/plain": [
       "   age  gender  height    bmi  weight  ap_hi  ap_lo  cholesterol  gluc  smoke  \\\n",
       "0   50       0    66.0  22.06  136.69    110     80            1     1      0   \n",
       "1   55       1    61.0  35.41  187.39    140     90            3     1      0   \n",
       "2   51       1    65.0  23.48  141.10    130     70            3     1      0   \n",
       "3   48       0    67.0  28.31  180.78    150    100            1     1      0   \n",
       "4   47       1    61.0  23.33  123.46    100     60            1     1      0   \n",
       "\n",
       "   alco  active  \n",
       "0     0       1  \n",
       "1     0       1  \n",
       "2     0       0  \n",
       "3     0       1  \n",
       "4     0       0  "
      ]
     },
     "execution_count": 126,
     "metadata": {},
     "output_type": "execute_result"
    }
   ],
   "source": [
    "# checking to make sure the class label was dropped \n",
    "df.head()"
   ]
  },
  {
   "cell_type": "code",
   "execution_count": 127,
   "metadata": {},
   "outputs": [],
   "source": [
    "# import required libraries\n",
    "from sklearn.preprocessing import StandardScaler \n",
    "from sklearn.cluster import KMeans "
   ]
  },
  {
   "cell_type": "code",
   "execution_count": 128,
   "metadata": {},
   "outputs": [],
   "source": [
    "# scaling the data for cluster_df\n",
    "scaled = StandardScaler().fit_transform(df)"
   ]
  },
  {
   "cell_type": "code",
   "execution_count": 129,
   "metadata": {},
   "outputs": [],
   "source": [
    "# create a dataframe that contains the scaled data\n",
    "standardized_df = pd.DataFrame(scaled, columns = df.columns)"
   ]
  },
  {
   "cell_type": "code",
   "execution_count": 130,
   "metadata": {},
   "outputs": [
    {
     "data": {
      "text/html": [
       "<div>\n",
       "<style scoped>\n",
       "    .dataframe tbody tr th:only-of-type {\n",
       "        vertical-align: middle;\n",
       "    }\n",
       "\n",
       "    .dataframe tbody tr th {\n",
       "        vertical-align: top;\n",
       "    }\n",
       "\n",
       "    .dataframe thead th {\n",
       "        text-align: right;\n",
       "    }\n",
       "</style>\n",
       "<table border=\"1\" class=\"dataframe\">\n",
       "  <thead>\n",
       "    <tr style=\"text-align: right;\">\n",
       "      <th></th>\n",
       "      <th>age</th>\n",
       "      <th>gender</th>\n",
       "      <th>height</th>\n",
       "      <th>bmi</th>\n",
       "      <th>weight</th>\n",
       "      <th>ap_hi</th>\n",
       "      <th>ap_lo</th>\n",
       "      <th>cholesterol</th>\n",
       "      <th>gluc</th>\n",
       "      <th>smoke</th>\n",
       "      <th>alco</th>\n",
       "      <th>active</th>\n",
       "    </tr>\n",
       "  </thead>\n",
       "  <tbody>\n",
       "    <tr>\n",
       "      <th>0</th>\n",
       "      <td>-0.421007</td>\n",
       "      <td>-1.350523</td>\n",
       "      <td>0.372926</td>\n",
       "      <td>-1.044044</td>\n",
       "      <td>-0.872127</td>\n",
       "      <td>-0.993846</td>\n",
       "      <td>-0.154806</td>\n",
       "      <td>-0.564671</td>\n",
       "      <td>-0.413269</td>\n",
       "      <td>-0.322099</td>\n",
       "      <td>-0.247196</td>\n",
       "      <td>0.509477</td>\n",
       "    </tr>\n",
       "    <tr>\n",
       "      <th>1</th>\n",
       "      <td>0.312741</td>\n",
       "      <td>0.740454</td>\n",
       "      <td>-1.206649</td>\n",
       "      <td>1.470403</td>\n",
       "      <td>0.705083</td>\n",
       "      <td>0.743327</td>\n",
       "      <td>0.845256</td>\n",
       "      <td>2.304904</td>\n",
       "      <td>-0.413269</td>\n",
       "      <td>-0.322099</td>\n",
       "      <td>-0.247196</td>\n",
       "      <td>0.509477</td>\n",
       "    </tr>\n",
       "    <tr>\n",
       "      <th>2</th>\n",
       "      <td>-0.274257</td>\n",
       "      <td>0.740454</td>\n",
       "      <td>0.057011</td>\n",
       "      <td>-0.776590</td>\n",
       "      <td>-0.734938</td>\n",
       "      <td>0.164269</td>\n",
       "      <td>-1.154868</td>\n",
       "      <td>2.304904</td>\n",
       "      <td>-0.413269</td>\n",
       "      <td>-0.322099</td>\n",
       "      <td>-0.247196</td>\n",
       "      <td>-1.962798</td>\n",
       "    </tr>\n",
       "    <tr>\n",
       "      <th>3</th>\n",
       "      <td>-0.714506</td>\n",
       "      <td>-1.350523</td>\n",
       "      <td>0.688841</td>\n",
       "      <td>0.133131</td>\n",
       "      <td>0.499454</td>\n",
       "      <td>1.322385</td>\n",
       "      <td>1.845318</td>\n",
       "      <td>-0.564671</td>\n",
       "      <td>-0.413269</td>\n",
       "      <td>-0.322099</td>\n",
       "      <td>-0.247196</td>\n",
       "      <td>0.509477</td>\n",
       "    </tr>\n",
       "    <tr>\n",
       "      <th>4</th>\n",
       "      <td>-0.861255</td>\n",
       "      <td>0.740454</td>\n",
       "      <td>-1.206649</td>\n",
       "      <td>-0.804842</td>\n",
       "      <td>-1.283695</td>\n",
       "      <td>-1.572904</td>\n",
       "      <td>-2.154929</td>\n",
       "      <td>-0.564671</td>\n",
       "      <td>-0.413269</td>\n",
       "      <td>-0.322099</td>\n",
       "      <td>-0.247196</td>\n",
       "      <td>-1.962798</td>\n",
       "    </tr>\n",
       "  </tbody>\n",
       "</table>\n",
       "</div>"
      ],
      "text/plain": [
       "        age    gender    height       bmi    weight     ap_hi     ap_lo  \\\n",
       "0 -0.421007 -1.350523  0.372926 -1.044044 -0.872127 -0.993846 -0.154806   \n",
       "1  0.312741  0.740454 -1.206649  1.470403  0.705083  0.743327  0.845256   \n",
       "2 -0.274257  0.740454  0.057011 -0.776590 -0.734938  0.164269 -1.154868   \n",
       "3 -0.714506 -1.350523  0.688841  0.133131  0.499454  1.322385  1.845318   \n",
       "4 -0.861255  0.740454 -1.206649 -0.804842 -1.283695 -1.572904 -2.154929   \n",
       "\n",
       "   cholesterol      gluc     smoke      alco    active  \n",
       "0    -0.564671 -0.413269 -0.322099 -0.247196  0.509477  \n",
       "1     2.304904 -0.413269 -0.322099 -0.247196  0.509477  \n",
       "2     2.304904 -0.413269 -0.322099 -0.247196 -1.962798  \n",
       "3    -0.564671 -0.413269 -0.322099 -0.247196  0.509477  \n",
       "4    -0.564671 -0.413269 -0.322099 -0.247196 -1.962798  "
      ]
     },
     "execution_count": 130,
     "metadata": {},
     "output_type": "execute_result"
    }
   ],
   "source": [
    "# seeing how the zscore standardization looks like \n",
    "standardized_df.head()"
   ]
  },
  {
   "cell_type": "code",
   "execution_count": 131,
   "metadata": {},
   "outputs": [],
   "source": [
    "# using kmeans to cluster the data into 3 clusters and storing the predictions \n",
    "y_predicted = KMeans(n_clusters = 3, max_iter = 300, random_state = 0).fit_predict(standardized_df)"
   ]
  },
  {
   "cell_type": "code",
   "execution_count": 132,
   "metadata": {},
   "outputs": [],
   "source": [
    "# putting the predictions back into the orginal dataframe as well as putting the actaully class label back\n",
    "df['cardio'] = cardio\n",
    "df['cluster_grouping'] = y_predicted"
   ]
  },
  {
   "cell_type": "code",
   "execution_count": 133,
   "metadata": {},
   "outputs": [
    {
     "data": {
      "text/html": [
       "<div>\n",
       "<style scoped>\n",
       "    .dataframe tbody tr th:only-of-type {\n",
       "        vertical-align: middle;\n",
       "    }\n",
       "\n",
       "    .dataframe tbody tr th {\n",
       "        vertical-align: top;\n",
       "    }\n",
       "\n",
       "    .dataframe thead th {\n",
       "        text-align: right;\n",
       "    }\n",
       "</style>\n",
       "<table border=\"1\" class=\"dataframe\">\n",
       "  <thead>\n",
       "    <tr style=\"text-align: right;\">\n",
       "      <th></th>\n",
       "      <th>age</th>\n",
       "      <th>gender</th>\n",
       "      <th>height</th>\n",
       "      <th>bmi</th>\n",
       "      <th>weight</th>\n",
       "      <th>ap_hi</th>\n",
       "      <th>ap_lo</th>\n",
       "      <th>cholesterol</th>\n",
       "      <th>gluc</th>\n",
       "      <th>smoke</th>\n",
       "      <th>alco</th>\n",
       "      <th>active</th>\n",
       "      <th>cardio</th>\n",
       "      <th>cluster_grouping</th>\n",
       "    </tr>\n",
       "  </thead>\n",
       "  <tbody>\n",
       "    <tr>\n",
       "      <th>0</th>\n",
       "      <td>50</td>\n",
       "      <td>0</td>\n",
       "      <td>66.0</td>\n",
       "      <td>22.06</td>\n",
       "      <td>136.69</td>\n",
       "      <td>110</td>\n",
       "      <td>80</td>\n",
       "      <td>1</td>\n",
       "      <td>1</td>\n",
       "      <td>0</td>\n",
       "      <td>0</td>\n",
       "      <td>1</td>\n",
       "      <td>0</td>\n",
       "      <td>0</td>\n",
       "    </tr>\n",
       "    <tr>\n",
       "      <th>1</th>\n",
       "      <td>55</td>\n",
       "      <td>1</td>\n",
       "      <td>61.0</td>\n",
       "      <td>35.41</td>\n",
       "      <td>187.39</td>\n",
       "      <td>140</td>\n",
       "      <td>90</td>\n",
       "      <td>3</td>\n",
       "      <td>1</td>\n",
       "      <td>0</td>\n",
       "      <td>0</td>\n",
       "      <td>1</td>\n",
       "      <td>1</td>\n",
       "      <td>1</td>\n",
       "    </tr>\n",
       "    <tr>\n",
       "      <th>2</th>\n",
       "      <td>51</td>\n",
       "      <td>1</td>\n",
       "      <td>65.0</td>\n",
       "      <td>23.48</td>\n",
       "      <td>141.10</td>\n",
       "      <td>130</td>\n",
       "      <td>70</td>\n",
       "      <td>3</td>\n",
       "      <td>1</td>\n",
       "      <td>0</td>\n",
       "      <td>0</td>\n",
       "      <td>0</td>\n",
       "      <td>1</td>\n",
       "      <td>0</td>\n",
       "    </tr>\n",
       "    <tr>\n",
       "      <th>3</th>\n",
       "      <td>48</td>\n",
       "      <td>0</td>\n",
       "      <td>67.0</td>\n",
       "      <td>28.31</td>\n",
       "      <td>180.78</td>\n",
       "      <td>150</td>\n",
       "      <td>100</td>\n",
       "      <td>1</td>\n",
       "      <td>1</td>\n",
       "      <td>0</td>\n",
       "      <td>0</td>\n",
       "      <td>1</td>\n",
       "      <td>1</td>\n",
       "      <td>1</td>\n",
       "    </tr>\n",
       "    <tr>\n",
       "      <th>4</th>\n",
       "      <td>47</td>\n",
       "      <td>1</td>\n",
       "      <td>61.0</td>\n",
       "      <td>23.33</td>\n",
       "      <td>123.46</td>\n",
       "      <td>100</td>\n",
       "      <td>60</td>\n",
       "      <td>1</td>\n",
       "      <td>1</td>\n",
       "      <td>0</td>\n",
       "      <td>0</td>\n",
       "      <td>0</td>\n",
       "      <td>0</td>\n",
       "      <td>0</td>\n",
       "    </tr>\n",
       "    <tr>\n",
       "      <th>5</th>\n",
       "      <td>60</td>\n",
       "      <td>1</td>\n",
       "      <td>59.0</td>\n",
       "      <td>29.83</td>\n",
       "      <td>147.71</td>\n",
       "      <td>120</td>\n",
       "      <td>80</td>\n",
       "      <td>2</td>\n",
       "      <td>2</td>\n",
       "      <td>0</td>\n",
       "      <td>0</td>\n",
       "      <td>0</td>\n",
       "      <td>0</td>\n",
       "      <td>1</td>\n",
       "    </tr>\n",
       "    <tr>\n",
       "      <th>6</th>\n",
       "      <td>60</td>\n",
       "      <td>1</td>\n",
       "      <td>62.0</td>\n",
       "      <td>37.50</td>\n",
       "      <td>205.03</td>\n",
       "      <td>130</td>\n",
       "      <td>80</td>\n",
       "      <td>3</td>\n",
       "      <td>1</td>\n",
       "      <td>0</td>\n",
       "      <td>0</td>\n",
       "      <td>1</td>\n",
       "      <td>0</td>\n",
       "      <td>1</td>\n",
       "    </tr>\n",
       "    <tr>\n",
       "      <th>7</th>\n",
       "      <td>61</td>\n",
       "      <td>0</td>\n",
       "      <td>70.0</td>\n",
       "      <td>30.05</td>\n",
       "      <td>209.44</td>\n",
       "      <td>130</td>\n",
       "      <td>90</td>\n",
       "      <td>3</td>\n",
       "      <td>3</td>\n",
       "      <td>0</td>\n",
       "      <td>0</td>\n",
       "      <td>1</td>\n",
       "      <td>1</td>\n",
       "      <td>1</td>\n",
       "    </tr>\n",
       "    <tr>\n",
       "      <th>8</th>\n",
       "      <td>48</td>\n",
       "      <td>1</td>\n",
       "      <td>62.0</td>\n",
       "      <td>28.63</td>\n",
       "      <td>156.53</td>\n",
       "      <td>110</td>\n",
       "      <td>70</td>\n",
       "      <td>1</td>\n",
       "      <td>1</td>\n",
       "      <td>0</td>\n",
       "      <td>0</td>\n",
       "      <td>1</td>\n",
       "      <td>0</td>\n",
       "      <td>0</td>\n",
       "    </tr>\n",
       "    <tr>\n",
       "      <th>9</th>\n",
       "      <td>54</td>\n",
       "      <td>1</td>\n",
       "      <td>65.0</td>\n",
       "      <td>24.95</td>\n",
       "      <td>149.91</td>\n",
       "      <td>110</td>\n",
       "      <td>60</td>\n",
       "      <td>1</td>\n",
       "      <td>1</td>\n",
       "      <td>0</td>\n",
       "      <td>0</td>\n",
       "      <td>0</td>\n",
       "      <td>0</td>\n",
       "      <td>0</td>\n",
       "    </tr>\n",
       "  </tbody>\n",
       "</table>\n",
       "</div>"
      ],
      "text/plain": [
       "   age  gender  height    bmi  weight  ap_hi  ap_lo  cholesterol  gluc  smoke  \\\n",
       "0   50       0    66.0  22.06  136.69    110     80            1     1      0   \n",
       "1   55       1    61.0  35.41  187.39    140     90            3     1      0   \n",
       "2   51       1    65.0  23.48  141.10    130     70            3     1      0   \n",
       "3   48       0    67.0  28.31  180.78    150    100            1     1      0   \n",
       "4   47       1    61.0  23.33  123.46    100     60            1     1      0   \n",
       "5   60       1    59.0  29.83  147.71    120     80            2     2      0   \n",
       "6   60       1    62.0  37.50  205.03    130     80            3     1      0   \n",
       "7   61       0    70.0  30.05  209.44    130     90            3     3      0   \n",
       "8   48       1    62.0  28.63  156.53    110     70            1     1      0   \n",
       "9   54       1    65.0  24.95  149.91    110     60            1     1      0   \n",
       "\n",
       "   alco  active  cardio  cluster_grouping  \n",
       "0     0       1       0                 0  \n",
       "1     0       1       1                 1  \n",
       "2     0       0       1                 0  \n",
       "3     0       1       1                 1  \n",
       "4     0       0       0                 0  \n",
       "5     0       0       0                 1  \n",
       "6     0       1       0                 1  \n",
       "7     0       1       1                 1  \n",
       "8     0       1       0                 0  \n",
       "9     0       0       0                 0  "
      ]
     },
     "execution_count": 133,
     "metadata": {},
     "output_type": "execute_result"
    }
   ],
   "source": [
    "df.head(10)"
   ]
  },
  {
   "cell_type": "code",
   "execution_count": 134,
   "metadata": {},
   "outputs": [
    {
     "name": "stdout",
     "output_type": "stream",
     "text": [
      "What percentage of the data went into CLUSTER 0 out of the entire dataframe:  55.62395343274061\n",
      "What percentage in CLUSTER 0 have cardiovascular disease out of the entire dataframe:  21.841958376524996\n",
      "What percentage in CLUSTER 0 don't have cardiovascular disease out of the entire dataframe:  33.781995056215614\n"
     ]
    }
   ],
   "source": [
    "# seeing how many % of the data in cluster 0 have cardiovasular disease and how many don't \n",
    "print('What percentage of the data went into CLUSTER 0 out of the entire dataframe: ', \n",
    "      len(df[df['cluster_grouping'] == 0]) / len(df) * 100)\n",
    "\n",
    "print('What percentage in CLUSTER 0 have cardiovascular disease out of the entire dataframe: ',\n",
    "      len(df[(df['cluster_grouping'] == 0) & (df['cardio'] == 1)])/len(df) * 100)\n",
    "\n",
    "print(\"What percentage in CLUSTER 0 don't have cardiovascular disease out of the entire dataframe: \",\n",
    "      len(df[(df['cluster_grouping'] == 0) & (df['cardio'] == 0)])/len(df) * 100)"
   ]
  },
  {
   "cell_type": "code",
   "execution_count": 135,
   "metadata": {},
   "outputs": [
    {
     "data": {
      "text/html": [
       "<div>\n",
       "<style scoped>\n",
       "    .dataframe tbody tr th:only-of-type {\n",
       "        vertical-align: middle;\n",
       "    }\n",
       "\n",
       "    .dataframe tbody tr th {\n",
       "        vertical-align: top;\n",
       "    }\n",
       "\n",
       "    .dataframe thead th {\n",
       "        text-align: right;\n",
       "    }\n",
       "</style>\n",
       "<table border=\"1\" class=\"dataframe\">\n",
       "  <thead>\n",
       "    <tr style=\"text-align: right;\">\n",
       "      <th></th>\n",
       "      <th>age</th>\n",
       "      <th>gender</th>\n",
       "      <th>height</th>\n",
       "      <th>bmi</th>\n",
       "      <th>weight</th>\n",
       "      <th>ap_hi</th>\n",
       "      <th>ap_lo</th>\n",
       "      <th>cholesterol</th>\n",
       "      <th>gluc</th>\n",
       "      <th>smoke</th>\n",
       "      <th>alco</th>\n",
       "      <th>active</th>\n",
       "      <th>cardio</th>\n",
       "      <th>cluster_grouping</th>\n",
       "    </tr>\n",
       "  </thead>\n",
       "  <tbody>\n",
       "    <tr>\n",
       "      <th>count</th>\n",
       "      <td>34879.000000</td>\n",
       "      <td>34879.000000</td>\n",
       "      <td>34879.000000</td>\n",
       "      <td>34879.000000</td>\n",
       "      <td>34879.000000</td>\n",
       "      <td>34879.000000</td>\n",
       "      <td>34879.000000</td>\n",
       "      <td>34879.000000</td>\n",
       "      <td>34879.000000</td>\n",
       "      <td>34879.000000</td>\n",
       "      <td>34879.000000</td>\n",
       "      <td>34879.00000</td>\n",
       "      <td>34879.000000</td>\n",
       "      <td>34879.0</td>\n",
       "    </tr>\n",
       "    <tr>\n",
       "      <th>mean</th>\n",
       "      <td>51.665501</td>\n",
       "      <td>0.705295</td>\n",
       "      <td>64.685312</td>\n",
       "      <td>25.192851</td>\n",
       "      <td>149.906049</td>\n",
       "      <td>119.650191</td>\n",
       "      <td>77.544912</td>\n",
       "      <td>1.149030</td>\n",
       "      <td>1.095158</td>\n",
       "      <td>0.001118</td>\n",
       "      <td>0.013274</td>\n",
       "      <td>0.77981</td>\n",
       "      <td>0.392672</td>\n",
       "      <td>0.0</td>\n",
       "    </tr>\n",
       "    <tr>\n",
       "      <th>std</th>\n",
       "      <td>6.866107</td>\n",
       "      <td>0.455916</td>\n",
       "      <td>3.054243</td>\n",
       "      <td>3.381001</td>\n",
       "      <td>22.025058</td>\n",
       "      <td>12.381497</td>\n",
       "      <td>8.017387</td>\n",
       "      <td>0.419141</td>\n",
       "      <td>0.365885</td>\n",
       "      <td>0.033421</td>\n",
       "      <td>0.114449</td>\n",
       "      <td>0.41438</td>\n",
       "      <td>0.488352</td>\n",
       "      <td>0.0</td>\n",
       "    </tr>\n",
       "    <tr>\n",
       "      <th>min</th>\n",
       "      <td>29.000000</td>\n",
       "      <td>0.000000</td>\n",
       "      <td>56.000000</td>\n",
       "      <td>10.010000</td>\n",
       "      <td>63.930000</td>\n",
       "      <td>60.000000</td>\n",
       "      <td>40.000000</td>\n",
       "      <td>1.000000</td>\n",
       "      <td>1.000000</td>\n",
       "      <td>0.000000</td>\n",
       "      <td>0.000000</td>\n",
       "      <td>0.00000</td>\n",
       "      <td>0.000000</td>\n",
       "      <td>0.0</td>\n",
       "    </tr>\n",
       "    <tr>\n",
       "      <th>25%</th>\n",
       "      <td>46.000000</td>\n",
       "      <td>0.000000</td>\n",
       "      <td>63.000000</td>\n",
       "      <td>23.040000</td>\n",
       "      <td>134.480000</td>\n",
       "      <td>110.000000</td>\n",
       "      <td>70.000000</td>\n",
       "      <td>1.000000</td>\n",
       "      <td>1.000000</td>\n",
       "      <td>0.000000</td>\n",
       "      <td>0.000000</td>\n",
       "      <td>1.00000</td>\n",
       "      <td>0.000000</td>\n",
       "      <td>0.0</td>\n",
       "    </tr>\n",
       "    <tr>\n",
       "      <th>50%</th>\n",
       "      <td>52.000000</td>\n",
       "      <td>1.000000</td>\n",
       "      <td>65.000000</td>\n",
       "      <td>24.860000</td>\n",
       "      <td>149.910000</td>\n",
       "      <td>120.000000</td>\n",
       "      <td>80.000000</td>\n",
       "      <td>1.000000</td>\n",
       "      <td>1.000000</td>\n",
       "      <td>0.000000</td>\n",
       "      <td>0.000000</td>\n",
       "      <td>1.00000</td>\n",
       "      <td>0.000000</td>\n",
       "      <td>0.0</td>\n",
       "    </tr>\n",
       "    <tr>\n",
       "      <th>75%</th>\n",
       "      <td>57.000000</td>\n",
       "      <td>1.000000</td>\n",
       "      <td>67.000000</td>\n",
       "      <td>27.250000</td>\n",
       "      <td>165.350000</td>\n",
       "      <td>120.000000</td>\n",
       "      <td>80.000000</td>\n",
       "      <td>1.000000</td>\n",
       "      <td>1.000000</td>\n",
       "      <td>0.000000</td>\n",
       "      <td>0.000000</td>\n",
       "      <td>1.00000</td>\n",
       "      <td>1.000000</td>\n",
       "      <td>0.0</td>\n",
       "    </tr>\n",
       "    <tr>\n",
       "      <th>max</th>\n",
       "      <td>64.000000</td>\n",
       "      <td>1.000000</td>\n",
       "      <td>78.000000</td>\n",
       "      <td>44.520000</td>\n",
       "      <td>251.330000</td>\n",
       "      <td>195.000000</td>\n",
       "      <td>140.000000</td>\n",
       "      <td>3.000000</td>\n",
       "      <td>3.000000</td>\n",
       "      <td>1.000000</td>\n",
       "      <td>1.000000</td>\n",
       "      <td>1.00000</td>\n",
       "      <td>1.000000</td>\n",
       "      <td>0.0</td>\n",
       "    </tr>\n",
       "  </tbody>\n",
       "</table>\n",
       "</div>"
      ],
      "text/plain": [
       "                age        gender        height           bmi        weight  \\\n",
       "count  34879.000000  34879.000000  34879.000000  34879.000000  34879.000000   \n",
       "mean      51.665501      0.705295     64.685312     25.192851    149.906049   \n",
       "std        6.866107      0.455916      3.054243      3.381001     22.025058   \n",
       "min       29.000000      0.000000     56.000000     10.010000     63.930000   \n",
       "25%       46.000000      0.000000     63.000000     23.040000    134.480000   \n",
       "50%       52.000000      1.000000     65.000000     24.860000    149.910000   \n",
       "75%       57.000000      1.000000     67.000000     27.250000    165.350000   \n",
       "max       64.000000      1.000000     78.000000     44.520000    251.330000   \n",
       "\n",
       "              ap_hi         ap_lo   cholesterol          gluc         smoke  \\\n",
       "count  34879.000000  34879.000000  34879.000000  34879.000000  34879.000000   \n",
       "mean     119.650191     77.544912      1.149030      1.095158      0.001118   \n",
       "std       12.381497      8.017387      0.419141      0.365885      0.033421   \n",
       "min       60.000000     40.000000      1.000000      1.000000      0.000000   \n",
       "25%      110.000000     70.000000      1.000000      1.000000      0.000000   \n",
       "50%      120.000000     80.000000      1.000000      1.000000      0.000000   \n",
       "75%      120.000000     80.000000      1.000000      1.000000      0.000000   \n",
       "max      195.000000    140.000000      3.000000      3.000000      1.000000   \n",
       "\n",
       "               alco       active        cardio  cluster_grouping  \n",
       "count  34879.000000  34879.00000  34879.000000           34879.0  \n",
       "mean       0.013274      0.77981      0.392672               0.0  \n",
       "std        0.114449      0.41438      0.488352               0.0  \n",
       "min        0.000000      0.00000      0.000000               0.0  \n",
       "25%        0.000000      1.00000      0.000000               0.0  \n",
       "50%        0.000000      1.00000      0.000000               0.0  \n",
       "75%        0.000000      1.00000      1.000000               0.0  \n",
       "max        1.000000      1.00000      1.000000               0.0  "
      ]
     },
     "execution_count": 135,
     "metadata": {},
     "output_type": "execute_result"
    }
   ],
   "source": [
    "# viewing the mean, std, min, max, 25%, and etc of other features to see what they are inside of cluster 0  \n",
    "df[df['cluster_grouping'] == 0].describe()"
   ]
  },
  {
   "cell_type": "code",
   "execution_count": 136,
   "metadata": {},
   "outputs": [
    {
     "name": "stdout",
     "output_type": "stream",
     "text": [
      "What percentage of the data went into CLUSTER 1 out of the entire dataframe:  34.04194242883343\n",
      "What percentage in CLUSTER 1 have cardiovascular disease out of the entire dataframe:  24.913483773223827\n",
      "What percentage in CLUSTER 1 don't have cardiovascular disease out of the entire dataframe:  9.1284586556096\n"
     ]
    }
   ],
   "source": [
    "# seeing how many % of the data in cluster 1 have cardiovasular disease and how many don't \n",
    "print('What percentage of the data went into CLUSTER 1 out of the entire dataframe: ', \n",
    "      len(df[df['cluster_grouping'] == 1]) / len(df) * 100)\n",
    "\n",
    "print('What percentage in CLUSTER 1 have cardiovascular disease out of the entire dataframe: ',\n",
    "      len(df[(df['cluster_grouping'] == 1) & (df['cardio'] == 1)])/len(df) * 100)\n",
    "\n",
    "print(\"What percentage in CLUSTER 1 don't have cardiovascular disease out of the entire dataframe: \",\n",
    "      len(df[(df['cluster_grouping'] == 1) & (df['cardio'] == 0)])/len(df) * 100)"
   ]
  },
  {
   "cell_type": "code",
   "execution_count": 137,
   "metadata": {},
   "outputs": [
    {
     "data": {
      "text/html": [
       "<div>\n",
       "<style scoped>\n",
       "    .dataframe tbody tr th:only-of-type {\n",
       "        vertical-align: middle;\n",
       "    }\n",
       "\n",
       "    .dataframe tbody tr th {\n",
       "        vertical-align: top;\n",
       "    }\n",
       "\n",
       "    .dataframe thead th {\n",
       "        text-align: right;\n",
       "    }\n",
       "</style>\n",
       "<table border=\"1\" class=\"dataframe\">\n",
       "  <thead>\n",
       "    <tr style=\"text-align: right;\">\n",
       "      <th></th>\n",
       "      <th>age</th>\n",
       "      <th>gender</th>\n",
       "      <th>height</th>\n",
       "      <th>bmi</th>\n",
       "      <th>weight</th>\n",
       "      <th>ap_hi</th>\n",
       "      <th>ap_lo</th>\n",
       "      <th>cholesterol</th>\n",
       "      <th>gluc</th>\n",
       "      <th>smoke</th>\n",
       "      <th>alco</th>\n",
       "      <th>active</th>\n",
       "      <th>cardio</th>\n",
       "      <th>cluster_grouping</th>\n",
       "    </tr>\n",
       "  </thead>\n",
       "  <tbody>\n",
       "    <tr>\n",
       "      <th>count</th>\n",
       "      <td>21346.000000</td>\n",
       "      <td>21346.000000</td>\n",
       "      <td>21346.000000</td>\n",
       "      <td>21346.000000</td>\n",
       "      <td>21346.000000</td>\n",
       "      <td>21346.000000</td>\n",
       "      <td>21346.000000</td>\n",
       "      <td>21346.000000</td>\n",
       "      <td>21346.000000</td>\n",
       "      <td>21346.000000</td>\n",
       "      <td>21346.000000</td>\n",
       "      <td>21346.000000</td>\n",
       "      <td>21346.000000</td>\n",
       "      <td>21346.0</td>\n",
       "    </tr>\n",
       "    <tr>\n",
       "      <th>mean</th>\n",
       "      <td>55.180455</td>\n",
       "      <td>0.712265</td>\n",
       "      <td>64.369952</td>\n",
       "      <td>31.818447</td>\n",
       "      <td>187.123796</td>\n",
       "      <td>139.246135</td>\n",
       "      <td>87.892486</td>\n",
       "      <td>1.800618</td>\n",
       "      <td>1.499344</td>\n",
       "      <td>0.005434</td>\n",
       "      <td>0.030123</td>\n",
       "      <td>0.802773</td>\n",
       "      <td>0.731847</td>\n",
       "      <td>1.0</td>\n",
       "    </tr>\n",
       "    <tr>\n",
       "      <th>std</th>\n",
       "      <td>6.088382</td>\n",
       "      <td>0.452718</td>\n",
       "      <td>3.203458</td>\n",
       "      <td>5.548334</td>\n",
       "      <td>32.940691</td>\n",
       "      <td>17.278110</td>\n",
       "      <td>9.644936</td>\n",
       "      <td>0.862357</td>\n",
       "      <td>0.785989</td>\n",
       "      <td>0.073519</td>\n",
       "      <td>0.170929</td>\n",
       "      <td>0.397914</td>\n",
       "      <td>0.443008</td>\n",
       "      <td>0.0</td>\n",
       "    </tr>\n",
       "    <tr>\n",
       "      <th>min</th>\n",
       "      <td>39.000000</td>\n",
       "      <td>0.000000</td>\n",
       "      <td>56.000000</td>\n",
       "      <td>17.570000</td>\n",
       "      <td>92.590000</td>\n",
       "      <td>70.000000</td>\n",
       "      <td>40.000000</td>\n",
       "      <td>1.000000</td>\n",
       "      <td>1.000000</td>\n",
       "      <td>0.000000</td>\n",
       "      <td>0.000000</td>\n",
       "      <td>0.000000</td>\n",
       "      <td>0.000000</td>\n",
       "      <td>1.0</td>\n",
       "    </tr>\n",
       "    <tr>\n",
       "      <th>25%</th>\n",
       "      <td>51.000000</td>\n",
       "      <td>0.000000</td>\n",
       "      <td>62.000000</td>\n",
       "      <td>27.880000</td>\n",
       "      <td>165.350000</td>\n",
       "      <td>130.000000</td>\n",
       "      <td>80.000000</td>\n",
       "      <td>1.000000</td>\n",
       "      <td>1.000000</td>\n",
       "      <td>0.000000</td>\n",
       "      <td>0.000000</td>\n",
       "      <td>1.000000</td>\n",
       "      <td>0.000000</td>\n",
       "      <td>1.0</td>\n",
       "    </tr>\n",
       "    <tr>\n",
       "      <th>50%</th>\n",
       "      <td>56.000000</td>\n",
       "      <td>1.000000</td>\n",
       "      <td>64.000000</td>\n",
       "      <td>31.240000</td>\n",
       "      <td>185.190000</td>\n",
       "      <td>140.000000</td>\n",
       "      <td>90.000000</td>\n",
       "      <td>2.000000</td>\n",
       "      <td>1.000000</td>\n",
       "      <td>0.000000</td>\n",
       "      <td>0.000000</td>\n",
       "      <td>1.000000</td>\n",
       "      <td>1.000000</td>\n",
       "      <td>1.0</td>\n",
       "    </tr>\n",
       "    <tr>\n",
       "      <th>75%</th>\n",
       "      <td>60.000000</td>\n",
       "      <td>1.000000</td>\n",
       "      <td>67.000000</td>\n",
       "      <td>34.990000</td>\n",
       "      <td>205.030000</td>\n",
       "      <td>150.000000</td>\n",
       "      <td>90.000000</td>\n",
       "      <td>3.000000</td>\n",
       "      <td>2.000000</td>\n",
       "      <td>0.000000</td>\n",
       "      <td>0.000000</td>\n",
       "      <td>1.000000</td>\n",
       "      <td>1.000000</td>\n",
       "      <td>1.0</td>\n",
       "    </tr>\n",
       "    <tr>\n",
       "      <th>max</th>\n",
       "      <td>64.000000</td>\n",
       "      <td>1.000000</td>\n",
       "      <td>78.000000</td>\n",
       "      <td>67.900000</td>\n",
       "      <td>440.920000</td>\n",
       "      <td>240.000000</td>\n",
       "      <td>190.000000</td>\n",
       "      <td>3.000000</td>\n",
       "      <td>3.000000</td>\n",
       "      <td>1.000000</td>\n",
       "      <td>1.000000</td>\n",
       "      <td>1.000000</td>\n",
       "      <td>1.000000</td>\n",
       "      <td>1.0</td>\n",
       "    </tr>\n",
       "  </tbody>\n",
       "</table>\n",
       "</div>"
      ],
      "text/plain": [
       "                age        gender        height           bmi        weight  \\\n",
       "count  21346.000000  21346.000000  21346.000000  21346.000000  21346.000000   \n",
       "mean      55.180455      0.712265     64.369952     31.818447    187.123796   \n",
       "std        6.088382      0.452718      3.203458      5.548334     32.940691   \n",
       "min       39.000000      0.000000     56.000000     17.570000     92.590000   \n",
       "25%       51.000000      0.000000     62.000000     27.880000    165.350000   \n",
       "50%       56.000000      1.000000     64.000000     31.240000    185.190000   \n",
       "75%       60.000000      1.000000     67.000000     34.990000    205.030000   \n",
       "max       64.000000      1.000000     78.000000     67.900000    440.920000   \n",
       "\n",
       "              ap_hi         ap_lo   cholesterol          gluc         smoke  \\\n",
       "count  21346.000000  21346.000000  21346.000000  21346.000000  21346.000000   \n",
       "mean     139.246135     87.892486      1.800618      1.499344      0.005434   \n",
       "std       17.278110      9.644936      0.862357      0.785989      0.073519   \n",
       "min       70.000000     40.000000      1.000000      1.000000      0.000000   \n",
       "25%      130.000000     80.000000      1.000000      1.000000      0.000000   \n",
       "50%      140.000000     90.000000      2.000000      1.000000      0.000000   \n",
       "75%      150.000000     90.000000      3.000000      2.000000      0.000000   \n",
       "max      240.000000    190.000000      3.000000      3.000000      1.000000   \n",
       "\n",
       "               alco        active        cardio  cluster_grouping  \n",
       "count  21346.000000  21346.000000  21346.000000           21346.0  \n",
       "mean       0.030123      0.802773      0.731847               1.0  \n",
       "std        0.170929      0.397914      0.443008               0.0  \n",
       "min        0.000000      0.000000      0.000000               1.0  \n",
       "25%        0.000000      1.000000      0.000000               1.0  \n",
       "50%        0.000000      1.000000      1.000000               1.0  \n",
       "75%        0.000000      1.000000      1.000000               1.0  \n",
       "max        1.000000      1.000000      1.000000               1.0  "
      ]
     },
     "execution_count": 137,
     "metadata": {},
     "output_type": "execute_result"
    }
   ],
   "source": [
    "# viewing the mean, std, min, max, 25%, and etc of other features to see what they are inside of cluster 1  \n",
    "df[df['cluster_grouping'] == 1].describe()"
   ]
  },
  {
   "cell_type": "markdown",
   "metadata": {},
   "source": [
    "This cluster seems to contain people with higher bmi as compared to cluster 0. Also the systolic and diastolic blood pressure of these individuals in this cluster are higher than clsuter 0."
   ]
  },
  {
   "cell_type": "code",
   "execution_count": 138,
   "metadata": {},
   "outputs": [
    {
     "name": "stdout",
     "output_type": "stream",
     "text": [
      "What percentage of the data went into CLUSTER 2 out of the entire dataframe:  10.334104138425964\n",
      "What percentage in CLUSTER 2 have cardiovascular disease out of the entire dataframe:  4.846503468622917\n",
      "What percentage in CLUSTER 2 don't have cardiovascular disease out of the entire dataframe:  5.4876006698030455\n"
     ]
    }
   ],
   "source": [
    "print('What percentage of the data went into CLUSTER 2 out of the entire dataframe: ', \n",
    "      len(df[df['cluster_grouping'] == 2]) / len(df) * 100)\n",
    "\n",
    "print('What percentage in CLUSTER 2 have cardiovascular disease out of the entire dataframe: ',\n",
    "      len(df[(df['cluster_grouping'] == 2) & (df['cardio'] == 1)])/len(df) * 100)\n",
    "\n",
    "print(\"What percentage in CLUSTER 2 don't have cardiovascular disease out of the entire dataframe: \",\n",
    "      len(df[(df['cluster_grouping'] == 2) & (df['cardio'] == 0)])/len(df) * 100)"
   ]
  },
  {
   "cell_type": "code",
   "execution_count": 139,
   "metadata": {},
   "outputs": [
    {
     "data": {
      "text/html": [
       "<div>\n",
       "<style scoped>\n",
       "    .dataframe tbody tr th:only-of-type {\n",
       "        vertical-align: middle;\n",
       "    }\n",
       "\n",
       "    .dataframe tbody tr th {\n",
       "        vertical-align: top;\n",
       "    }\n",
       "\n",
       "    .dataframe thead th {\n",
       "        text-align: right;\n",
       "    }\n",
       "</style>\n",
       "<table border=\"1\" class=\"dataframe\">\n",
       "  <thead>\n",
       "    <tr style=\"text-align: right;\">\n",
       "      <th></th>\n",
       "      <th>age</th>\n",
       "      <th>gender</th>\n",
       "      <th>height</th>\n",
       "      <th>bmi</th>\n",
       "      <th>weight</th>\n",
       "      <th>ap_hi</th>\n",
       "      <th>ap_lo</th>\n",
       "      <th>cholesterol</th>\n",
       "      <th>gluc</th>\n",
       "      <th>smoke</th>\n",
       "      <th>alco</th>\n",
       "      <th>active</th>\n",
       "      <th>cardio</th>\n",
       "      <th>cluster_grouping</th>\n",
       "    </tr>\n",
       "  </thead>\n",
       "  <tbody>\n",
       "    <tr>\n",
       "      <th>count</th>\n",
       "      <td>6480.000000</td>\n",
       "      <td>6480.000000</td>\n",
       "      <td>6480.000000</td>\n",
       "      <td>6480.000000</td>\n",
       "      <td>6480.000000</td>\n",
       "      <td>6480.000000</td>\n",
       "      <td>6480.000000</td>\n",
       "      <td>6480.000000</td>\n",
       "      <td>6480.000000</td>\n",
       "      <td>6480.000000</td>\n",
       "      <td>6480.000000</td>\n",
       "      <td>6480.000000</td>\n",
       "      <td>6480.000000</td>\n",
       "      <td>6480.0</td>\n",
       "    </tr>\n",
       "    <tr>\n",
       "      <th>mean</th>\n",
       "      <td>51.731481</td>\n",
       "      <td>0.107407</td>\n",
       "      <td>67.022994</td>\n",
       "      <td>26.691110</td>\n",
       "      <td>170.702809</td>\n",
       "      <td>127.799228</td>\n",
       "      <td>82.194907</td>\n",
       "      <td>1.368827</td>\n",
       "      <td>1.202469</td>\n",
       "      <td>0.885648</td>\n",
       "      <td>0.386574</td>\n",
       "      <td>0.840741</td>\n",
       "      <td>0.468981</td>\n",
       "      <td>2.0</td>\n",
       "    </tr>\n",
       "    <tr>\n",
       "      <th>std</th>\n",
       "      <td>6.841634</td>\n",
       "      <td>0.309654</td>\n",
       "      <td>2.707241</td>\n",
       "      <td>4.383408</td>\n",
       "      <td>30.717914</td>\n",
       "      <td>17.096964</td>\n",
       "      <td>9.792876</td>\n",
       "      <td>0.661198</td>\n",
       "      <td>0.526847</td>\n",
       "      <td>0.318263</td>\n",
       "      <td>0.487002</td>\n",
       "      <td>0.365946</td>\n",
       "      <td>0.499075</td>\n",
       "      <td>0.0</td>\n",
       "    </tr>\n",
       "    <tr>\n",
       "      <th>min</th>\n",
       "      <td>39.000000</td>\n",
       "      <td>0.000000</td>\n",
       "      <td>57.000000</td>\n",
       "      <td>15.630000</td>\n",
       "      <td>97.000000</td>\n",
       "      <td>70.000000</td>\n",
       "      <td>40.000000</td>\n",
       "      <td>1.000000</td>\n",
       "      <td>1.000000</td>\n",
       "      <td>0.000000</td>\n",
       "      <td>0.000000</td>\n",
       "      <td>0.000000</td>\n",
       "      <td>0.000000</td>\n",
       "      <td>2.0</td>\n",
       "    </tr>\n",
       "    <tr>\n",
       "      <th>25%</th>\n",
       "      <td>46.000000</td>\n",
       "      <td>0.000000</td>\n",
       "      <td>65.000000</td>\n",
       "      <td>23.800000</td>\n",
       "      <td>149.910000</td>\n",
       "      <td>120.000000</td>\n",
       "      <td>80.000000</td>\n",
       "      <td>1.000000</td>\n",
       "      <td>1.000000</td>\n",
       "      <td>1.000000</td>\n",
       "      <td>0.000000</td>\n",
       "      <td>1.000000</td>\n",
       "      <td>0.000000</td>\n",
       "      <td>2.0</td>\n",
       "    </tr>\n",
       "    <tr>\n",
       "      <th>50%</th>\n",
       "      <td>52.000000</td>\n",
       "      <td>0.000000</td>\n",
       "      <td>67.000000</td>\n",
       "      <td>26.050000</td>\n",
       "      <td>167.550000</td>\n",
       "      <td>120.000000</td>\n",
       "      <td>80.000000</td>\n",
       "      <td>1.000000</td>\n",
       "      <td>1.000000</td>\n",
       "      <td>1.000000</td>\n",
       "      <td>0.000000</td>\n",
       "      <td>1.000000</td>\n",
       "      <td>0.000000</td>\n",
       "      <td>2.0</td>\n",
       "    </tr>\n",
       "    <tr>\n",
       "      <th>75%</th>\n",
       "      <td>57.000000</td>\n",
       "      <td>0.000000</td>\n",
       "      <td>69.000000</td>\n",
       "      <td>29.290000</td>\n",
       "      <td>187.390000</td>\n",
       "      <td>140.000000</td>\n",
       "      <td>90.000000</td>\n",
       "      <td>2.000000</td>\n",
       "      <td>1.000000</td>\n",
       "      <td>1.000000</td>\n",
       "      <td>1.000000</td>\n",
       "      <td>1.000000</td>\n",
       "      <td>1.000000</td>\n",
       "      <td>2.0</td>\n",
       "    </tr>\n",
       "    <tr>\n",
       "      <th>max</th>\n",
       "      <td>64.000000</td>\n",
       "      <td>1.000000</td>\n",
       "      <td>81.000000</td>\n",
       "      <td>65.300000</td>\n",
       "      <td>392.420000</td>\n",
       "      <td>240.000000</td>\n",
       "      <td>150.000000</td>\n",
       "      <td>3.000000</td>\n",
       "      <td>3.000000</td>\n",
       "      <td>1.000000</td>\n",
       "      <td>1.000000</td>\n",
       "      <td>1.000000</td>\n",
       "      <td>1.000000</td>\n",
       "      <td>2.0</td>\n",
       "    </tr>\n",
       "  </tbody>\n",
       "</table>\n",
       "</div>"
      ],
      "text/plain": [
       "               age       gender       height          bmi       weight  \\\n",
       "count  6480.000000  6480.000000  6480.000000  6480.000000  6480.000000   \n",
       "mean     51.731481     0.107407    67.022994    26.691110   170.702809   \n",
       "std       6.841634     0.309654     2.707241     4.383408    30.717914   \n",
       "min      39.000000     0.000000    57.000000    15.630000    97.000000   \n",
       "25%      46.000000     0.000000    65.000000    23.800000   149.910000   \n",
       "50%      52.000000     0.000000    67.000000    26.050000   167.550000   \n",
       "75%      57.000000     0.000000    69.000000    29.290000   187.390000   \n",
       "max      64.000000     1.000000    81.000000    65.300000   392.420000   \n",
       "\n",
       "             ap_hi        ap_lo  cholesterol         gluc        smoke  \\\n",
       "count  6480.000000  6480.000000  6480.000000  6480.000000  6480.000000   \n",
       "mean    127.799228    82.194907     1.368827     1.202469     0.885648   \n",
       "std      17.096964     9.792876     0.661198     0.526847     0.318263   \n",
       "min      70.000000    40.000000     1.000000     1.000000     0.000000   \n",
       "25%     120.000000    80.000000     1.000000     1.000000     1.000000   \n",
       "50%     120.000000    80.000000     1.000000     1.000000     1.000000   \n",
       "75%     140.000000    90.000000     2.000000     1.000000     1.000000   \n",
       "max     240.000000   150.000000     3.000000     3.000000     1.000000   \n",
       "\n",
       "              alco       active       cardio  cluster_grouping  \n",
       "count  6480.000000  6480.000000  6480.000000            6480.0  \n",
       "mean      0.386574     0.840741     0.468981               2.0  \n",
       "std       0.487002     0.365946     0.499075               0.0  \n",
       "min       0.000000     0.000000     0.000000               2.0  \n",
       "25%       0.000000     1.000000     0.000000               2.0  \n",
       "50%       0.000000     1.000000     0.000000               2.0  \n",
       "75%       1.000000     1.000000     1.000000               2.0  \n",
       "max       1.000000     1.000000     1.000000               2.0  "
      ]
     },
     "execution_count": 139,
     "metadata": {},
     "output_type": "execute_result"
    }
   ],
   "source": [
    "# viewing the mean, std, min, max, 25%, and etc of other features to see what they are inside of cluster 2  \n",
    "df[df['cluster_grouping'] == 2].describe()"
   ]
  },
  {
   "cell_type": "markdown",
   "metadata": {},
   "source": [
    "This cluster seems to contain the individuals that are considered tall. I came to that conclusion because the mean of the height is 67inches which is higher than both the other two clusters. Also all the other values that are described for height in the above output is higher than the values desribed for the other two clusters. "
   ]
  },
  {
   "cell_type": "code",
   "execution_count": 140,
   "metadata": {},
   "outputs": [],
   "source": [
    "# removing the cluster column\n",
    "df.drop(['cluster_grouping'], axis = 1, inplace = True)"
   ]
  },
  {
   "cell_type": "markdown",
   "metadata": {},
   "source": [
    "<br />\n",
    "\n",
    "## TRAINING AND TESTING SET\n",
    "\n",
    "Creating a function that does cross validation to create my testing and training dataset and also standardizes the x_train and the x_test using StandardScaler() "
   ]
  },
  {
   "cell_type": "code",
   "execution_count": 141,
   "metadata": {},
   "outputs": [],
   "source": [
    "# import the required library to do cross validation \n",
    "from sklearn.model_selection import KFold"
   ]
  },
  {
   "cell_type": "code",
   "execution_count": 142,
   "metadata": {},
   "outputs": [],
   "source": [
    "# creating 10 splits\n",
    "kf = KFold(n_splits = 10)\n",
    "\n",
    "def get_train_test_set(x, y):\n",
    "    \n",
    "    # create the training and testing variables\n",
    "    for train_index, test_index in kf.split(x,y):\n",
    "        x_train, x_test = x.iloc[list(train_index)], x.iloc[list(test_index)]\n",
    "        y_train, y_test = y.iloc[list(train_index)], y.iloc[list(test_index)]\n",
    "    \n",
    "    # standardize x_train and x_test\n",
    "    x_train_scaled = StandardScaler().fit_transform(x_train)\n",
    "    x_test_scaled = StandardScaler().fit_transform(x_test)\n",
    "    \n",
    "    # return the x_train_scaled, x_test, y_train, y_test\n",
    "    return x_train_scaled, x_test_scaled, y_train, y_test"
   ]
  },
  {
   "cell_type": "markdown",
   "metadata": {},
   "source": [
    "<br /> \n",
    "\n",
    "## WHICH MODEL IS THE BEST"
   ]
  },
  {
   "cell_type": "markdown",
   "metadata": {},
   "source": [
    "### Before Feature Selection\n",
    "\n",
    "I am going to be testing to see if logistic regression, decision tree, random forest, support vector machine, or naive bayes are good classification techniques for my data. This is before I have done Feature Selection to see what my results are and so I have something to compare my results to once I have done feature selection.   \n",
    "\n",
    "__Forewarning anything involving the random forest takes a while to run__\n",
    "\n",
    "1. First thing I need to do is figure out how many trees my random forest should have.    \n",
    "    For that I am going to create a test 30 to 170 trees and whihc one yeilds me the best accuracy. Afterward figure out what the max depth should be for the trees based on the accuracy and sensitivity\n",
    "\n",
    "\n",
    "2. Then need to create a function that takes in a list of classification techniques and my training and testing set.    \n",
    "    The function creates the models and uses them to predict. Once the prediction has been made it gets the accuracy, error rate, confusion matrix info, precision, sensitivity, specificity, and the f measure. \n",
    "    \n",
    "    Once it has gone through all the different classification tecniques in the list it and then it puts all the info into an dataframe and returns it sorted by the value of the sensitivity of each model"
   ]
  },
  {
   "cell_type": "code",
   "execution_count": 143,
   "metadata": {},
   "outputs": [],
   "source": [
    "# import the required libraries \n",
    "from sklearn.linear_model import LogisticRegression\n",
    "from sklearn.tree import DecisionTreeClassifier\n",
    "from sklearn.ensemble import RandomForestClassifier\n",
    "from sklearn.naive_bayes import GaussianNB\n",
    "from sklearn.svm import SVC\n",
    "from sklearn.metrics import accuracy_score\n",
    "from sklearn.metrics import confusion_matrix"
   ]
  },
  {
   "cell_type": "code",
   "execution_count": 144,
   "metadata": {},
   "outputs": [],
   "source": [
    "x = df.drop(columns = ['cardio', 'bmi'])\n",
    "y = df['cardio']"
   ]
  },
  {
   "cell_type": "code",
   "execution_count": 145,
   "metadata": {},
   "outputs": [],
   "source": [
    "results = get_train_test_set(x, y)"
   ]
  },
  {
   "cell_type": "code",
   "execution_count": 146,
   "metadata": {},
   "outputs": [],
   "source": [
    "x_train = results[0]\n",
    "x_test = results[1]\n",
    "y_train = results[2]\n",
    "y_test = results[3]"
   ]
  },
  {
   "cell_type": "code",
   "execution_count": 147,
   "metadata": {},
   "outputs": [],
   "source": [
    "# storing the accuracies for the random forest. (TAKES A WHILE TO RUN)\n",
    "score = []\n",
    "n_estimators = 171\n",
    "\n",
    "for i in range(30, n_estimators, 10):\n",
    "    forest = RandomForestClassifier(n_estimators = i)\n",
    "    temp = []\n",
    "    for i in range(10): # run  this 10 times and then store the average accuracy of that number of trees\n",
    "        forest.fit(x_train, y_train)\n",
    "        y_predicted = forest.predict(x_test)\n",
    "        temp.append(accuracy_score(y_test, y_predicted))\n",
    "    value = sum(temp)/len(temp)\n",
    "    score.append(value * 100)"
   ]
  },
  {
   "cell_type": "code",
   "execution_count": 148,
   "metadata": {},
   "outputs": [
    {
     "data": {
      "text/html": [
       "\n",
       "    <div class=\"bk-root\">\n",
       "        <a href=\"https://bokeh.org\" target=\"_blank\" class=\"bk-logo bk-logo-small bk-logo-notebook\"></a>\n",
       "        <span id=\"1001\">Loading BokehJS ...</span>\n",
       "    </div>"
      ]
     },
     "metadata": {},
     "output_type": "display_data"
    },
    {
     "data": {
      "application/javascript": [
       "\n",
       "(function(root) {\n",
       "  function now() {\n",
       "    return new Date();\n",
       "  }\n",
       "\n",
       "  var force = true;\n",
       "\n",
       "  if (typeof root._bokeh_onload_callbacks === \"undefined\" || force === true) {\n",
       "    root._bokeh_onload_callbacks = [];\n",
       "    root._bokeh_is_loading = undefined;\n",
       "  }\n",
       "\n",
       "  var JS_MIME_TYPE = 'application/javascript';\n",
       "  var HTML_MIME_TYPE = 'text/html';\n",
       "  var EXEC_MIME_TYPE = 'application/vnd.bokehjs_exec.v0+json';\n",
       "  var CLASS_NAME = 'output_bokeh rendered_html';\n",
       "\n",
       "  /**\n",
       "   * Render data to the DOM node\n",
       "   */\n",
       "  function render(props, node) {\n",
       "    var script = document.createElement(\"script\");\n",
       "    node.appendChild(script);\n",
       "  }\n",
       "\n",
       "  /**\n",
       "   * Handle when an output is cleared or removed\n",
       "   */\n",
       "  function handleClearOutput(event, handle) {\n",
       "    var cell = handle.cell;\n",
       "\n",
       "    var id = cell.output_area._bokeh_element_id;\n",
       "    var server_id = cell.output_area._bokeh_server_id;\n",
       "    // Clean up Bokeh references\n",
       "    if (id != null && id in Bokeh.index) {\n",
       "      Bokeh.index[id].model.document.clear();\n",
       "      delete Bokeh.index[id];\n",
       "    }\n",
       "\n",
       "    if (server_id !== undefined) {\n",
       "      // Clean up Bokeh references\n",
       "      var cmd = \"from bokeh.io.state import curstate; print(curstate().uuid_to_server['\" + server_id + \"'].get_sessions()[0].document.roots[0]._id)\";\n",
       "      cell.notebook.kernel.execute(cmd, {\n",
       "        iopub: {\n",
       "          output: function(msg) {\n",
       "            var id = msg.content.text.trim();\n",
       "            if (id in Bokeh.index) {\n",
       "              Bokeh.index[id].model.document.clear();\n",
       "              delete Bokeh.index[id];\n",
       "            }\n",
       "          }\n",
       "        }\n",
       "      });\n",
       "      // Destroy server and session\n",
       "      var cmd = \"import bokeh.io.notebook as ion; ion.destroy_server('\" + server_id + \"')\";\n",
       "      cell.notebook.kernel.execute(cmd);\n",
       "    }\n",
       "  }\n",
       "\n",
       "  /**\n",
       "   * Handle when a new output is added\n",
       "   */\n",
       "  function handleAddOutput(event, handle) {\n",
       "    var output_area = handle.output_area;\n",
       "    var output = handle.output;\n",
       "\n",
       "    // limit handleAddOutput to display_data with EXEC_MIME_TYPE content only\n",
       "    if ((output.output_type != \"display_data\") || (!output.data.hasOwnProperty(EXEC_MIME_TYPE))) {\n",
       "      return\n",
       "    }\n",
       "\n",
       "    var toinsert = output_area.element.find(\".\" + CLASS_NAME.split(' ')[0]);\n",
       "\n",
       "    if (output.metadata[EXEC_MIME_TYPE][\"id\"] !== undefined) {\n",
       "      toinsert[toinsert.length - 1].firstChild.textContent = output.data[JS_MIME_TYPE];\n",
       "      // store reference to embed id on output_area\n",
       "      output_area._bokeh_element_id = output.metadata[EXEC_MIME_TYPE][\"id\"];\n",
       "    }\n",
       "    if (output.metadata[EXEC_MIME_TYPE][\"server_id\"] !== undefined) {\n",
       "      var bk_div = document.createElement(\"div\");\n",
       "      bk_div.innerHTML = output.data[HTML_MIME_TYPE];\n",
       "      var script_attrs = bk_div.children[0].attributes;\n",
       "      for (var i = 0; i < script_attrs.length; i++) {\n",
       "        toinsert[toinsert.length - 1].firstChild.setAttribute(script_attrs[i].name, script_attrs[i].value);\n",
       "        toinsert[toinsert.length - 1].firstChild.textContent = bk_div.children[0].textContent\n",
       "      }\n",
       "      // store reference to server id on output_area\n",
       "      output_area._bokeh_server_id = output.metadata[EXEC_MIME_TYPE][\"server_id\"];\n",
       "    }\n",
       "  }\n",
       "\n",
       "  function register_renderer(events, OutputArea) {\n",
       "\n",
       "    function append_mime(data, metadata, element) {\n",
       "      // create a DOM node to render to\n",
       "      var toinsert = this.create_output_subarea(\n",
       "        metadata,\n",
       "        CLASS_NAME,\n",
       "        EXEC_MIME_TYPE\n",
       "      );\n",
       "      this.keyboard_manager.register_events(toinsert);\n",
       "      // Render to node\n",
       "      var props = {data: data, metadata: metadata[EXEC_MIME_TYPE]};\n",
       "      render(props, toinsert[toinsert.length - 1]);\n",
       "      element.append(toinsert);\n",
       "      return toinsert\n",
       "    }\n",
       "\n",
       "    /* Handle when an output is cleared or removed */\n",
       "    events.on('clear_output.CodeCell', handleClearOutput);\n",
       "    events.on('delete.Cell', handleClearOutput);\n",
       "\n",
       "    /* Handle when a new output is added */\n",
       "    events.on('output_added.OutputArea', handleAddOutput);\n",
       "\n",
       "    /**\n",
       "     * Register the mime type and append_mime function with output_area\n",
       "     */\n",
       "    OutputArea.prototype.register_mime_type(EXEC_MIME_TYPE, append_mime, {\n",
       "      /* Is output safe? */\n",
       "      safe: true,\n",
       "      /* Index of renderer in `output_area.display_order` */\n",
       "      index: 0\n",
       "    });\n",
       "  }\n",
       "\n",
       "  // register the mime type if in Jupyter Notebook environment and previously unregistered\n",
       "  if (root.Jupyter !== undefined) {\n",
       "    var events = require('base/js/events');\n",
       "    var OutputArea = require('notebook/js/outputarea').OutputArea;\n",
       "\n",
       "    if (OutputArea.prototype.mime_types().indexOf(EXEC_MIME_TYPE) == -1) {\n",
       "      register_renderer(events, OutputArea);\n",
       "    }\n",
       "  }\n",
       "\n",
       "  \n",
       "  if (typeof (root._bokeh_timeout) === \"undefined\" || force === true) {\n",
       "    root._bokeh_timeout = Date.now() + 5000;\n",
       "    root._bokeh_failed_load = false;\n",
       "  }\n",
       "\n",
       "  var NB_LOAD_WARNING = {'data': {'text/html':\n",
       "     \"<div style='background-color: #fdd'>\\n\"+\n",
       "     \"<p>\\n\"+\n",
       "     \"BokehJS does not appear to have successfully loaded. If loading BokehJS from CDN, this \\n\"+\n",
       "     \"may be due to a slow or bad network connection. Possible fixes:\\n\"+\n",
       "     \"</p>\\n\"+\n",
       "     \"<ul>\\n\"+\n",
       "     \"<li>re-rerun `output_notebook()` to attempt to load from CDN again, or</li>\\n\"+\n",
       "     \"<li>use INLINE resources instead, as so:</li>\\n\"+\n",
       "     \"</ul>\\n\"+\n",
       "     \"<code>\\n\"+\n",
       "     \"from bokeh.resources import INLINE\\n\"+\n",
       "     \"output_notebook(resources=INLINE)\\n\"+\n",
       "     \"</code>\\n\"+\n",
       "     \"</div>\"}};\n",
       "\n",
       "  function display_loaded() {\n",
       "    var el = document.getElementById(\"1001\");\n",
       "    if (el != null) {\n",
       "      el.textContent = \"BokehJS is loading...\";\n",
       "    }\n",
       "    if (root.Bokeh !== undefined) {\n",
       "      if (el != null) {\n",
       "        el.textContent = \"BokehJS \" + root.Bokeh.version + \" successfully loaded.\";\n",
       "      }\n",
       "    } else if (Date.now() < root._bokeh_timeout) {\n",
       "      setTimeout(display_loaded, 100)\n",
       "    }\n",
       "  }\n",
       "\n",
       "\n",
       "  function run_callbacks() {\n",
       "    try {\n",
       "      root._bokeh_onload_callbacks.forEach(function(callback) {\n",
       "        if (callback != null)\n",
       "          callback();\n",
       "      });\n",
       "    } finally {\n",
       "      delete root._bokeh_onload_callbacks\n",
       "    }\n",
       "    console.debug(\"Bokeh: all callbacks have finished\");\n",
       "  }\n",
       "\n",
       "  function load_libs(css_urls, js_urls, callback) {\n",
       "    if (css_urls == null) css_urls = [];\n",
       "    if (js_urls == null) js_urls = [];\n",
       "\n",
       "    root._bokeh_onload_callbacks.push(callback);\n",
       "    if (root._bokeh_is_loading > 0) {\n",
       "      console.debug(\"Bokeh: BokehJS is being loaded, scheduling callback at\", now());\n",
       "      return null;\n",
       "    }\n",
       "    if (js_urls == null || js_urls.length === 0) {\n",
       "      run_callbacks();\n",
       "      return null;\n",
       "    }\n",
       "    console.debug(\"Bokeh: BokehJS not loaded, scheduling load and callback at\", now());\n",
       "    root._bokeh_is_loading = css_urls.length + js_urls.length;\n",
       "\n",
       "    function on_load() {\n",
       "      root._bokeh_is_loading--;\n",
       "      if (root._bokeh_is_loading === 0) {\n",
       "        console.debug(\"Bokeh: all BokehJS libraries/stylesheets loaded\");\n",
       "        run_callbacks()\n",
       "      }\n",
       "    }\n",
       "\n",
       "    function on_error() {\n",
       "      console.error(\"failed to load \" + url);\n",
       "    }\n",
       "\n",
       "    for (var i = 0; i < css_urls.length; i++) {\n",
       "      var url = css_urls[i];\n",
       "      const element = document.createElement(\"link\");\n",
       "      element.onload = on_load;\n",
       "      element.onerror = on_error;\n",
       "      element.rel = \"stylesheet\";\n",
       "      element.type = \"text/css\";\n",
       "      element.href = url;\n",
       "      console.debug(\"Bokeh: injecting link tag for BokehJS stylesheet: \", url);\n",
       "      document.body.appendChild(element);\n",
       "    }\n",
       "\n",
       "    const hashes = {\"https://cdn.bokeh.org/bokeh/release/bokeh-2.1.1.min.js\": \"kLr4fYcqcSpbuI95brIH3vnnYCquzzSxHPU6XGQCIkQRGJwhg0StNbj1eegrHs12\", \"https://cdn.bokeh.org/bokeh/release/bokeh-widgets-2.1.1.min.js\": \"xIGPmVtaOm+z0BqfSOMn4lOR6ciex448GIKG4eE61LsAvmGj48XcMQZtKcE/UXZe\", \"https://cdn.bokeh.org/bokeh/release/bokeh-tables-2.1.1.min.js\": \"Dc9u1wF/0zApGIWoBbH77iWEHtdmkuYWG839Uzmv8y8yBLXebjO9ZnERsde5Ln/P\", \"https://cdn.bokeh.org/bokeh/release/bokeh-gl-2.1.1.min.js\": \"cT9JaBz7GiRXdENrJLZNSC6eMNF3nh3fa5fTF51Svp+ukxPdwcU5kGXGPBgDCa2j\"};\n",
       "\n",
       "    for (var i = 0; i < js_urls.length; i++) {\n",
       "      var url = js_urls[i];\n",
       "      var element = document.createElement('script');\n",
       "      element.onload = on_load;\n",
       "      element.onerror = on_error;\n",
       "      element.async = false;\n",
       "      element.src = url;\n",
       "      if (url in hashes) {\n",
       "        element.crossOrigin = \"anonymous\";\n",
       "        element.integrity = \"sha384-\" + hashes[url];\n",
       "      }\n",
       "      console.debug(\"Bokeh: injecting script tag for BokehJS library: \", url);\n",
       "      document.head.appendChild(element);\n",
       "    }\n",
       "  };\n",
       "\n",
       "  function inject_raw_css(css) {\n",
       "    const element = document.createElement(\"style\");\n",
       "    element.appendChild(document.createTextNode(css));\n",
       "    document.body.appendChild(element);\n",
       "  }\n",
       "\n",
       "  \n",
       "  var js_urls = [\"https://cdn.bokeh.org/bokeh/release/bokeh-2.1.1.min.js\", \"https://cdn.bokeh.org/bokeh/release/bokeh-widgets-2.1.1.min.js\", \"https://cdn.bokeh.org/bokeh/release/bokeh-tables-2.1.1.min.js\", \"https://cdn.bokeh.org/bokeh/release/bokeh-gl-2.1.1.min.js\"];\n",
       "  var css_urls = [];\n",
       "  \n",
       "\n",
       "  var inline_js = [\n",
       "    function(Bokeh) {\n",
       "      Bokeh.set_log_level(\"info\");\n",
       "    },\n",
       "    function(Bokeh) {\n",
       "    \n",
       "    \n",
       "    }\n",
       "  ];\n",
       "\n",
       "  function run_inline_js() {\n",
       "    \n",
       "    if (root.Bokeh !== undefined || force === true) {\n",
       "      \n",
       "    for (var i = 0; i < inline_js.length; i++) {\n",
       "      inline_js[i].call(root, root.Bokeh);\n",
       "    }\n",
       "    if (force === true) {\n",
       "        display_loaded();\n",
       "      }} else if (Date.now() < root._bokeh_timeout) {\n",
       "      setTimeout(run_inline_js, 100);\n",
       "    } else if (!root._bokeh_failed_load) {\n",
       "      console.log(\"Bokeh: BokehJS failed to load within specified timeout.\");\n",
       "      root._bokeh_failed_load = true;\n",
       "    } else if (force !== true) {\n",
       "      var cell = $(document.getElementById(\"1001\")).parents('.cell').data().cell;\n",
       "      cell.output_area.append_execute_result(NB_LOAD_WARNING)\n",
       "    }\n",
       "\n",
       "  }\n",
       "\n",
       "  if (root._bokeh_is_loading === 0) {\n",
       "    console.debug(\"Bokeh: BokehJS loaded, going straight to plotting\");\n",
       "    run_inline_js();\n",
       "  } else {\n",
       "    load_libs(css_urls, js_urls, function() {\n",
       "      console.debug(\"Bokeh: BokehJS plotting callback run at\", now());\n",
       "      run_inline_js();\n",
       "    });\n",
       "  }\n",
       "}(window));"
      ],
      "application/vnd.bokehjs_load.v0+json": "\n(function(root) {\n  function now() {\n    return new Date();\n  }\n\n  var force = true;\n\n  if (typeof root._bokeh_onload_callbacks === \"undefined\" || force === true) {\n    root._bokeh_onload_callbacks = [];\n    root._bokeh_is_loading = undefined;\n  }\n\n  \n\n  \n  if (typeof (root._bokeh_timeout) === \"undefined\" || force === true) {\n    root._bokeh_timeout = Date.now() + 5000;\n    root._bokeh_failed_load = false;\n  }\n\n  var NB_LOAD_WARNING = {'data': {'text/html':\n     \"<div style='background-color: #fdd'>\\n\"+\n     \"<p>\\n\"+\n     \"BokehJS does not appear to have successfully loaded. If loading BokehJS from CDN, this \\n\"+\n     \"may be due to a slow or bad network connection. Possible fixes:\\n\"+\n     \"</p>\\n\"+\n     \"<ul>\\n\"+\n     \"<li>re-rerun `output_notebook()` to attempt to load from CDN again, or</li>\\n\"+\n     \"<li>use INLINE resources instead, as so:</li>\\n\"+\n     \"</ul>\\n\"+\n     \"<code>\\n\"+\n     \"from bokeh.resources import INLINE\\n\"+\n     \"output_notebook(resources=INLINE)\\n\"+\n     \"</code>\\n\"+\n     \"</div>\"}};\n\n  function display_loaded() {\n    var el = document.getElementById(\"1001\");\n    if (el != null) {\n      el.textContent = \"BokehJS is loading...\";\n    }\n    if (root.Bokeh !== undefined) {\n      if (el != null) {\n        el.textContent = \"BokehJS \" + root.Bokeh.version + \" successfully loaded.\";\n      }\n    } else if (Date.now() < root._bokeh_timeout) {\n      setTimeout(display_loaded, 100)\n    }\n  }\n\n\n  function run_callbacks() {\n    try {\n      root._bokeh_onload_callbacks.forEach(function(callback) {\n        if (callback != null)\n          callback();\n      });\n    } finally {\n      delete root._bokeh_onload_callbacks\n    }\n    console.debug(\"Bokeh: all callbacks have finished\");\n  }\n\n  function load_libs(css_urls, js_urls, callback) {\n    if (css_urls == null) css_urls = [];\n    if (js_urls == null) js_urls = [];\n\n    root._bokeh_onload_callbacks.push(callback);\n    if (root._bokeh_is_loading > 0) {\n      console.debug(\"Bokeh: BokehJS is being loaded, scheduling callback at\", now());\n      return null;\n    }\n    if (js_urls == null || js_urls.length === 0) {\n      run_callbacks();\n      return null;\n    }\n    console.debug(\"Bokeh: BokehJS not loaded, scheduling load and callback at\", now());\n    root._bokeh_is_loading = css_urls.length + js_urls.length;\n\n    function on_load() {\n      root._bokeh_is_loading--;\n      if (root._bokeh_is_loading === 0) {\n        console.debug(\"Bokeh: all BokehJS libraries/stylesheets loaded\");\n        run_callbacks()\n      }\n    }\n\n    function on_error() {\n      console.error(\"failed to load \" + url);\n    }\n\n    for (var i = 0; i < css_urls.length; i++) {\n      var url = css_urls[i];\n      const element = document.createElement(\"link\");\n      element.onload = on_load;\n      element.onerror = on_error;\n      element.rel = \"stylesheet\";\n      element.type = \"text/css\";\n      element.href = url;\n      console.debug(\"Bokeh: injecting link tag for BokehJS stylesheet: \", url);\n      document.body.appendChild(element);\n    }\n\n    const hashes = {\"https://cdn.bokeh.org/bokeh/release/bokeh-2.1.1.min.js\": \"kLr4fYcqcSpbuI95brIH3vnnYCquzzSxHPU6XGQCIkQRGJwhg0StNbj1eegrHs12\", \"https://cdn.bokeh.org/bokeh/release/bokeh-widgets-2.1.1.min.js\": \"xIGPmVtaOm+z0BqfSOMn4lOR6ciex448GIKG4eE61LsAvmGj48XcMQZtKcE/UXZe\", \"https://cdn.bokeh.org/bokeh/release/bokeh-tables-2.1.1.min.js\": \"Dc9u1wF/0zApGIWoBbH77iWEHtdmkuYWG839Uzmv8y8yBLXebjO9ZnERsde5Ln/P\", \"https://cdn.bokeh.org/bokeh/release/bokeh-gl-2.1.1.min.js\": \"cT9JaBz7GiRXdENrJLZNSC6eMNF3nh3fa5fTF51Svp+ukxPdwcU5kGXGPBgDCa2j\"};\n\n    for (var i = 0; i < js_urls.length; i++) {\n      var url = js_urls[i];\n      var element = document.createElement('script');\n      element.onload = on_load;\n      element.onerror = on_error;\n      element.async = false;\n      element.src = url;\n      if (url in hashes) {\n        element.crossOrigin = \"anonymous\";\n        element.integrity = \"sha384-\" + hashes[url];\n      }\n      console.debug(\"Bokeh: injecting script tag for BokehJS library: \", url);\n      document.head.appendChild(element);\n    }\n  };\n\n  function inject_raw_css(css) {\n    const element = document.createElement(\"style\");\n    element.appendChild(document.createTextNode(css));\n    document.body.appendChild(element);\n  }\n\n  \n  var js_urls = [\"https://cdn.bokeh.org/bokeh/release/bokeh-2.1.1.min.js\", \"https://cdn.bokeh.org/bokeh/release/bokeh-widgets-2.1.1.min.js\", \"https://cdn.bokeh.org/bokeh/release/bokeh-tables-2.1.1.min.js\", \"https://cdn.bokeh.org/bokeh/release/bokeh-gl-2.1.1.min.js\"];\n  var css_urls = [];\n  \n\n  var inline_js = [\n    function(Bokeh) {\n      Bokeh.set_log_level(\"info\");\n    },\n    function(Bokeh) {\n    \n    \n    }\n  ];\n\n  function run_inline_js() {\n    \n    if (root.Bokeh !== undefined || force === true) {\n      \n    for (var i = 0; i < inline_js.length; i++) {\n      inline_js[i].call(root, root.Bokeh);\n    }\n    if (force === true) {\n        display_loaded();\n      }} else if (Date.now() < root._bokeh_timeout) {\n      setTimeout(run_inline_js, 100);\n    } else if (!root._bokeh_failed_load) {\n      console.log(\"Bokeh: BokehJS failed to load within specified timeout.\");\n      root._bokeh_failed_load = true;\n    } else if (force !== true) {\n      var cell = $(document.getElementById(\"1001\")).parents('.cell').data().cell;\n      cell.output_area.append_execute_result(NB_LOAD_WARNING)\n    }\n\n  }\n\n  if (root._bokeh_is_loading === 0) {\n    console.debug(\"Bokeh: BokehJS loaded, going straight to plotting\");\n    run_inline_js();\n  } else {\n    load_libs(css_urls, js_urls, function() {\n      console.debug(\"Bokeh: BokehJS plotting callback run at\", now());\n      run_inline_js();\n    });\n  }\n}(window));"
     },
     "metadata": {},
     "output_type": "display_data"
    }
   ],
   "source": [
    "# using bokeh to plot a line that shows me the acurracy based on the number of trees\n",
    "from bokeh.plotting import figure, output_notebook, show\n",
    "output_notebook()"
   ]
  },
  {
   "cell_type": "code",
   "execution_count": 149,
   "metadata": {},
   "outputs": [
    {
     "data": {
      "text/html": [
       "\n",
       "\n",
       "\n",
       "\n",
       "\n",
       "\n",
       "  <div class=\"bk-root\" id=\"3c0daf5e-a797-4821-b17e-cb8b78800527\" data-root-id=\"1002\"></div>\n"
      ]
     },
     "metadata": {},
     "output_type": "display_data"
    },
    {
     "data": {
      "application/javascript": [
       "(function(root) {\n",
       "  function embed_document(root) {\n",
       "    \n",
       "  var docs_json = {\"a92bb72c-8d20-41a9-9a96-fcd243ea536e\":{\"roots\":{\"references\":[{\"attributes\":{\"below\":[{\"id\":\"1011\"}],\"center\":[{\"id\":\"1014\"},{\"id\":\"1018\"}],\"left\":[{\"id\":\"1015\"}],\"plot_height\":500,\"plot_width\":500,\"renderers\":[{\"id\":\"1036\"}],\"title\":{\"id\":\"1039\"},\"toolbar\":{\"id\":\"1026\"},\"x_range\":{\"id\":\"1003\"},\"x_scale\":{\"id\":\"1007\"},\"y_range\":{\"id\":\"1005\"},\"y_scale\":{\"id\":\"1009\"}},\"id\":\"1002\",\"subtype\":\"Figure\",\"type\":\"Plot\"},{\"attributes\":{\"axis\":{\"id\":\"1015\"},\"dimension\":1,\"ticker\":null},\"id\":\"1018\",\"type\":\"Grid\"},{\"attributes\":{},\"id\":\"1003\",\"type\":\"DataRange1d\"},{\"attributes\":{},\"id\":\"1007\",\"type\":\"LinearScale\"},{\"attributes\":{},\"id\":\"1016\",\"type\":\"BasicTicker\"},{\"attributes\":{\"overlay\":{\"id\":\"1025\"}},\"id\":\"1021\",\"type\":\"BoxZoomTool\"},{\"attributes\":{},\"id\":\"1045\",\"type\":\"Selection\"},{\"attributes\":{},\"id\":\"1024\",\"type\":\"HelpTool\"},{\"attributes\":{\"active_drag\":\"auto\",\"active_inspect\":\"auto\",\"active_multi\":null,\"active_scroll\":\"auto\",\"active_tap\":\"auto\",\"tools\":[{\"id\":\"1019\"},{\"id\":\"1020\"},{\"id\":\"1021\"},{\"id\":\"1022\"},{\"id\":\"1023\"},{\"id\":\"1024\"}]},\"id\":\"1026\",\"type\":\"Toolbar\"},{\"attributes\":{\"formatter\":{\"id\":\"1043\"},\"ticker\":{\"id\":\"1012\"}},\"id\":\"1011\",\"type\":\"LinearAxis\"},{\"attributes\":{},\"id\":\"1019\",\"type\":\"PanTool\"},{\"attributes\":{},\"id\":\"1046\",\"type\":\"UnionRenderers\"},{\"attributes\":{},\"id\":\"1020\",\"type\":\"WheelZoomTool\"},{\"attributes\":{},\"id\":\"1022\",\"type\":\"SaveTool\"},{\"attributes\":{\"formatter\":{\"id\":\"1041\"},\"ticker\":{\"id\":\"1016\"}},\"id\":\"1015\",\"type\":\"LinearAxis\"},{\"attributes\":{},\"id\":\"1023\",\"type\":\"ResetTool\"},{\"attributes\":{\"text\":\"\"},\"id\":\"1039\",\"type\":\"Title\"},{\"attributes\":{\"line_color\":\"#1f77b4\",\"x\":{\"field\":\"x\"},\"y\":{\"field\":\"y\"}},\"id\":\"1034\",\"type\":\"Line\"},{\"attributes\":{},\"id\":\"1005\",\"type\":\"DataRange1d\"},{\"attributes\":{\"line_alpha\":0.1,\"line_color\":\"#1f77b4\",\"x\":{\"field\":\"x\"},\"y\":{\"field\":\"y\"}},\"id\":\"1035\",\"type\":\"Line\"},{\"attributes\":{},\"id\":\"1041\",\"type\":\"BasicTickFormatter\"},{\"attributes\":{\"axis\":{\"id\":\"1011\"},\"ticker\":null},\"id\":\"1014\",\"type\":\"Grid\"},{\"attributes\":{\"data\":{\"x\":[30,40,50,60,70,80,90,100,110,120,130,140,150,160,170],\"y\":[67.70813397129186,67.81180223285487,67.73684210526316,67.97129186602872,68.0622009569378,67.92982456140352,68.06539074960128,67.93141945773525,68.03508771929825,68.06858054226474,68.11004784688996,68.10526315789474,68.14194577352471,68.14832535885168,68.06060606060605]},\"selected\":{\"id\":\"1045\"},\"selection_policy\":{\"id\":\"1046\"}},\"id\":\"1033\",\"type\":\"ColumnDataSource\"},{\"attributes\":{},\"id\":\"1043\",\"type\":\"BasicTickFormatter\"},{\"attributes\":{\"source\":{\"id\":\"1033\"}},\"id\":\"1037\",\"type\":\"CDSView\"},{\"attributes\":{},\"id\":\"1012\",\"type\":\"BasicTicker\"},{\"attributes\":{\"bottom_units\":\"screen\",\"fill_alpha\":0.5,\"fill_color\":\"lightgrey\",\"left_units\":\"screen\",\"level\":\"overlay\",\"line_alpha\":1.0,\"line_color\":\"black\",\"line_dash\":[4,4],\"line_width\":2,\"right_units\":\"screen\",\"top_units\":\"screen\"},\"id\":\"1025\",\"type\":\"BoxAnnotation\"},{\"attributes\":{\"data_source\":{\"id\":\"1033\"},\"glyph\":{\"id\":\"1034\"},\"hover_glyph\":null,\"muted_glyph\":null,\"nonselection_glyph\":{\"id\":\"1035\"},\"selection_glyph\":null,\"view\":{\"id\":\"1037\"}},\"id\":\"1036\",\"type\":\"GlyphRenderer\"},{\"attributes\":{},\"id\":\"1009\",\"type\":\"LinearScale\"}],\"root_ids\":[\"1002\"]},\"title\":\"Bokeh Application\",\"version\":\"2.1.1\"}};\n",
       "  var render_items = [{\"docid\":\"a92bb72c-8d20-41a9-9a96-fcd243ea536e\",\"root_ids\":[\"1002\"],\"roots\":{\"1002\":\"3c0daf5e-a797-4821-b17e-cb8b78800527\"}}];\n",
       "  root.Bokeh.embed.embed_items_notebook(docs_json, render_items);\n",
       "\n",
       "  }\n",
       "  if (root.Bokeh !== undefined) {\n",
       "    embed_document(root);\n",
       "  } else {\n",
       "    var attempts = 0;\n",
       "    var timer = setInterval(function(root) {\n",
       "      if (root.Bokeh !== undefined) {\n",
       "        clearInterval(timer);\n",
       "        embed_document(root);\n",
       "      } else {\n",
       "        attempts++;\n",
       "        if (attempts > 100) {\n",
       "          clearInterval(timer);\n",
       "          console.log(\"Bokeh: ERROR: Unable to run BokehJS code because BokehJS library is missing\");\n",
       "        }\n",
       "      }\n",
       "    }, 10, root)\n",
       "  }\n",
       "})(window);"
      ],
      "application/vnd.bokehjs_exec.v0+json": ""
     },
     "metadata": {
      "application/vnd.bokehjs_exec.v0+json": {
       "id": "1002"
      }
     },
     "output_type": "display_data"
    }
   ],
   "source": [
    "p = figure(plot_width = 500, plot_height = 500)\n",
    "p.line(range(30,171,10), score)\n",
    "show(p)"
   ]
  },
  {
   "cell_type": "markdown",
   "metadata": {},
   "source": [
    "The number of trees that I am going to use are 130. The reason is because the difference between 130 trees and 160 trees is too small. "
   ]
  },
  {
   "cell_type": "code",
   "execution_count": 150,
   "metadata": {},
   "outputs": [],
   "source": [
    "# figuring out what to set the max depth of the random forest\n",
    "max_depth = 12\n",
    "acc_score = []\n",
    "sensitivity = []\n",
    "\n",
    "forest.set_params(n_estimators = 130)\n",
    "for i in range(2, max_depth):\n",
    "    prediction = forest.fit(x_train, y_train).predict(x_test)\n",
    "    acc_score.append(accuracy_score(y_test, prediction) * 100)\n",
    "    cm = confusion_matrix(y_test, prediction)\n",
    "    tp = cm[1][1]\n",
    "    fn = cm[1][0]\n",
    "    sensitivity.append((tp/(tp+fn)) * 100)"
   ]
  },
  {
   "cell_type": "code",
   "execution_count": 151,
   "metadata": {},
   "outputs": [
    {
     "data": {
      "text/html": [
       "\n",
       "\n",
       "\n",
       "\n",
       "\n",
       "\n",
       "  <div class=\"bk-root\" id=\"dc2c3c26-ecc5-4b69-ae74-7aaf8f4040ba\" data-root-id=\"1101\"></div>\n"
      ]
     },
     "metadata": {},
     "output_type": "display_data"
    },
    {
     "data": {
      "application/javascript": [
       "(function(root) {\n",
       "  function embed_document(root) {\n",
       "    \n",
       "  var docs_json = {\"95dda312-ee8e-40e7-891c-37d143115d5d\":{\"roots\":{\"references\":[{\"attributes\":{\"below\":[{\"id\":\"1110\"}],\"center\":[{\"id\":\"1113\"},{\"id\":\"1117\"}],\"left\":[{\"id\":\"1114\"}],\"plot_height\":500,\"plot_width\":500,\"renderers\":[{\"id\":\"1135\"}],\"title\":{\"id\":\"1147\"},\"toolbar\":{\"id\":\"1125\"},\"x_range\":{\"id\":\"1102\"},\"x_scale\":{\"id\":\"1106\"},\"y_range\":{\"id\":\"1104\"},\"y_scale\":{\"id\":\"1108\"}},\"id\":\"1101\",\"subtype\":\"Figure\",\"type\":\"Plot\"},{\"attributes\":{\"overlay\":{\"id\":\"1124\"}},\"id\":\"1120\",\"type\":\"BoxZoomTool\"},{\"attributes\":{\"formatter\":{\"id\":\"1149\"},\"ticker\":{\"id\":\"1115\"}},\"id\":\"1114\",\"type\":\"LinearAxis\"},{\"attributes\":{\"text\":\"\"},\"id\":\"1147\",\"type\":\"Title\"},{\"attributes\":{},\"id\":\"1108\",\"type\":\"LinearScale\"},{\"attributes\":{},\"id\":\"1104\",\"type\":\"DataRange1d\"},{\"attributes\":{\"data_source\":{\"id\":\"1132\"},\"glyph\":{\"id\":\"1133\"},\"hover_glyph\":null,\"muted_glyph\":null,\"nonselection_glyph\":{\"id\":\"1134\"},\"selection_glyph\":null,\"view\":{\"id\":\"1136\"}},\"id\":\"1135\",\"type\":\"GlyphRenderer\"},{\"attributes\":{},\"id\":\"1106\",\"type\":\"LinearScale\"},{\"attributes\":{\"formatter\":{\"id\":\"1151\"},\"ticker\":{\"id\":\"1111\"}},\"id\":\"1110\",\"type\":\"LinearAxis\"},{\"attributes\":{\"source\":{\"id\":\"1132\"}},\"id\":\"1136\",\"type\":\"CDSView\"},{\"attributes\":{},\"id\":\"1115\",\"type\":\"BasicTicker\"},{\"attributes\":{\"bottom_units\":\"screen\",\"fill_alpha\":0.5,\"fill_color\":\"lightgrey\",\"left_units\":\"screen\",\"level\":\"overlay\",\"line_alpha\":1.0,\"line_color\":\"black\",\"line_dash\":[4,4],\"line_width\":2,\"right_units\":\"screen\",\"top_units\":\"screen\"},\"id\":\"1124\",\"type\":\"BoxAnnotation\"},{\"attributes\":{\"axis\":{\"id\":\"1110\"},\"ticker\":null},\"id\":\"1113\",\"type\":\"Grid\"},{\"attributes\":{},\"id\":\"1118\",\"type\":\"PanTool\"},{\"attributes\":{},\"id\":\"1102\",\"type\":\"DataRange1d\"},{\"attributes\":{},\"id\":\"1153\",\"type\":\"Selection\"},{\"attributes\":{},\"id\":\"1149\",\"type\":\"BasicTickFormatter\"},{\"attributes\":{},\"id\":\"1121\",\"type\":\"SaveTool\"},{\"attributes\":{\"line_alpha\":0.1,\"line_color\":\"#1f77b4\",\"x\":{\"field\":\"x\"},\"y\":{\"field\":\"y\"}},\"id\":\"1134\",\"type\":\"Line\"},{\"attributes\":{},\"id\":\"1119\",\"type\":\"WheelZoomTool\"},{\"attributes\":{\"axis\":{\"id\":\"1114\"},\"dimension\":1,\"ticker\":null},\"id\":\"1117\",\"type\":\"Grid\"},{\"attributes\":{\"line_color\":\"#1f77b4\",\"x\":{\"field\":\"x\"},\"y\":{\"field\":\"y\"}},\"id\":\"1133\",\"type\":\"Line\"},{\"attributes\":{},\"id\":\"1154\",\"type\":\"UnionRenderers\"},{\"attributes\":{\"data\":{\"x\":[2,3,4,5,6,7,8,9,10,11],\"y\":[68.08612440191388,68.1658692185008,68.00637958532695,68.2775119617225,67.87878787878789,68.13397129186602,68.14992025518342,68.03827751196172,67.97448165869218,68.34130781499202]},\"selected\":{\"id\":\"1153\"},\"selection_policy\":{\"id\":\"1154\"}},\"id\":\"1132\",\"type\":\"ColumnDataSource\"},{\"attributes\":{},\"id\":\"1111\",\"type\":\"BasicTicker\"},{\"attributes\":{\"active_drag\":\"auto\",\"active_inspect\":\"auto\",\"active_multi\":null,\"active_scroll\":\"auto\",\"active_tap\":\"auto\",\"tools\":[{\"id\":\"1118\"},{\"id\":\"1119\"},{\"id\":\"1120\"},{\"id\":\"1121\"},{\"id\":\"1122\"},{\"id\":\"1123\"}]},\"id\":\"1125\",\"type\":\"Toolbar\"},{\"attributes\":{},\"id\":\"1123\",\"type\":\"HelpTool\"},{\"attributes\":{},\"id\":\"1151\",\"type\":\"BasicTickFormatter\"},{\"attributes\":{},\"id\":\"1122\",\"type\":\"ResetTool\"}],\"root_ids\":[\"1101\"]},\"title\":\"Bokeh Application\",\"version\":\"2.1.1\"}};\n",
       "  var render_items = [{\"docid\":\"95dda312-ee8e-40e7-891c-37d143115d5d\",\"root_ids\":[\"1101\"],\"roots\":{\"1101\":\"dc2c3c26-ecc5-4b69-ae74-7aaf8f4040ba\"}}];\n",
       "  root.Bokeh.embed.embed_items_notebook(docs_json, render_items);\n",
       "\n",
       "  }\n",
       "  if (root.Bokeh !== undefined) {\n",
       "    embed_document(root);\n",
       "  } else {\n",
       "    var attempts = 0;\n",
       "    var timer = setInterval(function(root) {\n",
       "      if (root.Bokeh !== undefined) {\n",
       "        clearInterval(timer);\n",
       "        embed_document(root);\n",
       "      } else {\n",
       "        attempts++;\n",
       "        if (attempts > 100) {\n",
       "          clearInterval(timer);\n",
       "          console.log(\"Bokeh: ERROR: Unable to run BokehJS code because BokehJS library is missing\");\n",
       "        }\n",
       "      }\n",
       "    }, 10, root)\n",
       "  }\n",
       "})(window);"
      ],
      "application/vnd.bokehjs_exec.v0+json": ""
     },
     "metadata": {
      "application/vnd.bokehjs_exec.v0+json": {
       "id": "1101"
      }
     },
     "output_type": "display_data"
    }
   ],
   "source": [
    "# viewing the accuracy score \n",
    "p = figure(plot_width = 500, plot_height = 500)\n",
    "p.line(range(2, max_depth), acc_score)\n",
    "show(p)"
   ]
  },
  {
   "cell_type": "markdown",
   "metadata": {},
   "source": [
    "Best accuracy is seen with max_depth of 4 for random forest"
   ]
  },
  {
   "cell_type": "code",
   "execution_count": 152,
   "metadata": {},
   "outputs": [
    {
     "data": {
      "text/html": [
       "\n",
       "\n",
       "\n",
       "\n",
       "\n",
       "\n",
       "  <div class=\"bk-root\" id=\"19efa2bd-c24a-4a5f-bcb1-e7411f339d5d\" data-root-id=\"1209\"></div>\n"
      ]
     },
     "metadata": {},
     "output_type": "display_data"
    },
    {
     "data": {
      "application/javascript": [
       "(function(root) {\n",
       "  function embed_document(root) {\n",
       "    \n",
       "  var docs_json = {\"d2eec87c-6242-4995-9899-cc6105c795a2\":{\"roots\":{\"references\":[{\"attributes\":{\"below\":[{\"id\":\"1218\"}],\"center\":[{\"id\":\"1221\"},{\"id\":\"1225\"}],\"left\":[{\"id\":\"1222\"}],\"plot_height\":500,\"plot_width\":500,\"renderers\":[{\"id\":\"1243\"}],\"title\":{\"id\":\"1264\"},\"toolbar\":{\"id\":\"1233\"},\"x_range\":{\"id\":\"1210\"},\"x_scale\":{\"id\":\"1214\"},\"y_range\":{\"id\":\"1212\"},\"y_scale\":{\"id\":\"1216\"}},\"id\":\"1209\",\"subtype\":\"Figure\",\"type\":\"Plot\"},{\"attributes\":{\"text\":\"\"},\"id\":\"1264\",\"type\":\"Title\"},{\"attributes\":{},\"id\":\"1210\",\"type\":\"DataRange1d\"},{\"attributes\":{\"bottom_units\":\"screen\",\"fill_alpha\":0.5,\"fill_color\":\"lightgrey\",\"left_units\":\"screen\",\"level\":\"overlay\",\"line_alpha\":1.0,\"line_color\":\"black\",\"line_dash\":[4,4],\"line_width\":2,\"right_units\":\"screen\",\"top_units\":\"screen\"},\"id\":\"1232\",\"type\":\"BoxAnnotation\"},{\"attributes\":{},\"id\":\"1231\",\"type\":\"HelpTool\"},{\"attributes\":{\"overlay\":{\"id\":\"1232\"}},\"id\":\"1228\",\"type\":\"BoxZoomTool\"},{\"attributes\":{},\"id\":\"1227\",\"type\":\"WheelZoomTool\"},{\"attributes\":{},\"id\":\"1266\",\"type\":\"BasicTickFormatter\"},{\"attributes\":{},\"id\":\"1270\",\"type\":\"Selection\"},{\"attributes\":{\"active_drag\":\"auto\",\"active_inspect\":\"auto\",\"active_multi\":null,\"active_scroll\":\"auto\",\"active_tap\":\"auto\",\"tools\":[{\"id\":\"1226\"},{\"id\":\"1227\"},{\"id\":\"1228\"},{\"id\":\"1229\"},{\"id\":\"1230\"},{\"id\":\"1231\"}]},\"id\":\"1233\",\"type\":\"Toolbar\"},{\"attributes\":{\"source\":{\"id\":\"1240\"}},\"id\":\"1244\",\"type\":\"CDSView\"},{\"attributes\":{},\"id\":\"1229\",\"type\":\"SaveTool\"},{\"attributes\":{\"axis\":{\"id\":\"1222\"},\"dimension\":1,\"ticker\":null},\"id\":\"1225\",\"type\":\"Grid\"},{\"attributes\":{\"data\":{\"x\":[2,3,4,5,6,7,8,9,10,11],\"y\":[69.54830990128626,69.6380496559976,69.30900388872271,69.84744241699073,69.30900388872271,69.27909063715227,69.87735566856117,69.39874364343405,69.12952437930004,69.72778941070894]},\"selected\":{\"id\":\"1270\"},\"selection_policy\":{\"id\":\"1271\"}},\"id\":\"1240\",\"type\":\"ColumnDataSource\"},{\"attributes\":{},\"id\":\"1271\",\"type\":\"UnionRenderers\"},{\"attributes\":{},\"id\":\"1230\",\"type\":\"ResetTool\"},{\"attributes\":{},\"id\":\"1223\",\"type\":\"BasicTicker\"},{\"attributes\":{},\"id\":\"1268\",\"type\":\"BasicTickFormatter\"},{\"attributes\":{\"formatter\":{\"id\":\"1268\"},\"ticker\":{\"id\":\"1219\"}},\"id\":\"1218\",\"type\":\"LinearAxis\"},{\"attributes\":{\"data_source\":{\"id\":\"1240\"},\"glyph\":{\"id\":\"1241\"},\"hover_glyph\":null,\"muted_glyph\":null,\"nonselection_glyph\":{\"id\":\"1242\"},\"selection_glyph\":null,\"view\":{\"id\":\"1244\"}},\"id\":\"1243\",\"type\":\"GlyphRenderer\"},{\"attributes\":{},\"id\":\"1214\",\"type\":\"LinearScale\"},{\"attributes\":{},\"id\":\"1216\",\"type\":\"LinearScale\"},{\"attributes\":{\"line_alpha\":0.1,\"line_color\":\"#1f77b4\",\"x\":{\"field\":\"x\"},\"y\":{\"field\":\"y\"}},\"id\":\"1242\",\"type\":\"Line\"},{\"attributes\":{\"axis\":{\"id\":\"1218\"},\"ticker\":null},\"id\":\"1221\",\"type\":\"Grid\"},{\"attributes\":{},\"id\":\"1212\",\"type\":\"DataRange1d\"},{\"attributes\":{},\"id\":\"1226\",\"type\":\"PanTool\"},{\"attributes\":{},\"id\":\"1219\",\"type\":\"BasicTicker\"},{\"attributes\":{\"formatter\":{\"id\":\"1266\"},\"ticker\":{\"id\":\"1223\"}},\"id\":\"1222\",\"type\":\"LinearAxis\"},{\"attributes\":{\"line_color\":\"#1f77b4\",\"x\":{\"field\":\"x\"},\"y\":{\"field\":\"y\"}},\"id\":\"1241\",\"type\":\"Line\"}],\"root_ids\":[\"1209\"]},\"title\":\"Bokeh Application\",\"version\":\"2.1.1\"}};\n",
       "  var render_items = [{\"docid\":\"d2eec87c-6242-4995-9899-cc6105c795a2\",\"root_ids\":[\"1209\"],\"roots\":{\"1209\":\"19efa2bd-c24a-4a5f-bcb1-e7411f339d5d\"}}];\n",
       "  root.Bokeh.embed.embed_items_notebook(docs_json, render_items);\n",
       "\n",
       "  }\n",
       "  if (root.Bokeh !== undefined) {\n",
       "    embed_document(root);\n",
       "  } else {\n",
       "    var attempts = 0;\n",
       "    var timer = setInterval(function(root) {\n",
       "      if (root.Bokeh !== undefined) {\n",
       "        clearInterval(timer);\n",
       "        embed_document(root);\n",
       "      } else {\n",
       "        attempts++;\n",
       "        if (attempts > 100) {\n",
       "          clearInterval(timer);\n",
       "          console.log(\"Bokeh: ERROR: Unable to run BokehJS code because BokehJS library is missing\");\n",
       "        }\n",
       "      }\n",
       "    }, 10, root)\n",
       "  }\n",
       "})(window);"
      ],
      "application/vnd.bokehjs_exec.v0+json": ""
     },
     "metadata": {
      "application/vnd.bokehjs_exec.v0+json": {
       "id": "1209"
      }
     },
     "output_type": "display_data"
    }
   ],
   "source": [
    "# viewing the sensitivity score \n",
    "p = figure(plot_width = 500, plot_height = 500)\n",
    "p.line(range(2, max_depth), sensitivity)\n",
    "show(p)"
   ]
  },
  {
   "cell_type": "markdown",
   "metadata": {},
   "source": [
    "Best sensitivity is seen with max_depth of 5,7, and 8 for random forest. Will be using __max_depth of 5 for the random forest__"
   ]
  },
  {
   "cell_type": "markdown",
   "metadata": {},
   "source": [
    "<br />\n",
    "Testing to see what is the best max_depth to use for Decision tree based on the accuracy score and sensitivity score"
   ]
  },
  {
   "cell_type": "code",
   "execution_count": 157,
   "metadata": {},
   "outputs": [],
   "source": [
    "max_depth = 12\n",
    "accu_score = []\n",
    "sensitivity = []\n",
    "\n",
    "decision_tree = DecisionTreeClassifier()\n",
    "for i in range(2, max_depth):\n",
    "    decision_tree.set_params(max_depth = i)\n",
    "    decision_tree.fit(x_train, y_train)\n",
    "    prediction = decision_tree.predict(x_test)\n",
    "    accu_score.append(accuracy_score(y_test, prediction) * 100)\n",
    "    cm = confusion_matrix(y_test, prediction)\n",
    "    tp = cm[1][1]\n",
    "    fn = cm[1][0]\n",
    "    sensitivity.append((tp/(tp+fn)) * 100)"
   ]
  },
  {
   "cell_type": "code",
   "execution_count": 158,
   "metadata": {},
   "outputs": [
    {
     "data": {
      "text/html": [
       "\n",
       "\n",
       "\n",
       "\n",
       "\n",
       "\n",
       "  <div class=\"bk-root\" id=\"9af331db-3f5e-48be-ba6d-d0a2c30cd758\" data-root-id=\"1587\"></div>\n"
      ]
     },
     "metadata": {},
     "output_type": "display_data"
    },
    {
     "data": {
      "application/javascript": [
       "(function(root) {\n",
       "  function embed_document(root) {\n",
       "    \n",
       "  var docs_json = {\"6ef416f5-d324-44d8-9c47-b10f9e5a4aba\":{\"roots\":{\"references\":[{\"attributes\":{\"below\":[{\"id\":\"1596\"}],\"center\":[{\"id\":\"1599\"},{\"id\":\"1603\"}],\"left\":[{\"id\":\"1600\"}],\"plot_height\":500,\"plot_width\":500,\"renderers\":[{\"id\":\"1621\"}],\"title\":{\"id\":\"1669\"},\"toolbar\":{\"id\":\"1611\"},\"x_range\":{\"id\":\"1588\"},\"x_scale\":{\"id\":\"1592\"},\"y_range\":{\"id\":\"1590\"},\"y_scale\":{\"id\":\"1594\"}},\"id\":\"1587\",\"subtype\":\"Figure\",\"type\":\"Plot\"},{\"attributes\":{},\"id\":\"1676\",\"type\":\"UnionRenderers\"},{\"attributes\":{},\"id\":\"1592\",\"type\":\"LinearScale\"},{\"attributes\":{\"formatter\":{\"id\":\"1671\"},\"ticker\":{\"id\":\"1601\"}},\"id\":\"1600\",\"type\":\"LinearAxis\"},{\"attributes\":{\"axis\":{\"id\":\"1600\"},\"dimension\":1,\"ticker\":null},\"id\":\"1603\",\"type\":\"Grid\"},{\"attributes\":{},\"id\":\"1605\",\"type\":\"WheelZoomTool\"},{\"attributes\":{},\"id\":\"1608\",\"type\":\"ResetTool\"},{\"attributes\":{},\"id\":\"1671\",\"type\":\"BasicTickFormatter\"},{\"attributes\":{},\"id\":\"1607\",\"type\":\"SaveTool\"},{\"attributes\":{\"overlay\":{\"id\":\"1610\"}},\"id\":\"1606\",\"type\":\"BoxZoomTool\"},{\"attributes\":{\"active_drag\":\"auto\",\"active_inspect\":\"auto\",\"active_multi\":null,\"active_scroll\":\"auto\",\"active_tap\":\"auto\",\"tools\":[{\"id\":\"1604\"},{\"id\":\"1605\"},{\"id\":\"1606\"},{\"id\":\"1607\"},{\"id\":\"1608\"},{\"id\":\"1609\"}]},\"id\":\"1611\",\"type\":\"Toolbar\"},{\"attributes\":{},\"id\":\"1673\",\"type\":\"BasicTickFormatter\"},{\"attributes\":{\"bottom_units\":\"screen\",\"fill_alpha\":0.5,\"fill_color\":\"lightgrey\",\"left_units\":\"screen\",\"level\":\"overlay\",\"line_alpha\":1.0,\"line_color\":\"black\",\"line_dash\":[4,4],\"line_width\":2,\"right_units\":\"screen\",\"top_units\":\"screen\"},\"id\":\"1610\",\"type\":\"BoxAnnotation\"},{\"attributes\":{\"formatter\":{\"id\":\"1673\"},\"ticker\":{\"id\":\"1597\"}},\"id\":\"1596\",\"type\":\"LinearAxis\"},{\"attributes\":{\"data_source\":{\"id\":\"1618\"},\"glyph\":{\"id\":\"1619\"},\"hover_glyph\":null,\"muted_glyph\":null,\"nonselection_glyph\":{\"id\":\"1620\"},\"selection_glyph\":null,\"view\":{\"id\":\"1622\"}},\"id\":\"1621\",\"type\":\"GlyphRenderer\"},{\"attributes\":{},\"id\":\"1601\",\"type\":\"BasicTicker\"},{\"attributes\":{\"line_alpha\":0.1,\"line_color\":\"#1f77b4\",\"x\":{\"field\":\"x\"},\"y\":{\"field\":\"y\"}},\"id\":\"1620\",\"type\":\"Line\"},{\"attributes\":{},\"id\":\"1588\",\"type\":\"DataRange1d\"},{\"attributes\":{\"line_color\":\"#1f77b4\",\"x\":{\"field\":\"x\"},\"y\":{\"field\":\"y\"}},\"id\":\"1619\",\"type\":\"Line\"},{\"attributes\":{},\"id\":\"1590\",\"type\":\"DataRange1d\"},{\"attributes\":{},\"id\":\"1609\",\"type\":\"HelpTool\"},{\"attributes\":{\"axis\":{\"id\":\"1596\"},\"ticker\":null},\"id\":\"1599\",\"type\":\"Grid\"},{\"attributes\":{},\"id\":\"1594\",\"type\":\"LinearScale\"},{\"attributes\":{\"source\":{\"id\":\"1618\"}},\"id\":\"1622\",\"type\":\"CDSView\"},{\"attributes\":{},\"id\":\"1675\",\"type\":\"Selection\"},{\"attributes\":{},\"id\":\"1597\",\"type\":\"BasicTicker\"},{\"attributes\":{\"text\":\"\"},\"id\":\"1669\",\"type\":\"Title\"},{\"attributes\":{},\"id\":\"1604\",\"type\":\"PanTool\"},{\"attributes\":{\"data\":{\"x\":[2,3,4,5,6,7,8,9,10,11],\"y\":[68.08612440191388,68.1658692185008,68.00637958532695,68.2775119617225,67.87878787878789,68.13397129186602,68.14992025518342,68.03827751196172,67.97448165869218,68.34130781499202]},\"selected\":{\"id\":\"1675\"},\"selection_policy\":{\"id\":\"1676\"}},\"id\":\"1618\",\"type\":\"ColumnDataSource\"}],\"root_ids\":[\"1587\"]},\"title\":\"Bokeh Application\",\"version\":\"2.1.1\"}};\n",
       "  var render_items = [{\"docid\":\"6ef416f5-d324-44d8-9c47-b10f9e5a4aba\",\"root_ids\":[\"1587\"],\"roots\":{\"1587\":\"9af331db-3f5e-48be-ba6d-d0a2c30cd758\"}}];\n",
       "  root.Bokeh.embed.embed_items_notebook(docs_json, render_items);\n",
       "\n",
       "  }\n",
       "  if (root.Bokeh !== undefined) {\n",
       "    embed_document(root);\n",
       "  } else {\n",
       "    var attempts = 0;\n",
       "    var timer = setInterval(function(root) {\n",
       "      if (root.Bokeh !== undefined) {\n",
       "        clearInterval(timer);\n",
       "        embed_document(root);\n",
       "      } else {\n",
       "        attempts++;\n",
       "        if (attempts > 100) {\n",
       "          clearInterval(timer);\n",
       "          console.log(\"Bokeh: ERROR: Unable to run BokehJS code because BokehJS library is missing\");\n",
       "        }\n",
       "      }\n",
       "    }, 10, root)\n",
       "  }\n",
       "})(window);"
      ],
      "application/vnd.bokehjs_exec.v0+json": ""
     },
     "metadata": {
      "application/vnd.bokehjs_exec.v0+json": {
       "id": "1587"
      }
     },
     "output_type": "display_data"
    }
   ],
   "source": [
    "# viewing the accuracy score \n",
    "p = figure(plot_width = 500, plot_height = 500)\n",
    "p.line(range(2, max_depth), acc_score)\n",
    "show(p)"
   ]
  },
  {
   "cell_type": "markdown",
   "metadata": {},
   "source": [
    "accuracy score states that we get the best accuracy with a max_depth of 5."
   ]
  },
  {
   "cell_type": "code",
   "execution_count": 159,
   "metadata": {},
   "outputs": [
    {
     "data": {
      "text/html": [
       "\n",
       "\n",
       "\n",
       "\n",
       "\n",
       "\n",
       "  <div class=\"bk-root\" id=\"780c00ca-c496-444c-b10d-b8c68a372dfb\" data-root-id=\"1731\"></div>\n"
      ]
     },
     "metadata": {},
     "output_type": "display_data"
    },
    {
     "data": {
      "application/javascript": [
       "(function(root) {\n",
       "  function embed_document(root) {\n",
       "    \n",
       "  var docs_json = {\"abe44726-b20c-4341-8d12-36f8b47c6aa6\":{\"roots\":{\"references\":[{\"attributes\":{\"below\":[{\"id\":\"1740\"}],\"center\":[{\"id\":\"1743\"},{\"id\":\"1747\"}],\"left\":[{\"id\":\"1744\"}],\"plot_height\":500,\"plot_width\":500,\"renderers\":[{\"id\":\"1765\"}],\"title\":{\"id\":\"1822\"},\"toolbar\":{\"id\":\"1755\"},\"x_range\":{\"id\":\"1732\"},\"x_scale\":{\"id\":\"1736\"},\"y_range\":{\"id\":\"1734\"},\"y_scale\":{\"id\":\"1738\"}},\"id\":\"1731\",\"subtype\":\"Figure\",\"type\":\"Plot\"},{\"attributes\":{},\"id\":\"1826\",\"type\":\"BasicTickFormatter\"},{\"attributes\":{},\"id\":\"1741\",\"type\":\"BasicTicker\"},{\"attributes\":{},\"id\":\"1736\",\"type\":\"LinearScale\"},{\"attributes\":{},\"id\":\"1748\",\"type\":\"PanTool\"},{\"attributes\":{\"formatter\":{\"id\":\"1824\"},\"ticker\":{\"id\":\"1745\"}},\"id\":\"1744\",\"type\":\"LinearAxis\"},{\"attributes\":{},\"id\":\"1745\",\"type\":\"BasicTicker\"},{\"attributes\":{\"axis\":{\"id\":\"1744\"},\"dimension\":1,\"ticker\":null},\"id\":\"1747\",\"type\":\"Grid\"},{\"attributes\":{\"active_drag\":\"auto\",\"active_inspect\":\"auto\",\"active_multi\":null,\"active_scroll\":\"auto\",\"active_tap\":\"auto\",\"tools\":[{\"id\":\"1748\"},{\"id\":\"1749\"},{\"id\":\"1750\"},{\"id\":\"1751\"},{\"id\":\"1752\"},{\"id\":\"1753\"}]},\"id\":\"1755\",\"type\":\"Toolbar\"},{\"attributes\":{\"data\":{\"x\":[2,3,4,5,6,7,8,9,10,11],\"y\":[63.89470535447202,69.45857014657493,73.76607837271911,69.09961112772959,67.96290756805264,70.11666168112474,68.83039186359558,68.71073885731379,71.4029314986539,69.30900388872271]},\"selected\":{\"id\":\"1828\"},\"selection_policy\":{\"id\":\"1829\"}},\"id\":\"1762\",\"type\":\"ColumnDataSource\"},{\"attributes\":{},\"id\":\"1749\",\"type\":\"WheelZoomTool\"},{\"attributes\":{\"axis\":{\"id\":\"1740\"},\"ticker\":null},\"id\":\"1743\",\"type\":\"Grid\"},{\"attributes\":{},\"id\":\"1753\",\"type\":\"HelpTool\"},{\"attributes\":{\"overlay\":{\"id\":\"1754\"}},\"id\":\"1750\",\"type\":\"BoxZoomTool\"},{\"attributes\":{\"source\":{\"id\":\"1762\"}},\"id\":\"1766\",\"type\":\"CDSView\"},{\"attributes\":{},\"id\":\"1751\",\"type\":\"SaveTool\"},{\"attributes\":{\"line_color\":\"#1f77b4\",\"x\":{\"field\":\"x\"},\"y\":{\"field\":\"y\"}},\"id\":\"1763\",\"type\":\"Line\"},{\"attributes\":{},\"id\":\"1752\",\"type\":\"ResetTool\"},{\"attributes\":{\"line_alpha\":0.1,\"line_color\":\"#1f77b4\",\"x\":{\"field\":\"x\"},\"y\":{\"field\":\"y\"}},\"id\":\"1764\",\"type\":\"Line\"},{\"attributes\":{\"data_source\":{\"id\":\"1762\"},\"glyph\":{\"id\":\"1763\"},\"hover_glyph\":null,\"muted_glyph\":null,\"nonselection_glyph\":{\"id\":\"1764\"},\"selection_glyph\":null,\"view\":{\"id\":\"1766\"}},\"id\":\"1765\",\"type\":\"GlyphRenderer\"},{\"attributes\":{},\"id\":\"1738\",\"type\":\"LinearScale\"},{\"attributes\":{},\"id\":\"1828\",\"type\":\"Selection\"},{\"attributes\":{\"text\":\"\"},\"id\":\"1822\",\"type\":\"Title\"},{\"attributes\":{\"formatter\":{\"id\":\"1826\"},\"ticker\":{\"id\":\"1741\"}},\"id\":\"1740\",\"type\":\"LinearAxis\"},{\"attributes\":{},\"id\":\"1829\",\"type\":\"UnionRenderers\"},{\"attributes\":{\"bottom_units\":\"screen\",\"fill_alpha\":0.5,\"fill_color\":\"lightgrey\",\"left_units\":\"screen\",\"level\":\"overlay\",\"line_alpha\":1.0,\"line_color\":\"black\",\"line_dash\":[4,4],\"line_width\":2,\"right_units\":\"screen\",\"top_units\":\"screen\"},\"id\":\"1754\",\"type\":\"BoxAnnotation\"},{\"attributes\":{},\"id\":\"1732\",\"type\":\"DataRange1d\"},{\"attributes\":{},\"id\":\"1824\",\"type\":\"BasicTickFormatter\"},{\"attributes\":{},\"id\":\"1734\",\"type\":\"DataRange1d\"}],\"root_ids\":[\"1731\"]},\"title\":\"Bokeh Application\",\"version\":\"2.1.1\"}};\n",
       "  var render_items = [{\"docid\":\"abe44726-b20c-4341-8d12-36f8b47c6aa6\",\"root_ids\":[\"1731\"],\"roots\":{\"1731\":\"780c00ca-c496-444c-b10d-b8c68a372dfb\"}}];\n",
       "  root.Bokeh.embed.embed_items_notebook(docs_json, render_items);\n",
       "\n",
       "  }\n",
       "  if (root.Bokeh !== undefined) {\n",
       "    embed_document(root);\n",
       "  } else {\n",
       "    var attempts = 0;\n",
       "    var timer = setInterval(function(root) {\n",
       "      if (root.Bokeh !== undefined) {\n",
       "        clearInterval(timer);\n",
       "        embed_document(root);\n",
       "      } else {\n",
       "        attempts++;\n",
       "        if (attempts > 100) {\n",
       "          clearInterval(timer);\n",
       "          console.log(\"Bokeh: ERROR: Unable to run BokehJS code because BokehJS library is missing\");\n",
       "        }\n",
       "      }\n",
       "    }, 10, root)\n",
       "  }\n",
       "})(window);"
      ],
      "application/vnd.bokehjs_exec.v0+json": ""
     },
     "metadata": {
      "application/vnd.bokehjs_exec.v0+json": {
       "id": "1731"
      }
     },
     "output_type": "display_data"
    }
   ],
   "source": [
    "p = figure(plot_width = 500, plot_height = 500)\n",
    "p.line(range(2, max_depth), sensitivity)\n",
    "show(p)"
   ]
  },
  {
   "cell_type": "markdown",
   "metadata": {},
   "source": [
    "this plot states that the best sensitivity appears when using a max_depth of 4. So I am going to be using a __max_depth of 4 for the decision tree__. The reason is because a sensitivity of 74 is higher than anything I was able to achieve with the random forest. Also the accuracy of the decision tree with a max_depth of 4 is similar to the ones for the random forest. "
   ]
  },
  {
   "cell_type": "code",
   "execution_count": 160,
   "metadata": {},
   "outputs": [],
   "source": [
    "# sensitivity and recall TP/P or TP/TP+FN\n",
    "def get_sensitvity(tp, fn):  \n",
    "    return (tp/(tp+fn))"
   ]
  },
  {
   "cell_type": "code",
   "execution_count": 161,
   "metadata": {},
   "outputs": [],
   "source": [
    "# specificity \n",
    "def get_specificity(tn, fp):\n",
    "    return (tn/(tn+fp))"
   ]
  },
  {
   "cell_type": "code",
   "execution_count": 162,
   "metadata": {},
   "outputs": [],
   "source": [
    "# precision \n",
    "def get_precision(tp, fp):\n",
    "    return (tp/(tp+fp))"
   ]
  },
  {
   "cell_type": "code",
   "execution_count": 163,
   "metadata": {},
   "outputs": [],
   "source": [
    "# F-Measure (2*precision * recall)/precision + recall \n",
    "def get_f_measure(precision, recall):\n",
    "    return ((2* precision * recall) / (precision + recall))"
   ]
  },
  {
   "cell_type": "code",
   "execution_count": 164,
   "metadata": {},
   "outputs": [],
   "source": [
    "# get the title \n",
    "def get_title(model):\n",
    "    if isinstance(model, DecisionTreeClassifier):\n",
    "        return('Decision Tree (max_depth =' + str(model.max_depth) + ')')\n",
    "    if isinstance(model, RandomForestClassifier):\n",
    "        return('Random Forest (max_depth =' + str(model.max_depth) + ')')\n",
    "    if isinstance(model, LogisticRegression):\n",
    "        return('Logistic Regression')\n",
    "    if isinstance(model, SVC):\n",
    "        return('Support Vector Machine')\n",
    "    if isinstance(model, GaussianNB):\n",
    "        return('Navie Bayes')\n",
    "    if isinstance(model, VotingClassifier):\n",
    "        return 'VotingClassifier'\n",
    "    if isinstance(model, BaggingClassifier):\n",
    "        return 'BaggingClassifier'"
   ]
  },
  {
   "cell_type": "code",
   "execution_count": 165,
   "metadata": {},
   "outputs": [],
   "source": [
    "# function to get the different measurements of the models\n",
    "def get_model_info(models, x_train, x_test, y_train, y_test, criterion = 'gini'):\n",
    "    name_model = []\n",
    "    accuracy = []\n",
    "    error_rate = []\n",
    "    tn = [] # [0][0]\n",
    "    fp = [] # [0][1]\n",
    "    fn = [] # [1][0]\n",
    "    tp = [] # [1][1]\n",
    "    precision = []\n",
    "    sensitivity = []\n",
    "    specificity = []\n",
    "    f_measure = []\n",
    "    \n",
    "    for i in range(len(models)):\n",
    "        # train the model\n",
    "        model = models[i]\n",
    "        \n",
    "        # if the criterion is entropy then set the criterion for random forest and decision tree e\n",
    "        if criterion == 'entropy':\n",
    "            if isinstance(model, DecisionTreeClassifier) | isinstance(model, RandomForestClassifier):\n",
    "                model.set_params(criterion = criterion)\n",
    "        # else use the default criterion for random forest and decision tree\n",
    "        model.fit(x_train, y_train)\n",
    "        \n",
    "        # predict with the model \n",
    "        prediction = model.predict(x_test)\n",
    "        \n",
    "        # store the accuracy \n",
    "        accuracy.append(accuracy_score(y_test, prediction) * 100)\n",
    "        # store the error rate\n",
    "        error_rate.append((1 - accuracy_score(y_test, prediction)) * 100)\n",
    "        # store the TP, FP, FN, TN \n",
    "        cm = confusion_matrix(y_test, prediction)\n",
    "        tn.append(cm[0][0])\n",
    "        fp.append(cm[0][1])\n",
    "        fn.append(cm[1][0])\n",
    "        tp.append(cm[1][1])\n",
    "        # store the precision, f_measure, sensivity, specificty \n",
    "        sensitivity.append(get_sensitvity(cm[1][1], cm[1][0]) * 100)\n",
    "        specificity.append(get_specificity(cm[0][0], cm[0][1])* 100)\n",
    "        precision.append(get_precision(cm[1][1], cm[0][1]) * 100)\n",
    "        f_measure.append(get_f_measure(get_precision(cm[1][1], cm[0][1]), get_sensitvity(cm[1][1], cm[1][0])) * 100)\n",
    "        \n",
    "        # store the title \n",
    "        name_model.append(get_title(model))\n",
    "        \n",
    "        # this if block will run if you want to see what the results would be if the criterion was entropy\n",
    "        if criterion == 'both':\n",
    "            # only runs if the models are either decision tree or random forest \n",
    "            if isinstance(model, DecisionTreeClassifier) | isinstance(model, RandomForestClassifier):\n",
    "                # create an instance of the model \n",
    "                entropy_model = models[i]\n",
    "                # set the criterion to entropy \n",
    "                entropy_model.set_params(criterion = 'entropy')\n",
    "                # train the model \n",
    "                entropy_model.fit(x_train, y_train)\n",
    "\n",
    "                # use the model to predict \n",
    "                entropy_pred = entropy_model.predict(x_test)\n",
    "\n",
    "                # store the accuracy \n",
    "                accuracy.append(accuracy_score(y_test, entropy_pred) * 100)\n",
    "                # store the error rate\n",
    "                error_rate.append((1 - accuracy_score(y_test, entropy_pred)) * 100)\n",
    "                # store the TP, FP, FN, TN \n",
    "                cm = confusion_matrix(y_test, entropy_pred)\n",
    "                tn.append(cm[0][0])\n",
    "                fp.append(cm[0][1])\n",
    "                fn.append(cm[1][0])\n",
    "                tp.append(cm[1][1])\n",
    "                # store the precision, f_measure, sensivity, specificty \n",
    "                sensitivity.append(get_sensitvity(cm[1][1], cm[1][0]) * 100)\n",
    "                specificity.append(get_specificity(cm[0][0], cm[0][1]) * 100)\n",
    "                precision.append(get_precision(cm[1][1], cm[0][1]) * 100)\n",
    "                f_measure.append(get_f_measure(get_precision(cm[1][1], cm[0][1]), get_sensitvity(cm[1][1], cm[1][0])) * 100)\n",
    "\n",
    "                name_model.append(get_title(entropy_model) + ' (entropy)')\n",
    "        \n",
    "        \n",
    "    # adding everything to a dataframe and returning that dataframe\n",
    "    results = pd.DataFrame()\n",
    "    results.insert(0, 'Title', name_model)\n",
    "    results.insert(1, 'Accuracy', accuracy)\n",
    "    results.insert(2, 'Error rate', error_rate)\n",
    "    results.insert(3, 'TP', tp)\n",
    "    results.insert(4, 'FN', fn)\n",
    "    results.insert(5, 'FP', fp)\n",
    "    results.insert(6, 'TN', tn)\n",
    "    results.insert(7, 'Sensitivity', sensitivity)\n",
    "    results.insert(8, 'Specificity', specificity)\n",
    "    results.insert(9, 'Precision', precision)\n",
    "    results.insert(10, 'F Measure', f_measure)\n",
    "        \n",
    "    return results.sort_values('Sensitivity')"
   ]
  },
  {
   "cell_type": "code",
   "execution_count": 167,
   "metadata": {},
   "outputs": [
    {
     "name": "stdout",
     "output_type": "stream",
     "text": [
      "Sorted By Sensitivity and no features removed\n"
     ]
    },
    {
     "data": {
      "text/html": [
       "<div>\n",
       "<style scoped>\n",
       "    .dataframe tbody tr th:only-of-type {\n",
       "        vertical-align: middle;\n",
       "    }\n",
       "\n",
       "    .dataframe tbody tr th {\n",
       "        vertical-align: top;\n",
       "    }\n",
       "\n",
       "    .dataframe thead th {\n",
       "        text-align: right;\n",
       "    }\n",
       "</style>\n",
       "<table border=\"1\" class=\"dataframe\">\n",
       "  <thead>\n",
       "    <tr style=\"text-align: right;\">\n",
       "      <th></th>\n",
       "      <th>Title</th>\n",
       "      <th>Accuracy</th>\n",
       "      <th>Error rate</th>\n",
       "      <th>TP</th>\n",
       "      <th>FN</th>\n",
       "      <th>FP</th>\n",
       "      <th>TN</th>\n",
       "      <th>Sensitivity</th>\n",
       "      <th>Specificity</th>\n",
       "      <th>Precision</th>\n",
       "      <th>F Measure</th>\n",
       "    </tr>\n",
       "  </thead>\n",
       "  <tbody>\n",
       "    <tr>\n",
       "      <th>6</th>\n",
       "      <td>Navie Bayes</td>\n",
       "      <td>69.377990</td>\n",
       "      <td>30.622010</td>\n",
       "      <td>2071</td>\n",
       "      <td>1272</td>\n",
       "      <td>648</td>\n",
       "      <td>2279</td>\n",
       "      <td>61.950344</td>\n",
       "      <td>77.861291</td>\n",
       "      <td>76.167709</td>\n",
       "      <td>68.327285</td>\n",
       "    </tr>\n",
       "    <tr>\n",
       "      <th>4</th>\n",
       "      <td>Logistic Regression</td>\n",
       "      <td>70.972887</td>\n",
       "      <td>29.027113</td>\n",
       "      <td>2298</td>\n",
       "      <td>1045</td>\n",
       "      <td>775</td>\n",
       "      <td>2152</td>\n",
       "      <td>68.740652</td>\n",
       "      <td>73.522378</td>\n",
       "      <td>74.780345</td>\n",
       "      <td>71.633416</td>\n",
       "    </tr>\n",
       "    <tr>\n",
       "      <th>5</th>\n",
       "      <td>Support Vector Machine</td>\n",
       "      <td>72.041467</td>\n",
       "      <td>27.958533</td>\n",
       "      <td>2321</td>\n",
       "      <td>1022</td>\n",
       "      <td>731</td>\n",
       "      <td>2196</td>\n",
       "      <td>69.428657</td>\n",
       "      <td>75.025624</td>\n",
       "      <td>76.048493</td>\n",
       "      <td>72.587959</td>\n",
       "    </tr>\n",
       "    <tr>\n",
       "      <th>3</th>\n",
       "      <td>Random Forest (max_depth =9) (entropy)</td>\n",
       "      <td>72.248804</td>\n",
       "      <td>27.751196</td>\n",
       "      <td>2323</td>\n",
       "      <td>1020</td>\n",
       "      <td>720</td>\n",
       "      <td>2207</td>\n",
       "      <td>69.488483</td>\n",
       "      <td>75.401435</td>\n",
       "      <td>76.339139</td>\n",
       "      <td>72.752897</td>\n",
       "    </tr>\n",
       "    <tr>\n",
       "      <th>2</th>\n",
       "      <td>Random Forest (max_depth =9)</td>\n",
       "      <td>72.105263</td>\n",
       "      <td>27.894737</td>\n",
       "      <td>2355</td>\n",
       "      <td>988</td>\n",
       "      <td>761</td>\n",
       "      <td>2166</td>\n",
       "      <td>70.445707</td>\n",
       "      <td>74.000683</td>\n",
       "      <td>75.577664</td>\n",
       "      <td>72.921505</td>\n",
       "    </tr>\n",
       "    <tr>\n",
       "      <th>0</th>\n",
       "      <td>Decision Tree (max_depth =4)</td>\n",
       "      <td>71.228070</td>\n",
       "      <td>28.771930</td>\n",
       "      <td>2466</td>\n",
       "      <td>877</td>\n",
       "      <td>927</td>\n",
       "      <td>2000</td>\n",
       "      <td>73.766078</td>\n",
       "      <td>68.329347</td>\n",
       "      <td>72.679045</td>\n",
       "      <td>73.218527</td>\n",
       "    </tr>\n",
       "    <tr>\n",
       "      <th>1</th>\n",
       "      <td>Decision Tree (max_depth =4) (entropy)</td>\n",
       "      <td>71.228070</td>\n",
       "      <td>28.771930</td>\n",
       "      <td>2466</td>\n",
       "      <td>877</td>\n",
       "      <td>927</td>\n",
       "      <td>2000</td>\n",
       "      <td>73.766078</td>\n",
       "      <td>68.329347</td>\n",
       "      <td>72.679045</td>\n",
       "      <td>73.218527</td>\n",
       "    </tr>\n",
       "  </tbody>\n",
       "</table>\n",
       "</div>"
      ],
      "text/plain": [
       "                                    Title   Accuracy  Error rate    TP    FN  \\\n",
       "6                             Navie Bayes  69.377990   30.622010  2071  1272   \n",
       "4                     Logistic Regression  70.972887   29.027113  2298  1045   \n",
       "5                  Support Vector Machine  72.041467   27.958533  2321  1022   \n",
       "3  Random Forest (max_depth =9) (entropy)  72.248804   27.751196  2323  1020   \n",
       "2            Random Forest (max_depth =9)  72.105263   27.894737  2355   988   \n",
       "0            Decision Tree (max_depth =4)  71.228070   28.771930  2466   877   \n",
       "1  Decision Tree (max_depth =4) (entropy)  71.228070   28.771930  2466   877   \n",
       "\n",
       "    FP    TN  Sensitivity  Specificity  Precision  F Measure  \n",
       "6  648  2279    61.950344    77.861291  76.167709  68.327285  \n",
       "4  775  2152    68.740652    73.522378  74.780345  71.633416  \n",
       "5  731  2196    69.428657    75.025624  76.048493  72.587959  \n",
       "3  720  2207    69.488483    75.401435  76.339139  72.752897  \n",
       "2  761  2166    70.445707    74.000683  75.577664  72.921505  \n",
       "0  927  2000    73.766078    68.329347  72.679045  73.218527  \n",
       "1  927  2000    73.766078    68.329347  72.679045  73.218527  "
      ]
     },
     "execution_count": 167,
     "metadata": {},
     "output_type": "execute_result"
    }
   ],
   "source": [
    "# creating the list of classification techniques that I want to create models out of \n",
    "models = [DecisionTreeClassifier(max_depth = 4), RandomForestClassifier(n_estimators = 130, max_depth = 9), \n",
    "          LogisticRegression(), SVC(), GaussianNB()]\n",
    "print('Sorted By Sensitivity and no features removed')\n",
    "get_model_info(models, x_train, x_test, y_train, y_test, 'both')"
   ]
  },
  {
   "cell_type": "markdown",
   "metadata": {},
   "source": [
    "__Best accuracy:__ Random Forest (gini) (72.232855 %)   \n",
    "__Best Sensitivity:__ Decision Tree (73.766078 %) "
   ]
  },
  {
   "cell_type": "markdown",
   "metadata": {},
   "source": [
    "<br />\n",
    "\n",
    "\n",
    "### Filtering Features and Model Testing "
   ]
  },
  {
   "cell_type": "markdown",
   "metadata": {},
   "source": [
    "<br /> \n",
    "__Removing weight and height__ and seeing if using bmi instead of those two affects the models performance"
   ]
  },
  {
   "cell_type": "code",
   "execution_count": 168,
   "metadata": {},
   "outputs": [],
   "source": [
    "x = df.drop(columns = ['cardio', 'weight', 'height'])\n",
    "# not creating the y because I already created it when trying to figure out how many trees to use for the random forest \n",
    "\n",
    "# getting the training and test set \n",
    "train_test_set = get_train_test_set(x,y)\n",
    "x_train = train_test_set[0]\n",
    "x_test = train_test_set[1]\n",
    "y_train = train_test_set[2]\n",
    "y_test = train_test_set[3]"
   ]
  },
  {
   "cell_type": "code",
   "execution_count": 169,
   "metadata": {},
   "outputs": [
    {
     "name": "stdout",
     "output_type": "stream",
     "text": [
      "Sorted by sensitivity; Removed features weight, height\n"
     ]
    },
    {
     "data": {
      "text/html": [
       "<div>\n",
       "<style scoped>\n",
       "    .dataframe tbody tr th:only-of-type {\n",
       "        vertical-align: middle;\n",
       "    }\n",
       "\n",
       "    .dataframe tbody tr th {\n",
       "        vertical-align: top;\n",
       "    }\n",
       "\n",
       "    .dataframe thead th {\n",
       "        text-align: right;\n",
       "    }\n",
       "</style>\n",
       "<table border=\"1\" class=\"dataframe\">\n",
       "  <thead>\n",
       "    <tr style=\"text-align: right;\">\n",
       "      <th></th>\n",
       "      <th>Title</th>\n",
       "      <th>Accuracy</th>\n",
       "      <th>Error rate</th>\n",
       "      <th>TP</th>\n",
       "      <th>FN</th>\n",
       "      <th>FP</th>\n",
       "      <th>TN</th>\n",
       "      <th>Sensitivity</th>\n",
       "      <th>Specificity</th>\n",
       "      <th>Precision</th>\n",
       "      <th>F Measure</th>\n",
       "    </tr>\n",
       "  </thead>\n",
       "  <tbody>\n",
       "    <tr>\n",
       "      <th>6</th>\n",
       "      <td>Navie Bayes</td>\n",
       "      <td>69.218501</td>\n",
       "      <td>30.781499</td>\n",
       "      <td>2073</td>\n",
       "      <td>1270</td>\n",
       "      <td>660</td>\n",
       "      <td>2267</td>\n",
       "      <td>62.010171</td>\n",
       "      <td>77.451315</td>\n",
       "      <td>75.850714</td>\n",
       "      <td>68.235681</td>\n",
       "    </tr>\n",
       "    <tr>\n",
       "      <th>4</th>\n",
       "      <td>Logistic Regression</td>\n",
       "      <td>71.084530</td>\n",
       "      <td>28.915470</td>\n",
       "      <td>2297</td>\n",
       "      <td>1046</td>\n",
       "      <td>767</td>\n",
       "      <td>2160</td>\n",
       "      <td>68.710739</td>\n",
       "      <td>73.795695</td>\n",
       "      <td>74.967363</td>\n",
       "      <td>71.702825</td>\n",
       "    </tr>\n",
       "    <tr>\n",
       "      <th>2</th>\n",
       "      <td>Random Forest (max_depth =9)</td>\n",
       "      <td>72.137161</td>\n",
       "      <td>27.862839</td>\n",
       "      <td>2327</td>\n",
       "      <td>1016</td>\n",
       "      <td>731</td>\n",
       "      <td>2196</td>\n",
       "      <td>69.608136</td>\n",
       "      <td>75.025624</td>\n",
       "      <td>76.095487</td>\n",
       "      <td>72.707389</td>\n",
       "    </tr>\n",
       "    <tr>\n",
       "      <th>5</th>\n",
       "      <td>Support Vector Machine</td>\n",
       "      <td>72.312600</td>\n",
       "      <td>27.687400</td>\n",
       "      <td>2330</td>\n",
       "      <td>1013</td>\n",
       "      <td>723</td>\n",
       "      <td>2204</td>\n",
       "      <td>69.697876</td>\n",
       "      <td>75.298941</td>\n",
       "      <td>76.318375</td>\n",
       "      <td>72.858036</td>\n",
       "    </tr>\n",
       "    <tr>\n",
       "      <th>3</th>\n",
       "      <td>Random Forest (max_depth =9) (entropy)</td>\n",
       "      <td>71.993620</td>\n",
       "      <td>28.006380</td>\n",
       "      <td>2340</td>\n",
       "      <td>1003</td>\n",
       "      <td>753</td>\n",
       "      <td>2174</td>\n",
       "      <td>69.997009</td>\n",
       "      <td>74.274001</td>\n",
       "      <td>75.654704</td>\n",
       "      <td>72.715973</td>\n",
       "    </tr>\n",
       "    <tr>\n",
       "      <th>0</th>\n",
       "      <td>Decision Tree (max_depth =4)</td>\n",
       "      <td>71.228070</td>\n",
       "      <td>28.771930</td>\n",
       "      <td>2466</td>\n",
       "      <td>877</td>\n",
       "      <td>927</td>\n",
       "      <td>2000</td>\n",
       "      <td>73.766078</td>\n",
       "      <td>68.329347</td>\n",
       "      <td>72.679045</td>\n",
       "      <td>73.218527</td>\n",
       "    </tr>\n",
       "    <tr>\n",
       "      <th>1</th>\n",
       "      <td>Decision Tree (max_depth =4) (entropy)</td>\n",
       "      <td>71.228070</td>\n",
       "      <td>28.771930</td>\n",
       "      <td>2466</td>\n",
       "      <td>877</td>\n",
       "      <td>927</td>\n",
       "      <td>2000</td>\n",
       "      <td>73.766078</td>\n",
       "      <td>68.329347</td>\n",
       "      <td>72.679045</td>\n",
       "      <td>73.218527</td>\n",
       "    </tr>\n",
       "  </tbody>\n",
       "</table>\n",
       "</div>"
      ],
      "text/plain": [
       "                                    Title   Accuracy  Error rate    TP    FN  \\\n",
       "6                             Navie Bayes  69.218501   30.781499  2073  1270   \n",
       "4                     Logistic Regression  71.084530   28.915470  2297  1046   \n",
       "2            Random Forest (max_depth =9)  72.137161   27.862839  2327  1016   \n",
       "5                  Support Vector Machine  72.312600   27.687400  2330  1013   \n",
       "3  Random Forest (max_depth =9) (entropy)  71.993620   28.006380  2340  1003   \n",
       "0            Decision Tree (max_depth =4)  71.228070   28.771930  2466   877   \n",
       "1  Decision Tree (max_depth =4) (entropy)  71.228070   28.771930  2466   877   \n",
       "\n",
       "    FP    TN  Sensitivity  Specificity  Precision  F Measure  \n",
       "6  660  2267    62.010171    77.451315  75.850714  68.235681  \n",
       "4  767  2160    68.710739    73.795695  74.967363  71.702825  \n",
       "2  731  2196    69.608136    75.025624  76.095487  72.707389  \n",
       "5  723  2204    69.697876    75.298941  76.318375  72.858036  \n",
       "3  753  2174    69.997009    74.274001  75.654704  72.715973  \n",
       "0  927  2000    73.766078    68.329347  72.679045  73.218527  \n",
       "1  927  2000    73.766078    68.329347  72.679045  73.218527  "
      ]
     },
     "execution_count": 169,
     "metadata": {},
     "output_type": "execute_result"
    }
   ],
   "source": [
    "print('Sorted by sensitivity; Removed features weight, height')\n",
    "get_model_info(models, x_train, x_test, y_train, y_test, 'both')"
   ]
  },
  {
   "cell_type": "markdown",
   "metadata": {},
   "source": [
    "It seems that removing weight and height and just using bmi has improved the sensitivity of some of the models. But the highest sensitivity is similar to the one when we didn't use bmi. The accuracy however has increase for the support vector machine.\n",
    "\n",
    "__Best accuracy__: Support Vector Machine (72.312600 %)   \n",
    "__Best sensitivity__: Decision Tree (73.766078 %)"
   ]
  },
  {
   "cell_type": "markdown",
   "metadata": {},
   "source": [
    "<br /> \n",
    "__Removing alco, smoke, height, weight__ to see how it effects the performance of the models"
   ]
  },
  {
   "cell_type": "code",
   "execution_count": 170,
   "metadata": {},
   "outputs": [],
   "source": [
    "x = df.drop(columns = ['cardio', 'alco', 'smoke', 'weight', 'height'])\n",
    "\n",
    "# getting the training and test set \n",
    "train_test_set = get_train_test_set(x,y)\n",
    "x_train = train_test_set[0]\n",
    "x_test = train_test_set[1]\n",
    "y_train = train_test_set[2]\n",
    "y_test = train_test_set[3]"
   ]
  },
  {
   "cell_type": "code",
   "execution_count": 171,
   "metadata": {},
   "outputs": [
    {
     "name": "stdout",
     "output_type": "stream",
     "text": [
      "Sorted by sensitivity; Removed features smoke, alco, weight, and height\n"
     ]
    },
    {
     "data": {
      "text/html": [
       "<div>\n",
       "<style scoped>\n",
       "    .dataframe tbody tr th:only-of-type {\n",
       "        vertical-align: middle;\n",
       "    }\n",
       "\n",
       "    .dataframe tbody tr th {\n",
       "        vertical-align: top;\n",
       "    }\n",
       "\n",
       "    .dataframe thead th {\n",
       "        text-align: right;\n",
       "    }\n",
       "</style>\n",
       "<table border=\"1\" class=\"dataframe\">\n",
       "  <thead>\n",
       "    <tr style=\"text-align: right;\">\n",
       "      <th></th>\n",
       "      <th>Title</th>\n",
       "      <th>Accuracy</th>\n",
       "      <th>Error rate</th>\n",
       "      <th>TP</th>\n",
       "      <th>FN</th>\n",
       "      <th>FP</th>\n",
       "      <th>TN</th>\n",
       "      <th>Sensitivity</th>\n",
       "      <th>Specificity</th>\n",
       "      <th>Precision</th>\n",
       "      <th>F Measure</th>\n",
       "    </tr>\n",
       "  </thead>\n",
       "  <tbody>\n",
       "    <tr>\n",
       "      <th>6</th>\n",
       "      <td>Navie Bayes</td>\n",
       "      <td>69.601276</td>\n",
       "      <td>30.398724</td>\n",
       "      <td>2064</td>\n",
       "      <td>1279</td>\n",
       "      <td>627</td>\n",
       "      <td>2300</td>\n",
       "      <td>61.740951</td>\n",
       "      <td>78.578750</td>\n",
       "      <td>76.700111</td>\n",
       "      <td>68.412330</td>\n",
       "    </tr>\n",
       "    <tr>\n",
       "      <th>4</th>\n",
       "      <td>Logistic Regression</td>\n",
       "      <td>70.972887</td>\n",
       "      <td>29.027113</td>\n",
       "      <td>2292</td>\n",
       "      <td>1051</td>\n",
       "      <td>769</td>\n",
       "      <td>2158</td>\n",
       "      <td>68.561173</td>\n",
       "      <td>73.727366</td>\n",
       "      <td>74.877491</td>\n",
       "      <td>71.580262</td>\n",
       "    </tr>\n",
       "    <tr>\n",
       "      <th>2</th>\n",
       "      <td>Random Forest (max_depth =9)</td>\n",
       "      <td>72.025518</td>\n",
       "      <td>27.974482</td>\n",
       "      <td>2304</td>\n",
       "      <td>1039</td>\n",
       "      <td>715</td>\n",
       "      <td>2212</td>\n",
       "      <td>68.920132</td>\n",
       "      <td>75.572258</td>\n",
       "      <td>76.316661</td>\n",
       "      <td>72.430053</td>\n",
       "    </tr>\n",
       "    <tr>\n",
       "      <th>3</th>\n",
       "      <td>Random Forest (max_depth =9) (entropy)</td>\n",
       "      <td>72.041467</td>\n",
       "      <td>27.958533</td>\n",
       "      <td>2309</td>\n",
       "      <td>1034</td>\n",
       "      <td>719</td>\n",
       "      <td>2208</td>\n",
       "      <td>69.069698</td>\n",
       "      <td>75.435600</td>\n",
       "      <td>76.254954</td>\n",
       "      <td>72.484696</td>\n",
       "    </tr>\n",
       "    <tr>\n",
       "      <th>5</th>\n",
       "      <td>Support Vector Machine</td>\n",
       "      <td>71.993620</td>\n",
       "      <td>28.006380</td>\n",
       "      <td>2310</td>\n",
       "      <td>1033</td>\n",
       "      <td>723</td>\n",
       "      <td>2204</td>\n",
       "      <td>69.099611</td>\n",
       "      <td>75.298941</td>\n",
       "      <td>76.162216</td>\n",
       "      <td>72.459222</td>\n",
       "    </tr>\n",
       "    <tr>\n",
       "      <th>0</th>\n",
       "      <td>Decision Tree (max_depth =4)</td>\n",
       "      <td>71.228070</td>\n",
       "      <td>28.771930</td>\n",
       "      <td>2466</td>\n",
       "      <td>877</td>\n",
       "      <td>927</td>\n",
       "      <td>2000</td>\n",
       "      <td>73.766078</td>\n",
       "      <td>68.329347</td>\n",
       "      <td>72.679045</td>\n",
       "      <td>73.218527</td>\n",
       "    </tr>\n",
       "    <tr>\n",
       "      <th>1</th>\n",
       "      <td>Decision Tree (max_depth =4) (entropy)</td>\n",
       "      <td>71.228070</td>\n",
       "      <td>28.771930</td>\n",
       "      <td>2466</td>\n",
       "      <td>877</td>\n",
       "      <td>927</td>\n",
       "      <td>2000</td>\n",
       "      <td>73.766078</td>\n",
       "      <td>68.329347</td>\n",
       "      <td>72.679045</td>\n",
       "      <td>73.218527</td>\n",
       "    </tr>\n",
       "  </tbody>\n",
       "</table>\n",
       "</div>"
      ],
      "text/plain": [
       "                                    Title   Accuracy  Error rate    TP    FN  \\\n",
       "6                             Navie Bayes  69.601276   30.398724  2064  1279   \n",
       "4                     Logistic Regression  70.972887   29.027113  2292  1051   \n",
       "2            Random Forest (max_depth =9)  72.025518   27.974482  2304  1039   \n",
       "3  Random Forest (max_depth =9) (entropy)  72.041467   27.958533  2309  1034   \n",
       "5                  Support Vector Machine  71.993620   28.006380  2310  1033   \n",
       "0            Decision Tree (max_depth =4)  71.228070   28.771930  2466   877   \n",
       "1  Decision Tree (max_depth =4) (entropy)  71.228070   28.771930  2466   877   \n",
       "\n",
       "    FP    TN  Sensitivity  Specificity  Precision  F Measure  \n",
       "6  627  2300    61.740951    78.578750  76.700111  68.412330  \n",
       "4  769  2158    68.561173    73.727366  74.877491  71.580262  \n",
       "2  715  2212    68.920132    75.572258  76.316661  72.430053  \n",
       "3  719  2208    69.069698    75.435600  76.254954  72.484696  \n",
       "5  723  2204    69.099611    75.298941  76.162216  72.459222  \n",
       "0  927  2000    73.766078    68.329347  72.679045  73.218527  \n",
       "1  927  2000    73.766078    68.329347  72.679045  73.218527  "
      ]
     },
     "execution_count": 171,
     "metadata": {},
     "output_type": "execute_result"
    }
   ],
   "source": [
    "print('Sorted by sensitivity; Removed features smoke, alco, weight, and height')\n",
    "get_model_info(models, x_train, x_test, y_train, y_test, 'both')"
   ]
  },
  {
   "cell_type": "markdown",
   "metadata": {},
   "source": [
    "When I removed weight, height, alcohol, and smoke it yeilds the same results except the best accuracy has decreased. \n",
    "\n",
    "__Best accuracy__: Random Forest (entropy) (72.041467 %)   \n",
    "__Best sensitivity__: Decision Tree (73.766078 %)"
   ]
  },
  {
   "cell_type": "code",
   "execution_count": 172,
   "metadata": {},
   "outputs": [
    {
     "data": {
      "text/plain": [
       "age            0.233003\n",
       "gender         0.000586\n",
       "height         0.013224\n",
       "bmi            0.180771\n",
       "weight         0.169631\n",
       "ap_hi          0.422039\n",
       "ap_lo          0.335294\n",
       "cholesterol    0.208955\n",
       "gluc           0.076101\n",
       "smoke          0.028040\n",
       "alco           0.017581\n",
       "active         0.025167\n",
       "cardio         1.000000\n",
       "Name: cardio, dtype: float64"
      ]
     },
     "execution_count": 172,
     "metadata": {},
     "output_type": "execute_result"
    }
   ],
   "source": [
    "abs(df.corr()['cardio'])"
   ]
  },
  {
   "cell_type": "markdown",
   "metadata": {},
   "source": [
    "<br /> \n",
    "__Removing gender, height, and weight__ to see if how that affects performance. The reason I didn't include alco and smoke is because removing it didn't yield a better result compared to the one I got when removing height and weight. "
   ]
  },
  {
   "cell_type": "code",
   "execution_count": 173,
   "metadata": {},
   "outputs": [],
   "source": [
    "x = df.drop(columns = [ 'height', 'gender', 'cardio', 'weight'])\n",
    "\n",
    "# getting the training and test set \n",
    "train_test_set = get_train_test_set(x,y)\n",
    "x_train = train_test_set[0]\n",
    "x_test = train_test_set[1]\n",
    "y_train = train_test_set[2]\n",
    "y_test = train_test_set[3]"
   ]
  },
  {
   "cell_type": "code",
   "execution_count": 174,
   "metadata": {},
   "outputs": [
    {
     "name": "stdout",
     "output_type": "stream",
     "text": [
      "Sorted by sensitivity; Removed features height, weight, and gender\n"
     ]
    },
    {
     "data": {
      "text/html": [
       "<div>\n",
       "<style scoped>\n",
       "    .dataframe tbody tr th:only-of-type {\n",
       "        vertical-align: middle;\n",
       "    }\n",
       "\n",
       "    .dataframe tbody tr th {\n",
       "        vertical-align: top;\n",
       "    }\n",
       "\n",
       "    .dataframe thead th {\n",
       "        text-align: right;\n",
       "    }\n",
       "</style>\n",
       "<table border=\"1\" class=\"dataframe\">\n",
       "  <thead>\n",
       "    <tr style=\"text-align: right;\">\n",
       "      <th></th>\n",
       "      <th>Title</th>\n",
       "      <th>Accuracy</th>\n",
       "      <th>Error rate</th>\n",
       "      <th>TP</th>\n",
       "      <th>FN</th>\n",
       "      <th>FP</th>\n",
       "      <th>TN</th>\n",
       "      <th>Sensitivity</th>\n",
       "      <th>Specificity</th>\n",
       "      <th>Precision</th>\n",
       "      <th>F Measure</th>\n",
       "    </tr>\n",
       "  </thead>\n",
       "  <tbody>\n",
       "    <tr>\n",
       "      <th>6</th>\n",
       "      <td>Navie Bayes</td>\n",
       "      <td>69.234450</td>\n",
       "      <td>30.765550</td>\n",
       "      <td>2074</td>\n",
       "      <td>1269</td>\n",
       "      <td>660</td>\n",
       "      <td>2267</td>\n",
       "      <td>62.040084</td>\n",
       "      <td>77.451315</td>\n",
       "      <td>75.859546</td>\n",
       "      <td>68.257364</td>\n",
       "    </tr>\n",
       "    <tr>\n",
       "      <th>4</th>\n",
       "      <td>Logistic Regression</td>\n",
       "      <td>71.036683</td>\n",
       "      <td>28.963317</td>\n",
       "      <td>2294</td>\n",
       "      <td>1049</td>\n",
       "      <td>767</td>\n",
       "      <td>2160</td>\n",
       "      <td>68.620999</td>\n",
       "      <td>73.795695</td>\n",
       "      <td>74.942829</td>\n",
       "      <td>71.642723</td>\n",
       "    </tr>\n",
       "    <tr>\n",
       "      <th>2</th>\n",
       "      <td>Random Forest (max_depth =9)</td>\n",
       "      <td>72.105263</td>\n",
       "      <td>27.894737</td>\n",
       "      <td>2308</td>\n",
       "      <td>1035</td>\n",
       "      <td>714</td>\n",
       "      <td>2213</td>\n",
       "      <td>69.039785</td>\n",
       "      <td>75.606423</td>\n",
       "      <td>76.373263</td>\n",
       "      <td>72.521603</td>\n",
       "    </tr>\n",
       "    <tr>\n",
       "      <th>5</th>\n",
       "      <td>Support Vector Machine</td>\n",
       "      <td>72.153110</td>\n",
       "      <td>27.846890</td>\n",
       "      <td>2320</td>\n",
       "      <td>1023</td>\n",
       "      <td>723</td>\n",
       "      <td>2204</td>\n",
       "      <td>69.398744</td>\n",
       "      <td>75.298941</td>\n",
       "      <td>76.240552</td>\n",
       "      <td>72.658941</td>\n",
       "    </tr>\n",
       "    <tr>\n",
       "      <th>3</th>\n",
       "      <td>Random Forest (max_depth =9) (entropy)</td>\n",
       "      <td>71.993620</td>\n",
       "      <td>28.006380</td>\n",
       "      <td>2337</td>\n",
       "      <td>1006</td>\n",
       "      <td>750</td>\n",
       "      <td>2177</td>\n",
       "      <td>69.907269</td>\n",
       "      <td>74.376495</td>\n",
       "      <td>75.704568</td>\n",
       "      <td>72.690513</td>\n",
       "    </tr>\n",
       "    <tr>\n",
       "      <th>0</th>\n",
       "      <td>Decision Tree (max_depth =4)</td>\n",
       "      <td>71.228070</td>\n",
       "      <td>28.771930</td>\n",
       "      <td>2466</td>\n",
       "      <td>877</td>\n",
       "      <td>927</td>\n",
       "      <td>2000</td>\n",
       "      <td>73.766078</td>\n",
       "      <td>68.329347</td>\n",
       "      <td>72.679045</td>\n",
       "      <td>73.218527</td>\n",
       "    </tr>\n",
       "    <tr>\n",
       "      <th>1</th>\n",
       "      <td>Decision Tree (max_depth =4) (entropy)</td>\n",
       "      <td>71.228070</td>\n",
       "      <td>28.771930</td>\n",
       "      <td>2466</td>\n",
       "      <td>877</td>\n",
       "      <td>927</td>\n",
       "      <td>2000</td>\n",
       "      <td>73.766078</td>\n",
       "      <td>68.329347</td>\n",
       "      <td>72.679045</td>\n",
       "      <td>73.218527</td>\n",
       "    </tr>\n",
       "  </tbody>\n",
       "</table>\n",
       "</div>"
      ],
      "text/plain": [
       "                                    Title   Accuracy  Error rate    TP    FN  \\\n",
       "6                             Navie Bayes  69.234450   30.765550  2074  1269   \n",
       "4                     Logistic Regression  71.036683   28.963317  2294  1049   \n",
       "2            Random Forest (max_depth =9)  72.105263   27.894737  2308  1035   \n",
       "5                  Support Vector Machine  72.153110   27.846890  2320  1023   \n",
       "3  Random Forest (max_depth =9) (entropy)  71.993620   28.006380  2337  1006   \n",
       "0            Decision Tree (max_depth =4)  71.228070   28.771930  2466   877   \n",
       "1  Decision Tree (max_depth =4) (entropy)  71.228070   28.771930  2466   877   \n",
       "\n",
       "    FP    TN  Sensitivity  Specificity  Precision  F Measure  \n",
       "6  660  2267    62.040084    77.451315  75.859546  68.257364  \n",
       "4  767  2160    68.620999    73.795695  74.942829  71.642723  \n",
       "2  714  2213    69.039785    75.606423  76.373263  72.521603  \n",
       "5  723  2204    69.398744    75.298941  76.240552  72.658941  \n",
       "3  750  2177    69.907269    74.376495  75.704568  72.690513  \n",
       "0  927  2000    73.766078    68.329347  72.679045  73.218527  \n",
       "1  927  2000    73.766078    68.329347  72.679045  73.218527  "
      ]
     },
     "execution_count": 174,
     "metadata": {},
     "output_type": "execute_result"
    }
   ],
   "source": [
    "print('Sorted by sensitivity; Removed features height, weight, and gender')\n",
    "get_model_info(models, x_train, x_test, y_train, y_test, 'both')"
   ]
  },
  {
   "cell_type": "markdown",
   "metadata": {},
   "source": [
    "The max sensitivity results have not change.\n",
    "\n",
    "__Best accuracy__: Support Vector Machine (72.153110 %)   \n",
    "__Best sensitivity__: Decision Tree (73.766078 %)"
   ]
  },
  {
   "cell_type": "markdown",
   "metadata": {},
   "source": [
    "<br /> \n",
    "__Removing gluc, height, gender, and weight__ to see the results it yields me."
   ]
  },
  {
   "cell_type": "code",
   "execution_count": 175,
   "metadata": {},
   "outputs": [],
   "source": [
    "# remove height, gender, weight, gluc\n",
    "x = df.drop(columns = [ 'height', 'gender', 'cardio', 'weight', 'gluc'])\n",
    "\n",
    "# getting the training and test set \n",
    "train_test_set = get_train_test_set(x,y)\n",
    "x_train = train_test_set[0]\n",
    "x_test = train_test_set[1]\n",
    "y_train = train_test_set[2]\n",
    "y_test = train_test_set[3]"
   ]
  },
  {
   "cell_type": "code",
   "execution_count": 176,
   "metadata": {},
   "outputs": [
    {
     "name": "stdout",
     "output_type": "stream",
     "text": [
      "Sorted by sensitivity; Removed features height, weight, gluc, and gender\n"
     ]
    },
    {
     "data": {
      "text/html": [
       "<div>\n",
       "<style scoped>\n",
       "    .dataframe tbody tr th:only-of-type {\n",
       "        vertical-align: middle;\n",
       "    }\n",
       "\n",
       "    .dataframe tbody tr th {\n",
       "        vertical-align: top;\n",
       "    }\n",
       "\n",
       "    .dataframe thead th {\n",
       "        text-align: right;\n",
       "    }\n",
       "</style>\n",
       "<table border=\"1\" class=\"dataframe\">\n",
       "  <thead>\n",
       "    <tr style=\"text-align: right;\">\n",
       "      <th></th>\n",
       "      <th>Title</th>\n",
       "      <th>Accuracy</th>\n",
       "      <th>Error rate</th>\n",
       "      <th>TP</th>\n",
       "      <th>FN</th>\n",
       "      <th>FP</th>\n",
       "      <th>TN</th>\n",
       "      <th>Sensitivity</th>\n",
       "      <th>Specificity</th>\n",
       "      <th>Precision</th>\n",
       "      <th>F Measure</th>\n",
       "    </tr>\n",
       "  </thead>\n",
       "  <tbody>\n",
       "    <tr>\n",
       "      <th>6</th>\n",
       "      <td>Navie Bayes</td>\n",
       "      <td>70.031898</td>\n",
       "      <td>29.968102</td>\n",
       "      <td>2110</td>\n",
       "      <td>1233</td>\n",
       "      <td>646</td>\n",
       "      <td>2281</td>\n",
       "      <td>63.116961</td>\n",
       "      <td>77.929621</td>\n",
       "      <td>76.560232</td>\n",
       "      <td>69.191671</td>\n",
       "    </tr>\n",
       "    <tr>\n",
       "      <th>4</th>\n",
       "      <td>Logistic Regression</td>\n",
       "      <td>71.004785</td>\n",
       "      <td>28.995215</td>\n",
       "      <td>2292</td>\n",
       "      <td>1051</td>\n",
       "      <td>767</td>\n",
       "      <td>2160</td>\n",
       "      <td>68.561173</td>\n",
       "      <td>73.795695</td>\n",
       "      <td>74.926447</td>\n",
       "      <td>71.602624</td>\n",
       "    </tr>\n",
       "    <tr>\n",
       "      <th>2</th>\n",
       "      <td>Random Forest (max_depth =9)</td>\n",
       "      <td>72.089314</td>\n",
       "      <td>27.910686</td>\n",
       "      <td>2323</td>\n",
       "      <td>1020</td>\n",
       "      <td>730</td>\n",
       "      <td>2197</td>\n",
       "      <td>69.488483</td>\n",
       "      <td>75.059788</td>\n",
       "      <td>76.089093</td>\n",
       "      <td>72.639149</td>\n",
       "    </tr>\n",
       "    <tr>\n",
       "      <th>5</th>\n",
       "      <td>Support Vector Machine</td>\n",
       "      <td>72.312600</td>\n",
       "      <td>27.687400</td>\n",
       "      <td>2333</td>\n",
       "      <td>1010</td>\n",
       "      <td>726</td>\n",
       "      <td>2201</td>\n",
       "      <td>69.787616</td>\n",
       "      <td>75.196447</td>\n",
       "      <td>76.266754</td>\n",
       "      <td>72.883474</td>\n",
       "    </tr>\n",
       "    <tr>\n",
       "      <th>3</th>\n",
       "      <td>Random Forest (max_depth =9) (entropy)</td>\n",
       "      <td>72.328549</td>\n",
       "      <td>27.671451</td>\n",
       "      <td>2343</td>\n",
       "      <td>1000</td>\n",
       "      <td>735</td>\n",
       "      <td>2192</td>\n",
       "      <td>70.086748</td>\n",
       "      <td>74.888965</td>\n",
       "      <td>76.120858</td>\n",
       "      <td>72.979287</td>\n",
       "    </tr>\n",
       "    <tr>\n",
       "      <th>0</th>\n",
       "      <td>Decision Tree (max_depth =4)</td>\n",
       "      <td>71.116427</td>\n",
       "      <td>28.883573</td>\n",
       "      <td>2493</td>\n",
       "      <td>850</td>\n",
       "      <td>961</td>\n",
       "      <td>1966</td>\n",
       "      <td>74.573736</td>\n",
       "      <td>67.167749</td>\n",
       "      <td>72.177186</td>\n",
       "      <td>73.355892</td>\n",
       "    </tr>\n",
       "    <tr>\n",
       "      <th>1</th>\n",
       "      <td>Decision Tree (max_depth =4) (entropy)</td>\n",
       "      <td>71.116427</td>\n",
       "      <td>28.883573</td>\n",
       "      <td>2493</td>\n",
       "      <td>850</td>\n",
       "      <td>961</td>\n",
       "      <td>1966</td>\n",
       "      <td>74.573736</td>\n",
       "      <td>67.167749</td>\n",
       "      <td>72.177186</td>\n",
       "      <td>73.355892</td>\n",
       "    </tr>\n",
       "  </tbody>\n",
       "</table>\n",
       "</div>"
      ],
      "text/plain": [
       "                                    Title   Accuracy  Error rate    TP    FN  \\\n",
       "6                             Navie Bayes  70.031898   29.968102  2110  1233   \n",
       "4                     Logistic Regression  71.004785   28.995215  2292  1051   \n",
       "2            Random Forest (max_depth =9)  72.089314   27.910686  2323  1020   \n",
       "5                  Support Vector Machine  72.312600   27.687400  2333  1010   \n",
       "3  Random Forest (max_depth =9) (entropy)  72.328549   27.671451  2343  1000   \n",
       "0            Decision Tree (max_depth =4)  71.116427   28.883573  2493   850   \n",
       "1  Decision Tree (max_depth =4) (entropy)  71.116427   28.883573  2493   850   \n",
       "\n",
       "    FP    TN  Sensitivity  Specificity  Precision  F Measure  \n",
       "6  646  2281    63.116961    77.929621  76.560232  69.191671  \n",
       "4  767  2160    68.561173    73.795695  74.926447  71.602624  \n",
       "2  730  2197    69.488483    75.059788  76.089093  72.639149  \n",
       "5  726  2201    69.787616    75.196447  76.266754  72.883474  \n",
       "3  735  2192    70.086748    74.888965  76.120858  72.979287  \n",
       "0  961  1966    74.573736    67.167749  72.177186  73.355892  \n",
       "1  961  1966    74.573736    67.167749  72.177186  73.355892  "
      ]
     },
     "execution_count": 176,
     "metadata": {},
     "output_type": "execute_result"
    }
   ],
   "source": [
    "print('Sorted by sensitivity; Removed features height, weight, gluc, and gender')\n",
    "get_model_info(models, x_train, x_test, y_train, y_test, 'both')"
   ]
  },
  {
   "cell_type": "markdown",
   "metadata": {},
   "source": [
    "The reason for removing glucose is because as shown in the explanatory analysis almost all of the peoples glucose levels are normal. So this feature shouldn't play that big of a role in the prediction of the class label.The best model is the Decision Tree so far. The accuracy for the decision tree is lower here but it is only about .1 lower while the sensitivity has increased about 1 whole point.\n",
    "\n",
    "__Best accuracy__: Random Forest (entropy) (72.328549 %)   \n",
    "__Best sensitivity__: Decision Tree (74.573736 %)"
   ]
  },
  {
   "cell_type": "markdown",
   "metadata": {},
   "source": [
    "<br /> \n",
    "\n",
    "Testing Voting Classifier"
   ]
  },
  {
   "cell_type": "code",
   "execution_count": 177,
   "metadata": {},
   "outputs": [],
   "source": [
    "# import required libraries \n",
    "from sklearn.ensemble import VotingClassifier"
   ]
  },
  {
   "cell_type": "code",
   "execution_count": 178,
   "metadata": {},
   "outputs": [],
   "source": [
    "x = df.drop(columns = ['height', 'gender', 'cardio', 'weight', 'gluc'])\n",
    "\n",
    "training_testing_sets = get_train_test_set(x, y)\n",
    "x_train = training_testing_sets[0]\n",
    "x_test = training_testing_sets[1]\n",
    "y_train = training_testing_sets[2]\n",
    "y_test = training_testing_sets[3]"
   ]
  },
  {
   "cell_type": "code",
   "execution_count": 216,
   "metadata": {},
   "outputs": [],
   "source": [
    "# creating instances of all the classification techniques I plan on using \n",
    "log_model = LogisticRegression()\n",
    "forest_model = RandomForestClassifier(n_estimators = 130, max_depth = 9)\n",
    "decision_model = DecisionTreeClassifier(max_depth = 4)\n",
    "bayes_model = GaussianNB()\n",
    "svc_model = SVC()"
   ]
  },
  {
   "cell_type": "code",
   "execution_count": 217,
   "metadata": {},
   "outputs": [],
   "source": [
    "# using hard voting: majority voting wins \n",
    "all_models = VotingClassifier(estimators = [('log', log_model), ('r_forest', forest_model), ('d_tree', decision_model), \n",
    "                                      ('bayes', bayes_model), ('svc', svc_model)], voting = 'hard')\n",
    "\n",
    "two_models = VotingClassifier(estimators = [('d_tree', decision_model), ('r_forest', forest_model)], \n",
    "                                   voting = 'hard')\n",
    "\n",
    "three_models = VotingClassifier(estimators = [('d_tree', decision_model), ('r_forest', forest_model), ('svc', svc_model)], \n",
    "                                   voting = 'hard')\n",
    "\n",
    "four_models = VotingClassifier(estimators = [('d_tree', decision_model), ('r_forest', forest_model), ('svc', svc_model), \n",
    "                                                 ('log', log_model)], voting = 'hard')"
   ]
  },
  {
   "cell_type": "code",
   "execution_count": 218,
   "metadata": {},
   "outputs": [
    {
     "data": {
      "text/html": [
       "<div>\n",
       "<style scoped>\n",
       "    .dataframe tbody tr th:only-of-type {\n",
       "        vertical-align: middle;\n",
       "    }\n",
       "\n",
       "    .dataframe tbody tr th {\n",
       "        vertical-align: top;\n",
       "    }\n",
       "\n",
       "    .dataframe thead th {\n",
       "        text-align: right;\n",
       "    }\n",
       "</style>\n",
       "<table border=\"1\" class=\"dataframe\">\n",
       "  <thead>\n",
       "    <tr style=\"text-align: right;\">\n",
       "      <th></th>\n",
       "      <th>Title</th>\n",
       "      <th>Accuracy</th>\n",
       "      <th>Error rate</th>\n",
       "      <th>TP</th>\n",
       "      <th>FN</th>\n",
       "      <th>FP</th>\n",
       "      <th>TN</th>\n",
       "      <th>Sensitivity</th>\n",
       "      <th>Specificity</th>\n",
       "      <th>Precision</th>\n",
       "      <th>F Measure</th>\n",
       "    </tr>\n",
       "  </thead>\n",
       "  <tbody>\n",
       "    <tr>\n",
       "      <th>2</th>\n",
       "      <td>VotingClassifier</td>\n",
       "      <td>72.105263</td>\n",
       "      <td>27.894737</td>\n",
       "      <td>2321</td>\n",
       "      <td>1022</td>\n",
       "      <td>727</td>\n",
       "      <td>2200</td>\n",
       "      <td>69.428657</td>\n",
       "      <td>75.162282</td>\n",
       "      <td>76.148294</td>\n",
       "      <td>72.633391</td>\n",
       "    </tr>\n",
       "    <tr>\n",
       "      <th>0</th>\n",
       "      <td>VotingClassifier</td>\n",
       "      <td>72.105263</td>\n",
       "      <td>27.894737</td>\n",
       "      <td>2323</td>\n",
       "      <td>1020</td>\n",
       "      <td>729</td>\n",
       "      <td>2198</td>\n",
       "      <td>69.488483</td>\n",
       "      <td>75.093953</td>\n",
       "      <td>76.114024</td>\n",
       "      <td>72.650508</td>\n",
       "    </tr>\n",
       "    <tr>\n",
       "      <th>3</th>\n",
       "      <td>VotingClassifier</td>\n",
       "      <td>72.041467</td>\n",
       "      <td>27.958533</td>\n",
       "      <td>2331</td>\n",
       "      <td>1012</td>\n",
       "      <td>741</td>\n",
       "      <td>2186</td>\n",
       "      <td>69.727789</td>\n",
       "      <td>74.683977</td>\n",
       "      <td>75.878906</td>\n",
       "      <td>72.673422</td>\n",
       "    </tr>\n",
       "    <tr>\n",
       "      <th>1</th>\n",
       "      <td>VotingClassifier</td>\n",
       "      <td>72.169059</td>\n",
       "      <td>27.830941</td>\n",
       "      <td>2361</td>\n",
       "      <td>982</td>\n",
       "      <td>763</td>\n",
       "      <td>2164</td>\n",
       "      <td>70.625187</td>\n",
       "      <td>73.932354</td>\n",
       "      <td>75.576184</td>\n",
       "      <td>73.016855</td>\n",
       "    </tr>\n",
       "  </tbody>\n",
       "</table>\n",
       "</div>"
      ],
      "text/plain": [
       "              Title   Accuracy  Error rate    TP    FN   FP    TN  \\\n",
       "2  VotingClassifier  72.105263   27.894737  2321  1022  727  2200   \n",
       "0  VotingClassifier  72.105263   27.894737  2323  1020  729  2198   \n",
       "3  VotingClassifier  72.041467   27.958533  2331  1012  741  2186   \n",
       "1  VotingClassifier  72.169059   27.830941  2361   982  763  2164   \n",
       "\n",
       "   Sensitivity  Specificity  Precision  F Measure  \n",
       "2    69.428657    75.162282  76.148294  72.633391  \n",
       "0    69.488483    75.093953  76.114024  72.650508  \n",
       "3    69.727789    74.683977  75.878906  72.673422  \n",
       "1    70.625187    73.932354  75.576184  73.016855  "
      ]
     },
     "execution_count": 218,
     "metadata": {},
     "output_type": "execute_result"
    }
   ],
   "source": [
    "get_model_info([two_models, three_models, four_models, all_models], x_train, x_test, y_train, y_test, 'entropy')"
   ]
  },
  {
   "cell_type": "markdown",
   "metadata": {},
   "source": [
    "Using the voting classifier didn't yeild me better results for the sensitivity compared to the decision tree which I was able to achieve an sensitivity of 74.573736 %. Also it wasn't able to give me a better accuracy compared to the random forest that gave me an accuracy of 72.328549 %. "
   ]
  },
  {
   "cell_type": "markdown",
   "metadata": {},
   "source": [
    "<br />\n",
    "\n",
    "Testing the Bagging Classifer "
   ]
  },
  {
   "cell_type": "code",
   "execution_count": 219,
   "metadata": {},
   "outputs": [],
   "source": [
    "from sklearn.ensemble import BaggingClassifier"
   ]
  },
  {
   "cell_type": "code",
   "execution_count": 224,
   "metadata": {},
   "outputs": [],
   "source": [
    "model = BaggingClassifier(base_estimator = decision_model, n_estimators = 8)"
   ]
  },
  {
   "cell_type": "code",
   "execution_count": 225,
   "metadata": {},
   "outputs": [
    {
     "data": {
      "text/html": [
       "<div>\n",
       "<style scoped>\n",
       "    .dataframe tbody tr th:only-of-type {\n",
       "        vertical-align: middle;\n",
       "    }\n",
       "\n",
       "    .dataframe tbody tr th {\n",
       "        vertical-align: top;\n",
       "    }\n",
       "\n",
       "    .dataframe thead th {\n",
       "        text-align: right;\n",
       "    }\n",
       "</style>\n",
       "<table border=\"1\" class=\"dataframe\">\n",
       "  <thead>\n",
       "    <tr style=\"text-align: right;\">\n",
       "      <th></th>\n",
       "      <th>Title</th>\n",
       "      <th>Accuracy</th>\n",
       "      <th>Error rate</th>\n",
       "      <th>TP</th>\n",
       "      <th>FN</th>\n",
       "      <th>FP</th>\n",
       "      <th>TN</th>\n",
       "      <th>Sensitivity</th>\n",
       "      <th>Specificity</th>\n",
       "      <th>Precision</th>\n",
       "      <th>F Measure</th>\n",
       "    </tr>\n",
       "  </thead>\n",
       "  <tbody>\n",
       "    <tr>\n",
       "      <th>0</th>\n",
       "      <td>BaggingClassifier</td>\n",
       "      <td>71.339713</td>\n",
       "      <td>28.660287</td>\n",
       "      <td>2479</td>\n",
       "      <td>864</td>\n",
       "      <td>933</td>\n",
       "      <td>1994</td>\n",
       "      <td>74.154951</td>\n",
       "      <td>68.124359</td>\n",
       "      <td>72.655334</td>\n",
       "      <td>73.397483</td>\n",
       "    </tr>\n",
       "  </tbody>\n",
       "</table>\n",
       "</div>"
      ],
      "text/plain": [
       "               Title   Accuracy  Error rate    TP   FN   FP    TN  \\\n",
       "0  BaggingClassifier  71.339713   28.660287  2479  864  933  1994   \n",
       "\n",
       "   Sensitivity  Specificity  Precision  F Measure  \n",
       "0    74.154951    68.124359  72.655334  73.397483  "
      ]
     },
     "execution_count": 225,
     "metadata": {},
     "output_type": "execute_result"
    }
   ],
   "source": [
    "get_model_info([model], x_train, x_test, y_train, y_test)"
   ]
  },
  {
   "cell_type": "code",
   "execution_count": 227,
   "metadata": {},
   "outputs": [
    {
     "data": {
      "text/html": [
       "<div>\n",
       "<style scoped>\n",
       "    .dataframe tbody tr th:only-of-type {\n",
       "        vertical-align: middle;\n",
       "    }\n",
       "\n",
       "    .dataframe tbody tr th {\n",
       "        vertical-align: top;\n",
       "    }\n",
       "\n",
       "    .dataframe thead th {\n",
       "        text-align: right;\n",
       "    }\n",
       "</style>\n",
       "<table border=\"1\" class=\"dataframe\">\n",
       "  <thead>\n",
       "    <tr style=\"text-align: right;\">\n",
       "      <th></th>\n",
       "      <th>Title</th>\n",
       "      <th>Accuracy</th>\n",
       "      <th>Error rate</th>\n",
       "      <th>TP</th>\n",
       "      <th>FN</th>\n",
       "      <th>FP</th>\n",
       "      <th>TN</th>\n",
       "      <th>Sensitivity</th>\n",
       "      <th>Specificity</th>\n",
       "      <th>Precision</th>\n",
       "      <th>F Measure</th>\n",
       "    </tr>\n",
       "  </thead>\n",
       "  <tbody>\n",
       "    <tr>\n",
       "      <th>0</th>\n",
       "      <td>BaggingClassifier</td>\n",
       "      <td>71.116427</td>\n",
       "      <td>28.883573</td>\n",
       "      <td>2490</td>\n",
       "      <td>853</td>\n",
       "      <td>958</td>\n",
       "      <td>1969</td>\n",
       "      <td>74.483996</td>\n",
       "      <td>67.270243</td>\n",
       "      <td>72.215777</td>\n",
       "      <td>73.332352</td>\n",
       "    </tr>\n",
       "  </tbody>\n",
       "</table>\n",
       "</div>"
      ],
      "text/plain": [
       "               Title   Accuracy  Error rate    TP   FN   FP    TN  \\\n",
       "0  BaggingClassifier  71.116427   28.883573  2490  853  958  1969   \n",
       "\n",
       "   Sensitivity  Specificity  Precision  F Measure  \n",
       "0    74.483996    67.270243  72.215777  73.332352  "
      ]
     },
     "execution_count": 227,
     "metadata": {},
     "output_type": "execute_result"
    }
   ],
   "source": [
    "get_model_info([model], x_train, x_test, y_train, y_test, 'entropy')"
   ]
  },
  {
   "cell_type": "markdown",
   "metadata": {},
   "source": [
    "The sensitivity while doing bagging with decision tree and the criterion being gini was very close to the highest sensitivity that I was able to get so far. Also the accuracy is a bit higher than the decision tree that has the highest sensitivity. While doing bagging with decision tree and criterion being entropy lead me to a closer sensitivity to the max sensitivity that I was able to achieve, it didn't improve any of the other values. "
   ]
  },
  {
   "cell_type": "markdown",
   "metadata": {},
   "source": [
    "<br /> \n",
    "\n",
    "When it comes to the features you should use for your model they are __bmi, age, ap_hi, ap_lo, cholesterol, smoke, alco, active__\n",
    "\n",
    "When it comes to the models you should use the __Decision Tree with a max_depth of 4__\n",
    "\n",
    "The reason is because it has the highest sensitivity. Also the accuracy of the bagging classifers and the decision tree is so close and so are the other values that I decided that the decision tree would be the best model to use "
   ]
  }
 ],
 "metadata": {
  "kernelspec": {
   "display_name": "Python 3",
   "language": "python",
   "name": "python3"
  },
  "language_info": {
   "codemirror_mode": {
    "name": "ipython",
    "version": 3
   },
   "file_extension": ".py",
   "mimetype": "text/x-python",
   "name": "python",
   "nbconvert_exporter": "python",
   "pygments_lexer": "ipython3",
   "version": "3.8.3"
  }
 },
 "nbformat": 4,
 "nbformat_minor": 4
}
